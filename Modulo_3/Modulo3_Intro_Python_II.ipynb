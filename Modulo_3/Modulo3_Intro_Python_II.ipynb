{
 "cells": [
  {
   "cell_type": "markdown",
   "id": "63b1848a",
   "metadata": {},
   "source": [
    "# Modulo 3: Elementos de programación con Python II"
   ]
  },
  {
   "cell_type": "markdown",
   "id": "70835e73",
   "metadata": {},
   "source": [
    "# Estructuras de Control en Python\n",
    "\n",
    "En Python, las estructuras de control son constructos que te permiten controlar el flujo de ejecución de un programa. Son fundamentales para tomar decisiones, repetir acciones y realizar diferentes tareas basadas en ciertas condiciones. Entre las principales estructuras de control se encuentran:\n",
    "* Ejecución condicional.\n",
    "* Bucles/Loops\n"
   ]
  },
  {
   "cell_type": "markdown",
   "id": "d8d2aeb5",
   "metadata": {},
   "source": [
    "## 1. Ejecución condicional\n",
    "En Python, una ejecución condicional se refiere a la ejecución de un bloque de código basado en una condición o conjunto de condiciones. Esto se logra utilizando las estructuras de control `if`, `else` y `elif` para tomar decisiones y determinar qué parte del código se ejecutará.La ejecución condicional permite que tu programa tome diferentes caminos y realice acciones específicas según las condiciones establecidas.\n",
    "\n",
    "Antes profundizar en el tema, veamos algunos conceptos. "
   ]
  },
  {
   "cell_type": "markdown",
   "id": "cbb20f00",
   "metadata": {},
   "source": [
    "#### Expresiones booleanas\n",
    "\n",
    "Una expresión booleana es una expresión que se evalúa como verdadera (`True`) o falsa (`False`). Las expresiones booleanas son fundamentales en la programación, ya que se utilizan para realizar pruebas lógicas y tomar decisiones basadas en el resultado de dichas pruebas.\n",
    "\n",
    "Las expresiones booleanas pueden incluir operadores relacionales (como `==`, `!=`, `<`, `>`, `<=`, `>=`, `in`, `not in`) que comparan dos valores y devuelven un resultado booleano. También pueden incluir operadores lógicos (como `and`, `or`, `not`) que permiten combinar múltiples expresiones booleanas."
   ]
  },
  {
   "cell_type": "code",
   "execution_count": 1,
   "id": "35ada070",
   "metadata": {},
   "outputs": [
    {
     "name": "stdout",
     "output_type": "stream",
     "text": [
      "El resultado 1 es False\n",
      "El resultado 2 es True\n",
      "El resultado 3 es False\n"
     ]
    }
   ],
   "source": [
    "# Comparación de Números\n",
    "x = 5\n",
    "y = 10\n",
    "\n",
    "resultado1 = x == y\n",
    "print(f'El resultado 1 es {resultado1}')\n",
    "\n",
    "resultado2 = x < y   \n",
    "print(f'El resultado 2 es {resultado2}')\n",
    "\n",
    "resultado3 = x >= y  \n",
    "print(f'El resultado 3 es {resultado3}')\n"
   ]
  },
  {
   "cell_type": "code",
   "execution_count": 2,
   "id": "ff7571f9",
   "metadata": {},
   "outputs": [
    {
     "name": "stdout",
     "output_type": "stream",
     "text": [
      "El resultado 4 es False\n",
      "El resultado 5 es True\n"
     ]
    }
   ],
   "source": [
    "# Comparación de cadenas\n",
    "cadena1 = \"Hola\"\n",
    "cadena2 = \"hola\"\n",
    "\n",
    "resultado4 = cadena1 == cadena2 # La pomparción es sensible a mayúsculas y minúsculas\n",
    "print(f'El resultado 4 es {resultado4}')\n",
    "\n",
    "resultado5 = cadena1 != cadena2         \n",
    "print(f'El resultado 5 es {resultado5}')"
   ]
  },
  {
   "cell_type": "markdown",
   "id": "1ef4d34c",
   "metadata": {},
   "source": [
    "#### Operadores lógicos\n",
    "Un operador lógico en Python es un operador utilizado para realizar operaciones lógicas en expresiones booleanas. Estos operadores permiten combinar o negar valores booleanos y evaluar condiciones complejas. Existen tres operadores lógicos principales: `and`, `or` y `not`. Aquí tienes una descripción de cada uno de ellos:\n",
    "1. **Operador `and`:** Devuelve `True` si ambas expresiones son verdaderas; de lo contrario, devuelve `False`. Es conocido como el operador de conjunción.\n",
    "2. **Operador `or`:** Devuelve `True` si al menos una de las expresiones es verdadera; de lo contrario, devuelve `False`. Es conocido como el operador de disyunción.\n",
    "3. **Operador `not`**: Devuelve el valor opuesto de una expresión booleana. Si la expresión es `True`, devuelve `False`; si la expresión es False, devuelve True. Es conocido como el operador de negación."
   ]
  },
  {
   "cell_type": "code",
   "execution_count": 3,
   "id": "52a22b2a",
   "metadata": {},
   "outputs": [
    {
     "name": "stdout",
     "output_type": "stream",
     "text": [
      "True\n",
      "False\n",
      "False\n"
     ]
    }
   ],
   "source": [
    "# Operador 'and'\n",
    "x = 5\n",
    "y = 10\n",
    "print((x > 0) and (y < 20)) \n",
    "print((x > 0) and (y == 20))\n",
    "print((x == 0) and (y == 20))"
   ]
  },
  {
   "cell_type": "code",
   "execution_count": 4,
   "id": "86cbe8f9",
   "metadata": {},
   "outputs": [
    {
     "name": "stdout",
     "output_type": "stream",
     "text": [
      "True\n",
      "True\n",
      "False\n"
     ]
    }
   ],
   "source": [
    "# Operador 'or'\n",
    "x = 15\n",
    "y = 10\n",
    "print((x > 0) or (y > 20))\n",
    "print((x > 0) or (y == 20))\n",
    "print((x == 0) or (y == 20))"
   ]
  },
  {
   "cell_type": "code",
   "execution_count": 5,
   "id": "3b7a633d",
   "metadata": {},
   "outputs": [
    {
     "name": "stdout",
     "output_type": "stream",
     "text": [
      "False\n",
      "True\n",
      "False\n",
      "True\n"
     ]
    }
   ],
   "source": [
    "# Operador 'not'\n",
    "x = 15\n",
    "y = 10\n",
    "print(not(x > 0))\n",
    "print(not (y == 20))\n",
    "print( (x == 0) and not (y == 20))\n",
    "print(not (x == 0) or not (y == 20))"
   ]
  },
  {
   "cell_type": "markdown",
   "id": "46d609b4",
   "metadata": {},
   "source": [
    "## Condicionales: `if`\n",
    "\n",
    "Esta estructura nos permite ejecutar un bloque de código si una determinada condición se cumple. La sintaxis es la siguiente:\n",
    "\n",
    "```python\n",
    "if condicion:\n",
    "    accion # Bloque de código a ejecutar si la condición es verdadera\n",
    "```\n",
    "\n",
    "Lo anterior nos dice que un `if` tiene dos partes:\n",
    "1. La condición que se tiene que cumplir para que el bloque de código se ejecute.\n",
    "2. El bloque de código que se ejecutará si se cumple la condición anterior.\n",
    "\n",
    "**Importante: Es crucial recordar que la sentencia `if` debe finalizar con dos puntos `:` y el bloque de código a ejecutar debe estar correctamente indentado.**"
   ]
  },
  {
   "cell_type": "code",
   "execution_count": 6,
   "id": "bc58b08d",
   "metadata": {},
   "outputs": [
    {
     "name": "stdout",
     "output_type": "stream",
     "text": [
      "Eres mayor de edad\n"
     ]
    }
   ],
   "source": [
    "# Ejemplo 1\n",
    "edad = 18\n",
    "\n",
    "if edad >= 18:\n",
    "    print(\"Eres mayor de edad\")\n"
   ]
  },
  {
   "cell_type": "markdown",
   "id": "d18f8618",
   "metadata": {},
   "source": [
    "En el ejemplo anterior, con el operador `>=`, si la variable edad es igual o mayor a 18, se imprimirá el mensaje \"Eres mayor de edad\". Si la condición es falsa, es decir, si la variable edad es menor a 18, el bloque de código dentro del `if` no se ejecutará."
   ]
  },
  {
   "cell_type": "code",
   "execution_count": 7,
   "id": "d8997577",
   "metadata": {},
   "outputs": [
    {
     "name": "stdout",
     "output_type": "stream",
     "text": [
      "2.0 Está operación esta dentro del condicional\n",
      "Esto está por fuera del condicional\n"
     ]
    }
   ],
   "source": [
    "# Ejemplo 2\n",
    "x = 10\n",
    "y = 5\n",
    "\n",
    "if y != 0:\n",
    "    z = x/y\n",
    "    print(z, 'Está operación esta dentro del condicional')\n",
    "print('Esto está por fuera del condicional')"
   ]
  },
  {
   "cell_type": "markdown",
   "id": "cfb78a15",
   "metadata": {},
   "source": [
    "Se pueden utilizar operadores lógicos para combinar múltiples condiciones y evaluar expresiones booleanas más complejas. "
   ]
  },
  {
   "cell_type": "code",
   "execution_count": 8,
   "id": "014f47b5",
   "metadata": {},
   "outputs": [
    {
     "name": "stdout",
     "output_type": "stream",
     "text": [
      "Eres mayor de edad y vives en Cartagena\n"
     ]
    }
   ],
   "source": [
    "# Ejemplo 3\n",
    "edad = 25\n",
    "ciudad = \"Cartagena\"\n",
    "\n",
    "if edad >= 18 and ciudad == \"Cartagena\":\n",
    "    print(\"Eres mayor de edad y vives en Cartagena\")\n",
    "\n",
    "# En este ejemplo, el bloque de código dentro del if se ejecutará \n",
    "# si la edad es igual o mayor a 18 y si la ciudad es \"Madrid\"."
   ]
  },
  {
   "cell_type": "code",
   "execution_count": 9,
   "id": "febdff27",
   "metadata": {},
   "outputs": [
    {
     "name": "stdout",
     "output_type": "stream",
     "text": [
      "2.0\n"
     ]
    }
   ],
   "source": [
    "# Ejemplo 4\n",
    "x = 10\n",
    "y = 5\n",
    "\n",
    "if not x == 0:\n",
    "    z = x/y\n",
    "    print(z)\n",
    "    \n",
    "# Este ejemplo es equivalente al Ejemplo 2 "
   ]
  },
  {
   "cell_type": "markdown",
   "id": "4110dce9",
   "metadata": {},
   "source": [
    "## Condicionales múltiples: `else` y `elif`\n",
    "\n",
    "Es posible utilizar condicionales múltiples para evaluar diferentes casos y ejecutar bloques de código según cada caso. Los condicionales múltiples adicionando las estructuras de control `elif` (abreviatura de `else if`) y `else`. La sintaxis básica es la siguiente:\n",
    "\n",
    "* En caso de que se tenga una condición y una alternativa en caso de que no se cumpla:\n",
    "```python\n",
    "if condicion:\n",
    "    accion # Bloque de código a ejecutar si condicion1 es verdadera\n",
    "else:\n",
    "    alternativa # Bloque de código a ejecutar si la condició es falsas  \n",
    "```\n",
    "\n",
    "* En caso de que se tenga más de una condición:\n",
    "```python\n",
    "if condicion1:\n",
    "    accion1 # Bloque de código a ejecutar si condicion1 es verdadera\n",
    "elif condicion2:\n",
    "    accion2 # Bloque de código a ejecutar si condicion1 es falsa y condicion2 es verdadera\n",
    "elif condicion3:\n",
    "    accion3 # Bloque de código a ejecutar si condicion1 y condicion2 son falsas y condicion3 es verdadera\n",
    "```\n",
    "\n",
    "* En caso de que se tenga más de una condición y una alternativa en caso de que no se cumpla ninguna condicion:\n",
    "```python\n",
    "if condicion1:\n",
    "    accion1 # Bloque de código a ejecutar si condicion1 es verdadera\n",
    "elif condicion2:\n",
    "    accion2 # Bloque de código a ejecutar si condicion1 es falsa y condicion2 es verdadera\n",
    "elif condicion3:\n",
    "    accion3 # Bloque de código a ejecutar si condicion1 y condicion2 son falsas y condicion3 es verdadera\n",
    "else:\n",
    "    alternativa # Bloque de código a ejecutar si todas las condiciones anteriores son falsas\n",
    "```\n",
    "Las condiciones se evalúan en orden secuencial. Si alguna de las condiciones es verdadera, se ejecuta el bloque de código asociado y el condicional finaliza."
   ]
  },
  {
   "cell_type": "code",
   "execution_count": 10,
   "id": "c60b3027",
   "metadata": {},
   "outputs": [
    {
     "name": "stdout",
     "output_type": "stream",
     "text": [
      "El número no es 5\n"
     ]
    }
   ],
   "source": [
    "# Ejemplo 5\n",
    "x = 7\n",
    "if x == 5:\n",
    "    print('El número es 5')\n",
    "else:\n",
    "    print('El número no es 5')"
   ]
  },
  {
   "cell_type": "code",
   "execution_count": 11,
   "id": "edc45ebc",
   "metadata": {},
   "outputs": [
    {
     "name": "stdout",
     "output_type": "stream",
     "text": [
      "Eres joven\n"
     ]
    }
   ],
   "source": [
    "# Ejemplo 6\n",
    "edad = 25\n",
    "\n",
    "if edad < 18:\n",
    "    print(\"Eres menor de edad\")\n",
    "elif edad >= 18 and edad < 28:\n",
    "    print(\"Eres joven\")\n",
    "elif edad >= 25:\n",
    "    print(\"Eres adulto\")\n"
   ]
  },
  {
   "cell_type": "code",
   "execution_count": 12,
   "id": "8435531e",
   "metadata": {},
   "outputs": [
    {
     "name": "stdout",
     "output_type": "stream",
     "text": [
      "Tu nota es excelente\n"
     ]
    }
   ],
   "source": [
    "# Ejemplo 7\n",
    "nota = 4.9\n",
    "\n",
    "if nota >= 4.5:\n",
    "    print('Tu nota es excelente')\n",
    "elif nota >= 4:\n",
    "    print('Tu nota es sobresaliente')\n",
    "elif nota >= 3:\n",
    "    print('Aprobaste')\n",
    "else:\n",
    "    print('Reprobaste')"
   ]
  },
  {
   "cell_type": "markdown",
   "id": "b0032dd5",
   "metadata": {},
   "source": [
    "## Condicionales anidados\n",
    "En Python, un condicional puede también estar anidado dentro de otro para manejar situaciones más complejas. Esto se conoce como condicionales anidados. La sintaxis es la siguiente:\n",
    "\n",
    "```python\n",
    "if condicion1:\n",
    "    accion1 # Bloque de código a ejecutar si condicion1 es verdadera\n",
    "    if condicion2:\n",
    "        accion2# Bloque de código a ejecutar si condicion2 es verdadera\n",
    "    else:\n",
    "        alternativa2 # Bloque de código a ejecutar si condicion2 es falsa\n",
    "else:\n",
    "    alternativa1 # Bloque de código a ejecutar si condicion1 es falsa\n",
    "\n",
    "```"
   ]
  },
  {
   "cell_type": "code",
   "execution_count": 13,
   "id": "57362221",
   "metadata": {},
   "outputs": [
    {
     "name": "stdout",
     "output_type": "stream",
     "text": [
      "El número es positivo\n",
      "El número es par\n"
     ]
    }
   ],
   "source": [
    "# Ejemplo 9\n",
    "num = 10\n",
    "\n",
    "if num > 0:\n",
    "    print(\"El número es positivo\")\n",
    "    \n",
    "    if num % 2 == 0:\n",
    "        print(\"El número es par\")\n",
    "    else:\n",
    "        print(\"El número es impar\")\n",
    "        \n",
    "elif num == 0:\n",
    "    print(\"El número es cero\")\n",
    "    \n",
    "else:\n",
    "    print(\"El número es negativo\")\n"
   ]
  },
  {
   "cell_type": "markdown",
   "id": "5bfd2264",
   "metadata": {},
   "source": [
    "En el ejemplo anterior, si num es igual a 0, se imprime \"El número es cero\". Si no se cumple esa condición, se continúa con la evaluación de las otras condiciones. Si num es mayor que 0, se ejecutan las comprobaciones para determinar si es par o impar, como en el ejemplo anterior. Si ninguna de las condiciones anteriores se cumple, se imprime \"El número es negativo\".\n",
    "\n",
    "**Importante: Los bloques de código asociados a cada condición deben mantener la correcta indentación para que Python los interprete correctamente.**"
   ]
  },
  {
   "cell_type": "code",
   "execution_count": 14,
   "id": "d375f392",
   "metadata": {},
   "outputs": [
    {
     "name": "stdout",
     "output_type": "stream",
     "text": [
      "x es mayor que y\n"
     ]
    }
   ],
   "source": [
    "# Ejemplo 9\n",
    "x = 7\n",
    "y = 2\n",
    "\n",
    "if x == y:\n",
    "    print('x e y son iguales')\n",
    "else:\n",
    "    if x < y:\n",
    "        print('x es menor que y')\n",
    "    else:\n",
    "        print('x es mayor que y')\n",
    "\n"
   ]
  },
  {
   "cell_type": "markdown",
   "id": "37fad825",
   "metadata": {},
   "source": [
    "## 2. Loops (Bucles)\n",
    "Los loops (bucles) son útiles cuando se necesita realizar una tarea repetitiva sin tener que repetir manualmente el mismo código una y otra vez. \n",
    "\n",
    "Los principales loops en python son los siguientes:\n",
    "* Bucle `for`: Se utiliza para iterar sobre una secuencia (como una lista, tupla, cadena, etc.) o cualquier objeto iterable.\n",
    "* Bucle  `while`: Se ejecuta mientras una condición sea verdadera.\n",
    "\n",
    "#### Loop `for`\n",
    "\n",
    "```python\n",
    "ciudades = ['Cartagena','Bogota','Barranquilla','Medellin']\n",
    "for i in ciudades:\n",
    "    print(nombre)\n",
    "```\n",
    "En cada iteración, el bucle `for` toma el primer elemento de la lista `ciudades` y ejecuta el bloque de código correspondiente,`print()`. Después, pasa al siguiente elemento la lista y repite el proceso hasta que se agoten los elementos de dicha lista. `i` es una convención comúnmente utilizada para representar el contador o el índice de la iteración actual;  sin embargo, el nombre `i` no es obligatorio y puedes utilizar cualquier otro nombre de variable que tenga sentido en el contexto de tu programa. \n",
    "\n",
    "#### Loop `while`\n",
    "```python\n",
    "contador = 0\n",
    "while contador < 5:\n",
    "    print(contador)\n",
    "    contador += 1\n",
    "```\n",
    "Se inicializa un `contador` en 0 y se ejecuta el bucle `while` mientras el contador sea menor que 5. En cada iteración, se imprime el valor del contador y se incrementa en 1. El bucle se repetirá hasta que el contador alcance el valor de 5.\n",
    "\n",
    "**Importante: Al igual que en los condicionales, los bloques de código asociados a cada loop deben mantener la correcta indentación para que Python los interprete correctamente.**"
   ]
  },
  {
   "cell_type": "markdown",
   "id": "de99c5ab",
   "metadata": {},
   "source": [
    "### 2.1. Loop `for`"
   ]
  },
  {
   "cell_type": "code",
   "execution_count": 15,
   "id": "1798a09d",
   "metadata": {},
   "outputs": [
    {
     "name": "stdout",
     "output_type": "stream",
     "text": [
      "Cartagena\n",
      "Bogota\n",
      "Barranquilla\n",
      "Medellin\n"
     ]
    }
   ],
   "source": [
    "# Ejemplo 1\n",
    "ciudades = ['Cartagena','Bogota','Barranquilla','Medellin']\n",
    "for i in ciudades:\n",
    "    print(i)"
   ]
  },
  {
   "cell_type": "code",
   "execution_count": 16,
   "id": "42a92f38",
   "metadata": {},
   "outputs": [
    {
     "name": "stdout",
     "output_type": "stream",
     "text": [
      "Feliz año nuevo: John Nash\n",
      "Feliz año nuevo: Alan Turing\n",
      "Feliz año nuevo: Joan Clarke\n",
      "¡Terminado!\n"
     ]
    }
   ],
   "source": [
    "# Ejemplo 2\n",
    "amigos = ['John Nash', 'Alan Turing', 'Joan Clarke']\n",
    "for amigo in amigos:\n",
    "    print('Feliz año nuevo:', amigo)\n",
    "print('¡Terminado!') # Fuera del loop\n"
   ]
  },
  {
   "cell_type": "code",
   "execution_count": 17,
   "id": "b750a78b",
   "metadata": {},
   "outputs": [
    {
     "name": "stdout",
     "output_type": "stream",
     "text": [
      "[8, 10, 14, 16, 19, 26, 28, 30, 31, 34]\n",
      "[64, 100, 196, 256, 361, 676, 784, 900, 961, 1156]\n"
     ]
    }
   ],
   "source": [
    "# Ejemplo 3: Calculando el cuadrado de cada elemento de una lista\n",
    "numeros = [8, 10, 14, 16, 19, 26, 28, 30, 31, 34] # Generamos una lista con número enteros\n",
    "cuadrado = list() # Generamos una lista vacía\n",
    "\n",
    "for num in numeros:\n",
    "    a = num**2  # Se calcula el cuadrado del número i se guarda en la variable\n",
    "    cuadrado.append(a) # Se agrega el elemento al final de la lista cuadrado\n",
    "    \n",
    "print(numeros)\n",
    "print(cuadrado)"
   ]
  },
  {
   "cell_type": "markdown",
   "id": "37c11ced",
   "metadata": {},
   "source": [
    "En Python se utiliza el método `zip()` para combinar elementos de dos o más iterables en pares ordenados. Se puede usar `zip()` en un bucle for para iterar simultáneamente sobre múltiples iterables."
   ]
  },
  {
   "cell_type": "code",
   "execution_count": 18,
   "id": "e832a545",
   "metadata": {},
   "outputs": [
    {
     "name": "stdout",
     "output_type": "stream",
     "text": [
      "Mi nombre es Juan y tengo 25 años\n",
      "Mi nombre es María y tengo 30 años\n",
      "Mi nombre es Pedro y tengo 35 años\n"
     ]
    }
   ],
   "source": [
    "# Ejemplo 4: con dos iterables\n",
    "nombres = ['Juan', 'María', 'Pedro']\n",
    "edades = [25, 30, 35]\n",
    "\n",
    "for nombre, edad in zip(nombres, edades):\n",
    "    print(f'Mi nombre es {nombre} y tengo {edad} años')\n"
   ]
  },
  {
   "cell_type": "markdown",
   "id": "e13e2c86",
   "metadata": {},
   "source": [
    "En el ejemplo anterios, tenemos dos listas: nombres y edades. Utilizamos `zip(nombres, edades)` para combinar los elementos de ambas listas en pares ordenados. En cada iteración del loop `for`, se extraen los elementos correspondientes de cada iterable y se asignan a las variables nombre y edad. Luego, imprimimos el nombre y la edad."
   ]
  },
  {
   "cell_type": "markdown",
   "id": "64c9eb4a",
   "metadata": {},
   "source": [
    "Tambien podemos anidar loops, es decir, incluir loops dentro de otros loops."
   ]
  },
  {
   "cell_type": "code",
   "execution_count": 19,
   "id": "318ddfff",
   "metadata": {
    "scrolled": true
   },
   "outputs": [
    {
     "name": "stdout",
     "output_type": "stream",
     "text": [
      "Fila 0 - Columna 0\n",
      "Fila 0 - Columna 1\n",
      "Fila 0 - Columna 2\n",
      "Fila 0 - Columna 3\n",
      "Fila 1 - Columna 0\n",
      "Fila 1 - Columna 1\n",
      "Fila 1 - Columna 2\n",
      "Fila 1 - Columna 3\n",
      "Fila 2 - Columna 0\n",
      "Fila 2 - Columna 1\n",
      "Fila 2 - Columna 2\n",
      "Fila 2 - Columna 3\n"
     ]
    }
   ],
   "source": [
    "# Ejemplo 5: Loops anidados\n",
    "filas = 3\n",
    "columnas = 4\n",
    "\n",
    "for i in range(filas):\n",
    "    for j in range(columnas):\n",
    "        print(f\"Fila {i} - Columna {j}\")"
   ]
  },
  {
   "cell_type": "markdown",
   "id": "ac6a4335",
   "metadata": {},
   "source": [
    "En el ejemplo anterior, utilizamos dos variables, `filas` y `columnas`, para determinar el tamaño de una matriz. Luego, utilizamos un loop `for` anidado para recorrer todas las filas y columnas de la matriz.\n",
    "\n",
    "El loop exterior `for` itera sobre los índices de las filas (0, 1, 2 en este caso), mientras que el loop interior `for` itera sobre los índices de las columnas (0, 1, 2, 3 en este caso). Dentro del `loop` anidado, imprimimos la información de la fila y la columna utilizando f-strings para mostrar el número de fila y columna correspondiente."
   ]
  },
  {
   "cell_type": "markdown",
   "id": "af69acc4",
   "metadata": {},
   "source": [
    "### 2.2. Loop `while`"
   ]
  },
  {
   "cell_type": "code",
   "execution_count": 20,
   "id": "a3e62344",
   "metadata": {},
   "outputs": [
    {
     "name": "stdout",
     "output_type": "stream",
     "text": [
      "10\n",
      "9\n",
      "8\n",
      "7\n",
      "6\n",
      "5\n",
      "4\n",
      "3\n",
      "2\n",
      "1\n",
      "¡Despegue!\n"
     ]
    }
   ],
   "source": [
    "# Ejemplo 6: conteo regresivo\n",
    "n = 10\n",
    "while n > 0:\n",
    "    print(n)\n",
    "    n -= 1\n",
    "print('¡Despegue!')"
   ]
  },
  {
   "cell_type": "code",
   "execution_count": 21,
   "id": "4fe122fe",
   "metadata": {},
   "outputs": [
    {
     "name": "stdout",
     "output_type": "stream",
     "text": [
      "['Dos', 'Tres']\n",
      "['Tres']\n",
      "[]\n"
     ]
    }
   ],
   "source": [
    "# Ejemplo 7\n",
    "x = [\"Uno\", \"Dos\", \"Tres\"]\n",
    "while x:\n",
    "    x.pop(0)\n",
    "    print(x)"
   ]
  },
  {
   "cell_type": "markdown",
   "id": "874621ca",
   "metadata": {},
   "source": [
    "En el ejemplo anterior, se evalúa la condición del loop `while`: mientras la lista `x` no esté vacía, se ejecutará el bloque de código dentro del loop. Dentro del loop, se utiliza el método `pop(0)` para eliminar el elemento en la posición 0 de la lista `x`. "
   ]
  },
  {
   "cell_type": "markdown",
   "id": "714d50d5",
   "metadata": {},
   "source": [
    "En Python, se pueden ejecutar **loops infinitos**, que son estructura de control que se ejecuta de forma continua **sin una condición de salida definida o si no se cumple nunca una condición**. "
   ]
  },
  {
   "cell_type": "code",
   "execution_count": 22,
   "id": "b56171a3",
   "metadata": {},
   "outputs": [],
   "source": [
    "# Ejemplo 8: ¡NO EJECUTAR ESTO! Es en serio, por eso esta todo comentado =D\n",
    "\n",
    "#x = -1\n",
    "#while x < 1:\n",
    "#    print(x)\n",
    "    "
   ]
  },
  {
   "cell_type": "code",
   "execution_count": 23,
   "id": "287f13de",
   "metadata": {},
   "outputs": [
    {
     "name": "stdout",
     "output_type": "stream",
     "text": [
      "0\n",
      "1\n",
      "2\n",
      "3\n",
      "4\n",
      "Fin del bucle\n"
     ]
    }
   ],
   "source": [
    "# Ejemplo 9: Loop while y else\n",
    "i = 0\n",
    "while i < 5:\n",
    "    print(i)\n",
    "    i += 1\n",
    "else:\n",
    "    print(\"Fin del bucle\")"
   ]
  },
  {
   "cell_type": "markdown",
   "id": "40fa810d",
   "metadata": {},
   "source": [
    "En el ejemplo anterior, el loop `while` se ejecuta mientras `i` sea menor que 5. En cada iteración, se imprime el valor actual de `i` y se incrementa en 1. Una vez que la condición `i < 5` se vuelve falsa, el loop sale y se ejecuta el bloque de código en la cláusula `else`."
   ]
  },
  {
   "cell_type": "markdown",
   "id": "abeb7daa",
   "metadata": {},
   "source": [
    "# 3. Lista de compresión\n",
    "Una lista de comprensión en Python es una forma concisa y poderosa de crear listas a partir de secuencias existentes o de aplicar transformaciones a elementos de una secuencia. Se basa en una sintaxis compacta que combina un bucle `for` con una expresión condicional. \n",
    "\n",
    "Las listas de comprensión son una forma elegante y eficiente de generar listas en Python, ya que permiten realizar transformaciones y filtrados en una sola línea de código. Son muy útiles cuando se trabaja con grandes volúmenes de datos o se necesita crear listas de forma rápida.\n",
    "\n",
    "La sintaxis general de una lista de comprensión es la siguiente:\n",
    "\n",
    "```python\n",
    "lista = [expresion for elemento in secuencia if condicion]\n",
    "```\n",
    "La intuición es la siguiente: para cada elemento en la secuencia, si cumple con la condición, aplica la expresión y agrega el resultado a la lista.\n"
   ]
  },
  {
   "cell_type": "code",
   "execution_count": 24,
   "id": "e2062f4a",
   "metadata": {},
   "outputs": [
    {
     "data": {
      "text/plain": [
       "[0, 1, 4, 9, 16, 25, 36, 49, 64, 81, 100]"
      ]
     },
     "execution_count": 24,
     "metadata": {},
     "output_type": "execute_result"
    }
   ],
   "source": [
    "cuadrados = [x ** 2 for x in range(11)]\n",
    "cuadrados"
   ]
  },
  {
   "cell_type": "code",
   "execution_count": 25,
   "id": "e4ea6744",
   "metadata": {},
   "outputs": [
    {
     "data": {
      "text/plain": [
       "[2, 4, 6, 8, 10, 12, 14, 16, 18, 20]"
      ]
     },
     "execution_count": 25,
     "metadata": {},
     "output_type": "execute_result"
    }
   ],
   "source": [
    "numeros = [1, 2, 3, 4, 5,6,7,8,9,10,11,12,13,14,15,16,17,18,19,20]\n",
    "pares = [x for x in numeros if x % 2 == 0]\n",
    "pares"
   ]
  },
  {
   "cell_type": "markdown",
   "id": "7fcd37c4",
   "metadata": {},
   "source": [
    "# 4. Funciones en Python\n",
    "\n",
    "Una función es un bloque de código reutilizable que realiza una tarea específica. Proporciona una forma de organizar el código en bloques lógicos y modularizarlo para facilitar su mantenimiento y reutilización.\n",
    "\n",
    "Python proporciona una amplia variedad de funciones incorporadas (built-in functions) que están disponibles directamente sin la necesidad de importar ningún módulo adicional. Algunas de las funciones built-in más importantes en Python son las siguientes:\n",
    "\n",
    "* **print():** Se utiliza para imprimir mensajes en la consola o terminal.\n",
    "* **len():** Devuelve la longitud (cantidad de elementos) de una secuencia, como una cadena, lista o tupla.\n",
    "* **type():** Devuelve el tipo de un objeto, como int, str, list, dict, etc.\n",
    "* **input():** Permite al usuario ingresar datos desde la consola y los devuelve como una cadena.\n",
    "* **int(), float(), str(), bool():** Se utilizan para convertir valores a tipos de datos específicos.\n",
    "* **range():** Genera una secuencia de números enteros en un rango especificado.\n",
    "* **max(), min():** Devuelven el valor máximo o mínimo de una secuencia.\n",
    "* **sum():** Calcula la suma de los elementos de una secuencia numérica.\n",
    "* **sorted():** Devuelve una nueva lista ordenada a partir de una secuencia.\n",
    "* **abs():** Devuelve el valor absoluto de un número.\n",
    "* **round():** Redondea un número al número entero más cercano.\n",
    "* **any(), all():** Verifican si algún elemento o todos los elementos de una secuencia cumplen una condición booleana.\n",
    "\n",
    "Puedes encontrar una lista completa de las funciones built-in en la documentación oficial de Python: https://docs.python.org/es/3/library/functions.html"
   ]
  },
  {
   "cell_type": "markdown",
   "id": "fff2faa2",
   "metadata": {},
   "source": [
    "## 4.1. Definición de Funciones en Python\n",
    "\n",
    "Una función se define utilizando la palabra clave `def`, seguida del nombre de la función y paréntesis que pueden contener los argumentos de la función. La sintaxis general de una función en Python es la siguiente:\n",
    "\n",
    "```python\n",
    "def nombre_funcion(argumentos):\n",
    "    '''\n",
    "    Aquí se puede poner la documentación de la funció\n",
    "    explicando los argumentos que estan en ella.\n",
    "    '''\n",
    "    \n",
    "    # Cuerpo de la función\n",
    "    # Realizar acciones\n",
    "    return retorno # Retornar valores si es necesario\n",
    "```\n",
    "\n",
    "**Importante: Al igual que en los condicionales y los loops, los bloques de código asociados a cada función definida deben mantener la correcta indentación para que Python los interprete correctamente. La función que se crea puede tener tantos argumentos como sea n ecesario.**"
   ]
  },
  {
   "cell_type": "code",
   "execution_count": 26,
   "id": "800c9951",
   "metadata": {},
   "outputs": [
    {
     "name": "stdout",
     "output_type": "stream",
     "text": [
      "¡Hola! Bienvenido al MOOC de Introducción a data analytics para economistas.\n"
     ]
    }
   ],
   "source": [
    "# Ejemplo 1: Función sin argumentos\n",
    "def saludo():\n",
    "    print(\"¡Hola! Bienvenido al MOOC de Introducción a data analytics para economistas.\")\n",
    "\n",
    "saludo()  # Se llama la función"
   ]
  },
  {
   "cell_type": "markdown",
   "id": "f58ce5d3",
   "metadata": {},
   "source": [
    "En el ejemplo anterior, la función `saludo` no tiene ningún argumento entre paréntesis. Simplemente imprime un mensaje de saludo en la consola. Luego, se realiza la llamada a la función `saludo()` para ejecutar el código dentro de la función y mostrar el mensaje. Al no tener argumentos, esta función se puede llamar sin pasar ningún valor. Es útil para realizar tareas simples o imprimir mensajes estáticos."
   ]
  },
  {
   "cell_type": "code",
   "execution_count": 27,
   "id": "80cd58d4",
   "metadata": {},
   "outputs": [
    {
     "name": "stdout",
     "output_type": "stream",
     "text": [
      "La fecha actual es: 2023-07-02\n"
     ]
    }
   ],
   "source": [
    "# Ejemplo extra: Función sin argumentos\n",
    "import datetime\n",
    "\n",
    "def fecha_actual():\n",
    "    fecha_actual = datetime.date.today()\n",
    "    print(\"La fecha actual es:\", fecha_actual)\n",
    "\n",
    "fecha_actual()  # Se llama la función"
   ]
  },
  {
   "cell_type": "code",
   "execution_count": 28,
   "id": "ea25fabc",
   "metadata": {},
   "outputs": [
    {
     "name": "stdout",
     "output_type": "stream",
     "text": [
      "El resultado es: 25\n"
     ]
    }
   ],
   "source": [
    "# Ejemplo 2: Función con un argumento\n",
    "\n",
    "def el_cuadrado(numero):\n",
    "    \"\"\"\n",
    "    Esta función calcula el cuadrado de un número.\n",
    "    \n",
    "    Argumentos:\n",
    "    - numero: El número al que se le calculará el cuadrado.\n",
    "    \n",
    "    Retorna:\n",
    "    El resultado de elevar el número al cuadrado.\n",
    "    \"\"\"\n",
    "    cuadrado = numero ** 2\n",
    "    return cuadrado\n",
    "\n",
    "# Utilizamos la función\n",
    "resultado = el_cuadrado(5)\n",
    "print(\"El resultado es:\", resultado)"
   ]
  },
  {
   "cell_type": "markdown",
   "id": "4d847250",
   "metadata": {},
   "source": [
    "En el ejemplo anterior, la función `el_cuadrado` recibe un argumento llamado `numero`. Dentro de la función, se calcula el cuadrado del número utilizando el operador `**` y se almacena en la variable `cuadrado`. Luego, se utiliza la declaración `return` para devolver el valor calculado. \n",
    "\n",
    "**Importante: La variable `cuadrado` dentro de la función es una variable local, lo que significa que solo existe dentro del ámbito de la función. Esta variable es temporal y se crea cuando la función se ejecuta, y se destruye cuando la función termina su ejecución. Por otro lado, si no se declara `return` en una función, por defecto, la función retornará `None` al finalizar su ejecución y el resultado no sé podrá guardar en ninguna variable que se declare.**"
   ]
  },
  {
   "cell_type": "markdown",
   "id": "22477715",
   "metadata": {},
   "source": [
    "También se ha agregado una cadena de documentación (docstring) a la función La cadena de documentación proporciona información sobre la función, incluyendo una descripción breve y la explicación de los argumentos y el valor de retorno.\n",
    "\n",
    "Al utilizar la función `help()` para mostrar la documentación de la función `el_cuadrado`, se obtendrá la siguiente información."
   ]
  },
  {
   "cell_type": "code",
   "execution_count": 29,
   "id": "572fd7ce",
   "metadata": {
    "scrolled": true
   },
   "outputs": [
    {
     "name": "stdout",
     "output_type": "stream",
     "text": [
      "Help on function el_cuadrado in module __main__:\n",
      "\n",
      "el_cuadrado(numero)\n",
      "    Esta función calcula el cuadrado de un número.\n",
      "    \n",
      "    Argumentos:\n",
      "    - numero: El número al que se le calculará el cuadrado.\n",
      "    \n",
      "    Retorna:\n",
      "    El resultado de elevar el número al cuadrado.\n",
      "\n"
     ]
    }
   ],
   "source": [
    "# Documentación de la función del Ejemplo 2.\n",
    "help(el_cuadrado)"
   ]
  },
  {
   "cell_type": "markdown",
   "id": "9fd17e14",
   "metadata": {},
   "source": [
    "### Argumentos por posición\n",
    "\n",
    "En Python, **los argumentos de una función se pueden pasar por posición**. Esto significa que los valores se asignan a los parámetros en el orden en que se pasan al llamar a la función. Si se incluyen menos o más argumentos de los que la función requiere retornará un error. "
   ]
  },
  {
   "cell_type": "code",
   "execution_count": 30,
   "id": "036b222e",
   "metadata": {},
   "outputs": [
    {
     "data": {
      "text/plain": [
       "3"
      ]
     },
     "execution_count": 30,
     "metadata": {},
     "output_type": "execute_result"
    }
   ],
   "source": [
    "# Ejemplo 3\n",
    "def resta(a, b):\n",
    "    resultado = a - b\n",
    "    return resultado\n",
    "\n",
    "resta(9, 6) # Llamamos la función"
   ]
  },
  {
   "cell_type": "markdown",
   "id": "cfad6a3f",
   "metadata": {},
   "source": [
    "En el ejemplo anterior, la función `resta` tiene dos parámetros `a` y `b`. Al llamar a la función `resta(9, 6)`, el valor 9 se asigna al parámetro `a` y el valor 6 se asigna al parámetro `b`. Dentro de la función, se realiza la resta de `a` y `b`, y se retorna el resultado.\n",
    "\n",
    "Es importante tener en cuenta el orden de los argumentos al llamar a una función por posición. Si los argumentos se pasan en un orden incorrecto, el resultado puede ser inesperado o la función puede arrojar un error."
   ]
  },
  {
   "cell_type": "markdown",
   "id": "04baffa1",
   "metadata": {},
   "source": [
    "### Argumentos por nombre\n",
    "\n",
    "Además de los argumentos por posición, también es posible utilizar **argumentos por nombre** al llamar a una función. Esto permite especificar los valores de los parámetros de la función de manera explícita, indicando el nombre del parámetro seguido de un signo igual `(=)` y el valor correspondiente."
   ]
  },
  {
   "cell_type": "code",
   "execution_count": 31,
   "id": "52e46fe2",
   "metadata": {},
   "outputs": [
    {
     "name": "stdout",
     "output_type": "stream",
     "text": [
      "Bienvenidos al MOOC de Data Analytics\n",
      "Bienvenidos al MOOC de Data Analytics\n"
     ]
    }
   ],
   "source": [
    "# Ejemplo 4\n",
    "def concat_texto(texto1, texto2):\n",
    "    concatenado = texto1 + texto2\n",
    "    return concatenado\n",
    "\n",
    "concatenacion1 = concat_texto(texto1=\"Bienvenidos al \", texto2=\"MOOC de Data Analytics\")\n",
    "print(concatenacion1)  \n",
    "\n",
    "concatenacion2 = concat_texto(texto2=\"MOOC de Data Analytics\" ,texto1=\"Bienvenidos al \")\n",
    "print(concatenacion2) \n",
    "\n"
   ]
  },
  {
   "cell_type": "markdown",
   "id": "d19c4747",
   "metadata": {},
   "source": [
    "En este caso, la función `concat_texto` tiene dos parámetros cadena1 y cadena2. Al llamar a la función `concat_texto(texto1=\"Bienvenidos al \", texto2=\"MOOC de Data Analytics\")`, se especifican los valores de los parámetros utilizando argumentos por nombre. El valor `\"Bienvenidos al \"` se asigna al parámetro `texto1` y el valor `\"MOOC de Data Analytics\"` se asigna al parámetro `texto2`.\n",
    "\n",
    "**La ventaja de utilizar argumentos por nombre es que no es necesario recordar el orden de los parámetros al llamar a la función.** Además, también es posible omitir argumentos por nombre y utilizar solo los necesarios."
   ]
  },
  {
   "cell_type": "markdown",
   "id": "086e67e9",
   "metadata": {},
   "source": [
    "### Argumentos por defectos (obligarotios)\n",
    "\n",
    "Los argumentos por defecto son aquellos que tienen un valor predefinido y pueden ser omitidos al llamar a la función. Para definir un argumento por defecto, se asigna un valor al parámetro correspondiente en la declaración de la función."
   ]
  },
  {
   "cell_type": "code",
   "execution_count": 32,
   "id": "a5a6862c",
   "metadata": {},
   "outputs": [
    {
     "name": "stdout",
     "output_type": "stream",
     "text": [
      "Hola, Alan Turing!\n",
      "Buen día, Joan Clarke!\n"
     ]
    }
   ],
   "source": [
    "# Ejemplo 5\n",
    "def saludar(nombre, saludo=\"Hola\"):\n",
    "    mensaje = saludo + \", \" + nombre + \"!\"\n",
    "    return mensaje\n",
    "\n",
    "# Llamada a la función sin especificar el valor del argumento por defecto\n",
    "saludo_predeterminado = saludar(\"Alan Turing\")\n",
    "print(saludo_predeterminado) \n",
    "\n",
    "# Llamada a la función especificando un valor diferente para el argumento por defecto\n",
    "saludo_personalizado = saludar(\"Joan Clarke\", saludo=\"Buen día\")\n",
    "print(saludo_personalizado)"
   ]
  },
  {
   "cell_type": "markdown",
   "id": "438855bd",
   "metadata": {},
   "source": [
    "En este ejemplo, la función `saludar` tiene dos parámetros: `nombre` y `saludo`. El parámetro saludo tiene asignado por defecto el valor `\"Hola\"`. Si al llamar a la función no se especifica un valor para `saludo`, se utilizará el **valor por defecto**. Si se desea utilizar un valor diferente, se puede especificar el valor deseado al llamar a la función."
   ]
  },
  {
   "cell_type": "markdown",
   "id": "8e15e39e",
   "metadata": {},
   "source": [
    "### Argumentos no definidos: `*args` y `*kwargs`\n",
    "\n",
    "Es posible definir funciones con un número variable de argumentos, es decir, argumentos que no están especificados de antemano. Los argumentos `*args` y `**kwargs` permiten definir funciones con un número variable de argumentos. Estos argumentos no definidos se utilizan cuando no sabemos cuántos argumentos se pasarán a la función o si queremos permitir argumentos adicionales de palabras clave. \n",
    "\n",
    "* **`*args`** permite pasar un número variable de argumentos posicionales a la función. Los argumentos se recopilan en una tupla y se pueden acceder utilizando el nombre `args`.\n",
    "\n",
    "* **`**kwargs`** permite pasar un número variable de argumentos de palabras clave a la función. Los argumentos se recopilan en un diccionario y se pueden acceder utilizando el nombre `kwargs`."
   ]
  },
  {
   "cell_type": "code",
   "execution_count": 33,
   "id": "f72578e5",
   "metadata": {},
   "outputs": [
    {
     "name": "stdout",
     "output_type": "stream",
     "text": [
      "Hola, John Nash\n",
      "Hola, John Nash, Alan Turing\n",
      "Hola, John Nash, Alan Turing, Joan Clarke\n"
     ]
    }
   ],
   "source": [
    "# Ejemplo 6: Utilizamos *args\n",
    "def saludar(*args):\n",
    "    nombres = \", \".join(args)\n",
    "    print(\"Hola,\", nombres)\n",
    "\n",
    "saludar(\"John Nash\") # Un argumento\n",
    "saludar(\"John Nash\", \"Alan Turing\") # Dos argumentos\n",
    "saludar(\"John Nash\", \"Alan Turing\", \"Joan Clarke\") # Tres argumentos"
   ]
  },
  {
   "cell_type": "code",
   "execution_count": 34,
   "id": "f4740b44",
   "metadata": {},
   "outputs": [
    {
     "name": "stdout",
     "output_type": "stream",
     "text": [
      "a = 5\n",
      "b = 10\n",
      "c = 15\n",
      "Resultado: 30\n"
     ]
    }
   ],
   "source": [
    "# Ejemplo 7: Utilizamos **kwargs\n",
    "def suma(**kwargs):\n",
    "    s = 0\n",
    "    for clave, valor in kwargs.items():\n",
    "        print(clave, \"=\", valor)\n",
    "        s += valor\n",
    "    return s\n",
    "\n",
    "resultado = suma(a=5, b=10, c=15)\n",
    "print(\"Resultado:\", resultado)"
   ]
  },
  {
   "cell_type": "markdown",
   "id": "fdaedce7",
   "metadata": {},
   "source": [
    "En el ejemplo anteriro, la función `suma` recibe un número variable de argumentos de palabra clave utilizando `**kwargs`. Dentro del loop `fo`r, se recorren las claves y valores del diccionario `kwargs`. Se imprime cada clave y su valor correspondiente. Además, se realiza la suma de todos los valores utilizando la variable `s`. Al final, se retorna el resultado de la suma.\n",
    "\n",
    "Al llamar a la función `suma` con los argumentos de palabra clave `a=5`, `b=10` y `c=15`, se imprimirán las claves y valores correspondientes. Luego, se mostrará el resultado de la suma, que en este caso es 30."
   ]
  },
  {
   "cell_type": "markdown",
   "id": "402a0e59",
   "metadata": {},
   "source": [
    "## 4.2. Funciones Anónimas: Función `lambda`\n",
    "\n",
    "Las funciones anónimas se definen utilizando la expresión `lambda`. Son funciones que no tienen un nombre asignado y se utilizan principalmente cuando se necesita una función simple y de corta duración. La sintaxis básica de una función anónima es la siguiente:\n",
    "\n",
    "```python\n",
    "lambda argumentos: expresión\n",
    "```"
   ]
  },
  {
   "cell_type": "code",
   "execution_count": 35,
   "id": "e4223748",
   "metadata": {},
   "outputs": [
    {
     "name": "stdout",
     "output_type": "stream",
     "text": [
      "25\n"
     ]
    }
   ],
   "source": [
    "# Ejemplo 8\n",
    "cuadrado = lambda x: x ** 2\n",
    "\n",
    "resultado = cuadrado(5)\n",
    "print(resultado)\n"
   ]
  },
  {
   "cell_type": "markdown",
   "id": "884906db",
   "metadata": {},
   "source": [
    "En el ejemplo anterior, la función anónima `lambda x: x ** 2` toma un argumento `x` y devuelve su cuadrado utilizando la expresión `x ** 2`."
   ]
  },
  {
   "cell_type": "code",
   "execution_count": 36,
   "id": "8c37b353",
   "metadata": {},
   "outputs": [
    {
     "name": "stdout",
     "output_type": "stream",
     "text": [
      "8\n"
     ]
    }
   ],
   "source": [
    "# Ejemplo 9\n",
    "suma = lambda a, b: a + b\n",
    "\n",
    "resultado = suma(3, 5)\n",
    "print(resultado)"
   ]
  },
  {
   "cell_type": "markdown",
   "id": "87f55df6",
   "metadata": {},
   "source": [
    "# Referencias\n",
    "\n",
    "* El Libro de Python: https://ellibrodepython.com/\n",
    "* Learn Python Programming: https://www.programiz.com/python-programming/\n",
    "* Charles R. Severance: “Python for Everybody: Exploring Data Using Python 3”. Libro de version libre: https://www.py4e.com/html3/\n",
    "\n"
   ]
  },
  {
   "cell_type": "markdown",
   "id": "4a42c426",
   "metadata": {},
   "source": [
    "# Referencias adicionales\n",
    "* Libro sobre los elementos básicos de Python: https://learnpythontherightway.com/ \n",
    "* Curso EdX sobre exploración de datos con Python y R: https://www.edx.org/es/course/analisis-exploratorio-de-datos-con-python-y-r \n",
    "* Curso interactivo introductorio a Python de DataCamp: https://www.datacamp.com/courses/intro-to-python-for-data-science"
   ]
  }
 ],
 "metadata": {
  "kernelspec": {
   "display_name": "Python 3 (ipykernel)",
   "language": "python",
   "name": "python3"
  },
  "language_info": {
   "codemirror_mode": {
    "name": "ipython",
    "version": 3
   },
   "file_extension": ".py",
   "mimetype": "text/x-python",
   "name": "python",
   "nbconvert_exporter": "python",
   "pygments_lexer": "ipython3",
   "version": "3.10.9"
  }
 },
 "nbformat": 4,
 "nbformat_minor": 5
}
