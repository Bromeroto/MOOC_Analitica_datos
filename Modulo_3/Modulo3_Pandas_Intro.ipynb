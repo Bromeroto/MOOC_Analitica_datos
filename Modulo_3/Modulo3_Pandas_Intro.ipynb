{
 "cells": [
  {
   "cell_type": "markdown",
   "id": "63b1848a",
   "metadata": {},
   "source": [
    "# Modulo 3: Introducción a Pandas"
   ]
  },
  {
   "cell_type": "markdown",
   "id": "b43b2d27",
   "metadata": {},
   "source": [
    "Pandas es una libreria de Python que proporciona estructuras de datos y herramientas de análisis de datos de alto rendimiento y fáciles de usar. Se basa en dos estructuras (Series y Dataframe) de datos principales que permiten el almacenamiento, manipulación y análisis eficiente de datos estructurados y no estructurados.\n",
    "\n",
    "Pandas proporciona una amplia gama de funcionalidades para el procesamiento y análisis de datos, incluyendo la carga y escritura de datos desde y hacia diferentes formatos, manipulación de datos, filtrado, agregación, reordenamiento, cálculos estadísticos, manejo de valores faltantes, entre otras. Además, se integra bien con otras librerias de Python, como [NumPy](https://numpy.org/devdocs/user/quickstart.html), [Matplotlib](https://matplotlib.org/) y [scikit-learn](https://scikit-learn.org/stable/), lo que permite realizar análisis de datos más avanzados y construir aplicaciones de aprendizaje automático.\n",
    "\n",
    "En Pandas, los tipos de datos más comunes que se utilizan en los DataFrames son los siguientes:\n",
    "\n",
    "* **`object`:** Equivalente a `str` o  `cadenas`. Se utiliza para representar cadenas de texto.\n",
    "* **`int64`:** Equivalente a `int` o `enteros`. Se utiliza para representar números enteros.\n",
    "* **`float64`:** Equivalente a `float` o `flotantes`. Se utiliza para representar números de punto flotante.\n",
    "* **`bool`:** Equivalente a `bool` o `booleanos`. Se utiliza para representar valores booleanos True o False.\n",
    "\n",
    "[Aquí](https://pandas.pydata.org/docs/user_guide/index.html) puede ver la guía de usuario de Pandas."
   ]
  },
  {
   "cell_type": "code",
   "execution_count": 1,
   "id": "d62ef0a9",
   "metadata": {},
   "outputs": [],
   "source": [
    "# Importamos la libreria de Pandas\n",
    "import pandas as pd"
   ]
  },
  {
   "cell_type": "markdown",
   "id": "7d8e9ce3",
   "metadata": {},
   "source": [
    "Nótese que al importar **Pandas** asignándole el nombre o alias `pd`, que es una convención comúnmente utilizada para abreviar el nombre de **Pandas** y hacerlo más fácil de usar en el código. Usted puede utilizar otro alias, pero se recomienda `pd`."
   ]
  },
  {
   "cell_type": "code",
   "execution_count": 2,
   "id": "23a97d25",
   "metadata": {},
   "outputs": [
    {
     "data": {
      "text/plain": [
       "'1.5.3'"
      ]
     },
     "execution_count": 2,
     "metadata": {},
     "output_type": "execute_result"
    }
   ],
   "source": [
    "# Revisamos la versión de Pandas\n",
    "pd.__version__"
   ]
  },
  {
   "cell_type": "markdown",
   "id": "4fb9ab7d",
   "metadata": {},
   "source": [
    "# 1. Series\n",
    "\n",
    "una Serie es una estructura de datos unidimensional etiquetada que puede contener datos de cualquier tipo. Se puede pensar en como una columna de una tabla o un arreglo unidimensional con etiquetas.\n",
    "\n",
    "La Serie consta de dos partes principales: \n",
    "* **`Datos`:** son los valores que contiene la Serie.\n",
    "* **`Índices`:** son las etiquetas asociadas a cada valor en la Serie. Los índices permiten acceder y manipular los datos de forma más intuitiva y basada en etiquetas.\n"
   ]
  },
  {
   "cell_type": "code",
   "execution_count": 3,
   "id": "4c590a2d",
   "metadata": {
    "scrolled": true
   },
   "outputs": [
    {
     "name": "stdout",
     "output_type": "stream",
     "text": [
      "0    10\n",
      "1    20\n",
      "2    30\n",
      "3    40\n",
      "4    50\n",
      "dtype: int64\n"
     ]
    }
   ],
   "source": [
    "# Creamos una Serie\n",
    "datos= [10, 20, 30, 40, 50]\n",
    "serie1 = pd.Series(datos)\n",
    "print(serie1)"
   ]
  },
  {
   "cell_type": "markdown",
   "id": "5db5f3ef",
   "metadata": {},
   "source": [
    "En el ejemplo anterior, se crea una Serie llamada `serie1` a partir de una lista de números. La función `pd.Series()` toma la lista de datos como argumento y crea la Serie con los valores y los índices predeterminados. Al imprimir la Serie, se obtendrán los valores y los índices correspondientes."
   ]
  },
  {
   "cell_type": "markdown",
   "id": "07eff7de",
   "metadata": {},
   "source": [
    "## 1.1. Indexación en las Series: Localizando los elementos\n",
    "\n",
    "En Pandas se puede indexar una Serie de varias formas para acceder a sus valores y realizar operaciones. entre las cuales se encuentran:\n",
    "1. Indexación por posición\n",
    "2. Indexación por etiqueta\n",
    "3. Indexación por rango\n",
    "4. Indexación escogiendo varios elementos"
   ]
  },
  {
   "cell_type": "markdown",
   "id": "d137c2c8",
   "metadata": {},
   "source": [
    "### Indexación por posición\n",
    "\n",
    "Se puede acceder a los elementos de una Serie utilizando su posición numérica. Para ello, puedes utilizar corchetes y especificar el índice numérico deseado. La indexación por posición en las Series comienza desde cero (0) al igual que las listas."
   ]
  },
  {
   "cell_type": "code",
   "execution_count": 4,
   "id": "61138a28",
   "metadata": {},
   "outputs": [
    {
     "name": "stdout",
     "output_type": "stream",
     "text": [
      "Reino Unido\n",
      "España\n"
     ]
    }
   ],
   "source": [
    "# Ejemplo 1: Paises\n",
    "paises = pd.Series(['Reino Unido', 'Francia', 'España', 'Italia', 'Alemania']) # Generamos una serie con nombres de ciudades\n",
    "print(paises[0]) # Accedemos al elemento de la posición 0\n",
    "print(paises[2]) # Accedemos al elemento de la posición 2"
   ]
  },
  {
   "cell_type": "markdown",
   "id": "a7bfe902",
   "metadata": {},
   "source": [
    "### Indexación por etiqueta\n",
    "\n",
    "Se puede acceder a los elementos de una Serie utilizando sus etiquetas. Pandas asigna automáticamente etiquetas a los elementos de la Serie si no se especifican explícitamente. Para acceder a un elemento por su etiqueta, puedes utilizar el método `loc[]`."
   ]
  },
  {
   "cell_type": "code",
   "execution_count": 5,
   "id": "e23757e6",
   "metadata": {},
   "outputs": [
    {
     "name": "stdout",
     "output_type": "stream",
     "text": [
      "a    8908081\n",
      "b    2140526\n",
      "c    3223334\n",
      "d    2870493\n",
      "e    3769495\n",
      "dtype: int64\n",
      " \n",
      "3223334\n",
      "3769495\n"
     ]
    }
   ],
   "source": [
    "# Ejemplo 2: Número de habitantes\n",
    "habitantes = pd.Series([8908081, 2140526, 3223334, 2870493, 3769495], index=['a','b','c','d','e'])\n",
    "print(habitantes) \n",
    "# Se muestra la serie con sus indices.\n",
    "print(' ')\n",
    "print(habitantes.loc['c']) # Accede al elemento con etiqueta 'c'\n",
    "print(habitantes.loc['e']) # Accede al elemento con etiqueta 'e'"
   ]
  },
  {
   "cell_type": "markdown",
   "id": "e5efac0a",
   "metadata": {},
   "source": [
    "### Indexación por rango\n",
    "\n",
    "Se acceder a un rango de elementos en una Serie utilizando la indexación por posición o por etiqueta junto con los operadores **`:`**."
   ]
  },
  {
   "cell_type": "code",
   "execution_count": 6,
   "id": "74649681",
   "metadata": {},
   "outputs": [
    {
     "name": "stdout",
     "output_type": "stream",
     "text": [
      "1    2753000000000\n",
      "2    1355000000000\n",
      "3    2099000000000\n",
      "dtype: int64\n",
      "b    6.1\n",
      "c    4.8\n",
      "d    7.3\n",
      "dtype: float64\n"
     ]
    }
   ],
   "source": [
    "# Ejemplo 3: PIB real y Tasa de Desempleo\n",
    "pib_real = pd.Series([3076000000000, 2753000000000, 1355000000000, 2099000000000, 1995000000000]) # PIB Real\n",
    "print(pib_real[1:4])  # Accede a los elementos en las posiciones 1, 2 y 3\n",
    "\n",
    "desempleo = pd.Series([5.2, 6.1, 4.8, 7.3, 3.9], index=['a', 'b', 'c', 'd', 'e']) # Tasa de desempleo\n",
    "print(desempleo['b':'d'])  # Accede a los elementos con etiquetas 'b', 'c' y 'd'"
   ]
  },
  {
   "cell_type": "markdown",
   "id": "ac2ea2cc",
   "metadata": {},
   "source": [
    "### Indexación escogiendo varios elementos\n",
    "\n",
    "Para indexar varios elementos específicos en una Series, se puede utilizar la función `loc[]` o la función `iloc[]`. La función `loc[]` se utiliza para realizar la indexación mediante etiquetas, mientras que la función `iloc[]` se utiliza para realizar la indexación mediante posiciones numéricas."
   ]
  },
  {
   "cell_type": "code",
   "execution_count": 7,
   "id": "d2884fab",
   "metadata": {},
   "outputs": [
    {
     "name": "stdout",
     "output_type": "stream",
     "text": [
      "Index(['a', 'b', 'c', 'd', 'e'], dtype='object')\n",
      "b    6.1\n",
      "d    7.3\n",
      "dtype: float64\n"
     ]
    }
   ],
   "source": [
    "# Ejemplo 4: loc[]\n",
    "\n",
    "print(desempleo.index) # Para ver las etiquetas de los indices de la serie\n",
    "\n",
    "print(desempleo[['b','d']]) # Se accede a lso elemento b y d"
   ]
  },
  {
   "cell_type": "markdown",
   "id": "6b71befa",
   "metadata": {},
   "source": [
    "En el ejemplo anterior, la Serie tiene los índices `'a', 'b', 'c', 'd' y 'e'`, y se desea indexar los elementos correspondientes a los índices `'b' y 'd'`. Al utilizar `serie.loc[['b','d']]`, se obtiene una nueva serie que contiene solo los elementos con los índices especificados. \n",
    "\n",
    "**Importante: cuando se va acceder varios elementos sin que sea por rango, se debe utilizar dobre corchete `[[]]`**"
   ]
  },
  {
   "cell_type": "code",
   "execution_count": 8,
   "id": "8badd974",
   "metadata": {},
   "outputs": [
    {
     "name": "stdout",
     "output_type": "stream",
     "text": [
      "RangeIndex(start=0, stop=5, step=1)\n",
      "1    Francia\n",
      "3     Italia\n",
      "dtype: object\n"
     ]
    }
   ],
   "source": [
    "# Ejemplo 5: iloc[]\n",
    "\n",
    "print(paises.index) # Para ver los indices de la serie\n",
    "\n",
    "print(paises.iloc[[1,3]]) # Se accede a lso elementos 1 y 3"
   ]
  },
  {
   "cell_type": "markdown",
   "id": "43f95c15",
   "metadata": {},
   "source": [
    "En el ejemplo anterior, la serie contiene los elementos `['Reino Unido', 'Francia', 'España', 'Italia', 'Alemania']`. Se desea indexar los elementos en las posiciones 1 y 3. Al utilizar `paises.iloc[[1,3]]`, se imprimen los elementos en las posiciones especificadas."
   ]
  },
  {
   "cell_type": "markdown",
   "id": "e8653c2b",
   "metadata": {},
   "source": [
    "## 1.2. Filtrando las Series en Python\n",
    "\n",
    "El filtrado de las series en Pandas se realiza utilizando operaciones de comparación y operadores lógicos. Puedes aplicar condiciones para seleccionar elementos específicos de una serie basándote en ciertos criterios.\n",
    "\n",
    "Supongamos que tienes una serie llamada serie con datos numéricos y deseas filtrar los elementos que cumplen una condición determinada, como ."
   ]
  },
  {
   "cell_type": "code",
   "execution_count": 9,
   "id": "bc8689f9",
   "metadata": {},
   "outputs": [
    {
     "data": {
      "text/plain": [
       "1    12\n",
       "3    20\n",
       "4    15\n",
       "dtype: int64"
      ]
     },
     "execution_count": 9,
     "metadata": {},
     "output_type": "execute_result"
    }
   ],
   "source": [
    "# Ejemplo 6: seleccionando solo los valores mayores a 10\n",
    "serie = pd.Series([5, 12, 8, 20, 15])\n",
    "serie[serie > 10]\n"
   ]
  },
  {
   "cell_type": "markdown",
   "id": "e1b2bcbe",
   "metadata": {},
   "source": [
    "En el ejemplo anterior, se utiliza la expresión `serie > 10` para crear una máscara booleana que indica qué elementos de la serie cumplen la condición de ser mayores a 10. Luego, esta máscara se aplica a la serie original (`serie[serie > 10]`) para obtener una nueva serie filtrada con solo los elementos que cumplen la condición."
   ]
  },
  {
   "cell_type": "markdown",
   "id": "119eb46e",
   "metadata": {},
   "source": [
    "También puedes combinar múltiples condiciones utilizando operadores lógicos, como `&` (AND), `|` (OR)."
   ]
  },
  {
   "cell_type": "code",
   "execution_count": 10,
   "id": "fabe8f6c",
   "metadata": {},
   "outputs": [
    {
     "data": {
      "text/plain": [
       "1    12\n",
       "4    15\n",
       "dtype: int64"
      ]
     },
     "execution_count": 10,
     "metadata": {},
     "output_type": "execute_result"
    }
   ],
   "source": [
    "# Ejemplo 7: '&'\n",
    "serie[(serie > 10) & (serie < 20)]"
   ]
  },
  {
   "cell_type": "code",
   "execution_count": 11,
   "id": "076241c0",
   "metadata": {},
   "outputs": [],
   "source": [
    "# Ejemplo 7: '|'"
   ]
  },
  {
   "cell_type": "code",
   "execution_count": 12,
   "id": "5e01a09a",
   "metadata": {},
   "outputs": [
    {
     "data": {
      "text/plain": [
       "0     5\n",
       "3    20\n",
       "dtype: int64"
      ]
     },
     "execution_count": 12,
     "metadata": {},
     "output_type": "execute_result"
    }
   ],
   "source": [
    "serie[(serie > 15) | (serie == 5)]"
   ]
  },
  {
   "cell_type": "markdown",
   "id": "4f1d3be5",
   "metadata": {},
   "source": [
    "## 1.3. Operaciones con Series\n",
    "En Pandas, puedes realizar operaciones aritméticas entre series de manera sencilla. Las operaciones se realizan elemento a elemento, lo que significa que se aplica la operación a cada par de elementos correspondientes en las series."
   ]
  },
  {
   "cell_type": "code",
   "execution_count": 13,
   "id": "9996e18a",
   "metadata": {},
   "outputs": [],
   "source": [
    "# Se crean las series\n",
    "s1 = pd.Series([1, 2, 3, 4])\n",
    "s2 = pd.Series([5, 6, 7, 8])"
   ]
  },
  {
   "cell_type": "code",
   "execution_count": 14,
   "id": "2388bc9f",
   "metadata": {},
   "outputs": [
    {
     "data": {
      "text/plain": [
       "0     6\n",
       "1     8\n",
       "2    10\n",
       "3    12\n",
       "dtype: int64"
      ]
     },
     "execution_count": 14,
     "metadata": {},
     "output_type": "execute_result"
    }
   ],
   "source": [
    "# Suma\n",
    "suma = s1 + s2\n",
    "suma"
   ]
  },
  {
   "cell_type": "code",
   "execution_count": 15,
   "id": "6d7a322c",
   "metadata": {},
   "outputs": [
    {
     "data": {
      "text/plain": [
       "0   -4\n",
       "1   -4\n",
       "2   -4\n",
       "3   -4\n",
       "dtype: int64"
      ]
     },
     "execution_count": 15,
     "metadata": {},
     "output_type": "execute_result"
    }
   ],
   "source": [
    "# Resta\n",
    "resta = s1 - s2\n",
    "resta"
   ]
  },
  {
   "cell_type": "code",
   "execution_count": 16,
   "id": "78df3064",
   "metadata": {},
   "outputs": [
    {
     "data": {
      "text/plain": [
       "0     5\n",
       "1    12\n",
       "2    21\n",
       "3    32\n",
       "dtype: int64"
      ]
     },
     "execution_count": 16,
     "metadata": {},
     "output_type": "execute_result"
    }
   ],
   "source": [
    "# Multiplicación\n",
    "multiplicacion = s1 * s2\n",
    "multiplicacion"
   ]
  },
  {
   "cell_type": "code",
   "execution_count": 17,
   "id": "cb865eb4",
   "metadata": {},
   "outputs": [
    {
     "data": {
      "text/plain": [
       "0    0.200000\n",
       "1    0.333333\n",
       "2    0.428571\n",
       "3    0.500000\n",
       "dtype: float64"
      ]
     },
     "execution_count": 17,
     "metadata": {},
     "output_type": "execute_result"
    }
   ],
   "source": [
    "# División\n",
    "division = s1 / s2\n",
    "division"
   ]
  },
  {
   "cell_type": "markdown",
   "id": "3941e028",
   "metadata": {},
   "source": [
    "# 2. DataFrame\n",
    "\n",
    "Un DataFrame es una estructura de datos bidimensional en Pandas que se utiliza para almacenar y manipular datos tabulares. Éste consta de filas y columnas, donde cada columna puede contener diferentes tipos de datos. Las filas se identifican mediante un índice, que puede ser numérico o de tipo cadena.\n",
    "\n",
    "Los DataFrames en Pandas permiten realizar una variedad de operaciones de manipulación y análisis de datos, como seleccionar subconjuntos de datos, filtrar, agregar, combinar y transformar datos. También proporcionan métodos y funciones para cargar y guardar datos desde y hacia diferentes formatos, como archivos CSV, Excel o bases de datos."
   ]
  },
  {
   "cell_type": "code",
   "execution_count": 18,
   "id": "81a1d9fa",
   "metadata": {},
   "outputs": [
    {
     "data": {
      "text/html": [
       "<div>\n",
       "<style scoped>\n",
       "    .dataframe tbody tr th:only-of-type {\n",
       "        vertical-align: middle;\n",
       "    }\n",
       "\n",
       "    .dataframe tbody tr th {\n",
       "        vertical-align: top;\n",
       "    }\n",
       "\n",
       "    .dataframe thead th {\n",
       "        text-align: right;\n",
       "    }\n",
       "</style>\n",
       "<table border=\"1\" class=\"dataframe\">\n",
       "  <thead>\n",
       "    <tr style=\"text-align: right;\">\n",
       "      <th></th>\n",
       "      <th>pais</th>\n",
       "      <th>habitantes</th>\n",
       "      <th>pib_real</th>\n",
       "      <th>desempleo</th>\n",
       "    </tr>\n",
       "  </thead>\n",
       "  <tbody>\n",
       "    <tr>\n",
       "      <th>0</th>\n",
       "      <td>Reino Unido</td>\n",
       "      <td>8908081</td>\n",
       "      <td>3076000000000</td>\n",
       "      <td>5.2</td>\n",
       "    </tr>\n",
       "    <tr>\n",
       "      <th>1</th>\n",
       "      <td>Francia</td>\n",
       "      <td>2140526</td>\n",
       "      <td>2753000000000</td>\n",
       "      <td>6.1</td>\n",
       "    </tr>\n",
       "    <tr>\n",
       "      <th>2</th>\n",
       "      <td>España</td>\n",
       "      <td>3223334</td>\n",
       "      <td>1355000000000</td>\n",
       "      <td>4.8</td>\n",
       "    </tr>\n",
       "    <tr>\n",
       "      <th>3</th>\n",
       "      <td>Italia</td>\n",
       "      <td>2870493</td>\n",
       "      <td>2099000000000</td>\n",
       "      <td>7.3</td>\n",
       "    </tr>\n",
       "    <tr>\n",
       "      <th>4</th>\n",
       "      <td>Alemania</td>\n",
       "      <td>3769495</td>\n",
       "      <td>1995000000000</td>\n",
       "      <td>3.9</td>\n",
       "    </tr>\n",
       "  </tbody>\n",
       "</table>\n",
       "</div>"
      ],
      "text/plain": [
       "          pais  habitantes       pib_real  desempleo\n",
       "0  Reino Unido     8908081  3076000000000        5.2\n",
       "1      Francia     2140526  2753000000000        6.1\n",
       "2       España     3223334  1355000000000        4.8\n",
       "3       Italia     2870493  2099000000000        7.3\n",
       "4     Alemania     3769495  1995000000000        3.9"
      ]
     },
     "execution_count": 18,
     "metadata": {},
     "output_type": "execute_result"
    }
   ],
   "source": [
    "# Creamos un DataFrame a partir de las series\n",
    "\n",
    "# Creando las series\n",
    "paises = pd.Series(['Reino Unido', 'Francia', 'España', 'Italia', 'Alemania'])\n",
    "habitantes = pd.Series([8908081, 2140526, 3223334, 2870493, 3769495])\n",
    "pib_real = pd.Series([3076000000000, 2753000000000, 1355000000000, 2099000000000, 1995000000000])\n",
    "desempleo = pd.Series([5.2, 6.1, 4.8, 7.3, 3.9])\n",
    "\n",
    "# Generando el DataFrame\n",
    "\n",
    "df = pd.DataFrame({'pais': paises, 'habitantes': habitantes, 'pib_real': pib_real, 'desempleo': desempleo})\n",
    "df"
   ]
  },
  {
   "cell_type": "markdown",
   "id": "092bd21f",
   "metadata": {},
   "source": [
    "El DataFrame se crea con `pd.DataFrame()` y el argumento es un diccionario en que la llave es el nombre de la columna y el valor de cada llave es la serie, que puede ser cualquier otro objeto como una lista o un arreglo de Numpy.  "
   ]
  },
  {
   "cell_type": "markdown",
   "id": "14a8d3b9",
   "metadata": {},
   "source": [
    "## 2.1. Indexación en las Series: Localizando los elementos\n",
    "\n",
    "En Pandas, puedes indexar un DataFrame utilizando diferentes métodos y operaciones."
   ]
  },
  {
   "cell_type": "markdown",
   "id": "79076538",
   "metadata": {},
   "source": [
    "### Indexación basada en nombres de columnas\n",
    "\n",
    "```python\n",
    "df['col1'] # Una columna\n",
    "df[['col1']]\n",
    "```\n",
    "\n",
    "```python\n",
    "df[['col1', 'col2','col3']] # Dos o más columnas\n",
    "```\n",
    "\n",
    "Nótese que en el caso de escoger una sola columna, se peude utilizar corchetes simple **`([])`** o doble corchetes **`([[]])`** Cual se utiliza corchete simple Python lo toma como una Serie, mientras que si utilizan doble corchete Python lo toma como una columna del Dataframe. "
   ]
  },
  {
   "cell_type": "code",
   "execution_count": 19,
   "id": "a86a01c1",
   "metadata": {},
   "outputs": [
    {
     "data": {
      "text/html": [
       "<div>\n",
       "<style scoped>\n",
       "    .dataframe tbody tr th:only-of-type {\n",
       "        vertical-align: middle;\n",
       "    }\n",
       "\n",
       "    .dataframe tbody tr th {\n",
       "        vertical-align: top;\n",
       "    }\n",
       "\n",
       "    .dataframe thead th {\n",
       "        text-align: right;\n",
       "    }\n",
       "</style>\n",
       "<table border=\"1\" class=\"dataframe\">\n",
       "  <thead>\n",
       "    <tr style=\"text-align: right;\">\n",
       "      <th></th>\n",
       "      <th>pais</th>\n",
       "    </tr>\n",
       "  </thead>\n",
       "  <tbody>\n",
       "    <tr>\n",
       "      <th>0</th>\n",
       "      <td>Reino Unido</td>\n",
       "    </tr>\n",
       "    <tr>\n",
       "      <th>1</th>\n",
       "      <td>Francia</td>\n",
       "    </tr>\n",
       "    <tr>\n",
       "      <th>2</th>\n",
       "      <td>España</td>\n",
       "    </tr>\n",
       "    <tr>\n",
       "      <th>3</th>\n",
       "      <td>Italia</td>\n",
       "    </tr>\n",
       "    <tr>\n",
       "      <th>4</th>\n",
       "      <td>Alemania</td>\n",
       "    </tr>\n",
       "  </tbody>\n",
       "</table>\n",
       "</div>"
      ],
      "text/plain": [
       "          pais\n",
       "0  Reino Unido\n",
       "1      Francia\n",
       "2       España\n",
       "3       Italia\n",
       "4     Alemania"
      ]
     },
     "execution_count": 19,
     "metadata": {},
     "output_type": "execute_result"
    }
   ],
   "source": [
    "# Ejemplo 1: Una sola columna\n",
    "df[['pais']]"
   ]
  },
  {
   "cell_type": "code",
   "execution_count": 20,
   "id": "a3e95cb2",
   "metadata": {},
   "outputs": [
    {
     "data": {
      "text/html": [
       "<div>\n",
       "<style scoped>\n",
       "    .dataframe tbody tr th:only-of-type {\n",
       "        vertical-align: middle;\n",
       "    }\n",
       "\n",
       "    .dataframe tbody tr th {\n",
       "        vertical-align: top;\n",
       "    }\n",
       "\n",
       "    .dataframe thead th {\n",
       "        text-align: right;\n",
       "    }\n",
       "</style>\n",
       "<table border=\"1\" class=\"dataframe\">\n",
       "  <thead>\n",
       "    <tr style=\"text-align: right;\">\n",
       "      <th></th>\n",
       "      <th>pais</th>\n",
       "      <th>desempleo</th>\n",
       "    </tr>\n",
       "  </thead>\n",
       "  <tbody>\n",
       "    <tr>\n",
       "      <th>0</th>\n",
       "      <td>Reino Unido</td>\n",
       "      <td>5.2</td>\n",
       "    </tr>\n",
       "    <tr>\n",
       "      <th>1</th>\n",
       "      <td>Francia</td>\n",
       "      <td>6.1</td>\n",
       "    </tr>\n",
       "    <tr>\n",
       "      <th>2</th>\n",
       "      <td>España</td>\n",
       "      <td>4.8</td>\n",
       "    </tr>\n",
       "    <tr>\n",
       "      <th>3</th>\n",
       "      <td>Italia</td>\n",
       "      <td>7.3</td>\n",
       "    </tr>\n",
       "    <tr>\n",
       "      <th>4</th>\n",
       "      <td>Alemania</td>\n",
       "      <td>3.9</td>\n",
       "    </tr>\n",
       "  </tbody>\n",
       "</table>\n",
       "</div>"
      ],
      "text/plain": [
       "          pais  desempleo\n",
       "0  Reino Unido        5.2\n",
       "1      Francia        6.1\n",
       "2       España        4.8\n",
       "3       Italia        7.3\n",
       "4     Alemania        3.9"
      ]
     },
     "execution_count": 20,
     "metadata": {},
     "output_type": "execute_result"
    }
   ],
   "source": [
    "# Ejemplo 2: Dos columnas sola columna\n",
    "df[['pais', 'desempleo']]"
   ]
  },
  {
   "cell_type": "markdown",
   "id": "9a0c3db7",
   "metadata": {},
   "source": [
    "### Indexación basada en etiquetas con `loc[]`\n",
    "\n",
    "```python\n",
    "df.loc[etiqueta_fila] # Se escoge una fila\n",
    "df.loc[etiqueta_fila, etiqueta_columna] # Se escoge fila y columna\n",
    "\n",
    "```"
   ]
  },
  {
   "cell_type": "code",
   "execution_count": 21,
   "id": "90ba547e",
   "metadata": {},
   "outputs": [
    {
     "data": {
      "text/plain": [
       "pais                 España\n",
       "habitantes          3223334\n",
       "pib_real      1355000000000\n",
       "desempleo               4.8\n",
       "Name: 2, dtype: object"
      ]
     },
     "execution_count": 21,
     "metadata": {},
     "output_type": "execute_result"
    }
   ],
   "source": [
    "# Ejemplo 3: Acceder a una fila por etiqueta\n",
    "df.loc[2]  # Acceder a la tercera fila"
   ]
  },
  {
   "cell_type": "code",
   "execution_count": 22,
   "id": "0696e98c",
   "metadata": {},
   "outputs": [
    {
     "data": {
      "text/plain": [
       "'Francia'"
      ]
     },
     "execution_count": 22,
     "metadata": {},
     "output_type": "execute_result"
    }
   ],
   "source": [
    "# Ejemplo 4: Acceder a un elemento específico por etiqueta de fila y columna\n",
    "df.loc[1, 'pais'] # Acceder al pais de la segunda fila"
   ]
  },
  {
   "cell_type": "code",
   "execution_count": 23,
   "id": "e74bacc8",
   "metadata": {},
   "outputs": [
    {
     "data": {
      "text/html": [
       "<div>\n",
       "<style scoped>\n",
       "    .dataframe tbody tr th:only-of-type {\n",
       "        vertical-align: middle;\n",
       "    }\n",
       "\n",
       "    .dataframe tbody tr th {\n",
       "        vertical-align: top;\n",
       "    }\n",
       "\n",
       "    .dataframe thead th {\n",
       "        text-align: right;\n",
       "    }\n",
       "</style>\n",
       "<table border=\"1\" class=\"dataframe\">\n",
       "  <thead>\n",
       "    <tr style=\"text-align: right;\">\n",
       "      <th></th>\n",
       "      <th>habitantes</th>\n",
       "      <th>pib_real</th>\n",
       "      <th>desempleo</th>\n",
       "    </tr>\n",
       "  </thead>\n",
       "  <tbody>\n",
       "    <tr>\n",
       "      <th>1</th>\n",
       "      <td>2140526</td>\n",
       "      <td>2753000000000</td>\n",
       "      <td>6.1</td>\n",
       "    </tr>\n",
       "    <tr>\n",
       "      <th>2</th>\n",
       "      <td>3223334</td>\n",
       "      <td>1355000000000</td>\n",
       "      <td>4.8</td>\n",
       "    </tr>\n",
       "  </tbody>\n",
       "</table>\n",
       "</div>"
      ],
      "text/plain": [
       "   habitantes       pib_real  desempleo\n",
       "1     2140526  2753000000000        6.1\n",
       "2     3223334  1355000000000        4.8"
      ]
     },
     "execution_count": 23,
     "metadata": {},
     "output_type": "execute_result"
    }
   ],
   "source": [
    "# Ejemplo 5: Acceder a múltiples filas y columnas por etiqueta\n",
    "\n",
    "df.loc[1:2, 'habitantes':'desempleo']  # Acceder a las filas 2, 3 y 4 y las columnas 'habitantes', 'pib_real' y 'desempleo'"
   ]
  },
  {
   "cell_type": "markdown",
   "id": "46ed9ff9",
   "metadata": {},
   "source": [
    "### Indexación basada en posiciones con `iloc[]`:\n",
    "\n",
    "```python\n",
    "df.iloc[posicion_fila]\n",
    "df.iloc[posicion_fila, posicion_columna]\n",
    "```"
   ]
  },
  {
   "cell_type": "code",
   "execution_count": 24,
   "id": "6cfc5680",
   "metadata": {},
   "outputs": [
    {
     "data": {
      "text/plain": [
       "pais                 España\n",
       "habitantes          3223334\n",
       "pib_real      1355000000000\n",
       "desempleo               4.8\n",
       "Name: 2, dtype: object"
      ]
     },
     "execution_count": 24,
     "metadata": {},
     "output_type": "execute_result"
    }
   ],
   "source": [
    "# Ejemplo 6: Acceder a una fila por posición\n",
    "df.iloc[2] # Acceder a la tercera fila"
   ]
  },
  {
   "cell_type": "code",
   "execution_count": 25,
   "id": "611c79a7",
   "metadata": {},
   "outputs": [
    {
     "data": {
      "text/plain": [
       "'Francia'"
      ]
     },
     "execution_count": 25,
     "metadata": {},
     "output_type": "execute_result"
    }
   ],
   "source": [
    "# Ejemplo 7: Acceder a un elemento específico por posición de fila y columna\n",
    "df.iloc[1, 0] # Acceder al nombre de la segunda fila"
   ]
  },
  {
   "cell_type": "code",
   "execution_count": 26,
   "id": "adc73eb0",
   "metadata": {},
   "outputs": [
    {
     "name": "stdout",
     "output_type": "stream",
     "text": [
      "   habitantes       pib_real\n",
      "1     2140526  2753000000000\n",
      "2     3223334  1355000000000\n"
     ]
    }
   ],
   "source": [
    "# Ejemplo 8: Acceder a múltiples filas y columnas por posición\n",
    "print(df.iloc[1:3, 1:3])  # Acceder a las filas 2 y 3 y las columnas 2 y 3"
   ]
  },
  {
   "cell_type": "markdown",
   "id": "ea8050b0",
   "metadata": {},
   "source": [
    "### Indexación booleana\n",
    "\n",
    "```python\n",
    "df[condicion]\n",
    "```\n"
   ]
  },
  {
   "cell_type": "code",
   "execution_count": 27,
   "id": "83bd843a",
   "metadata": {},
   "outputs": [
    {
     "data": {
      "text/html": [
       "<div>\n",
       "<style scoped>\n",
       "    .dataframe tbody tr th:only-of-type {\n",
       "        vertical-align: middle;\n",
       "    }\n",
       "\n",
       "    .dataframe tbody tr th {\n",
       "        vertical-align: top;\n",
       "    }\n",
       "\n",
       "    .dataframe thead th {\n",
       "        text-align: right;\n",
       "    }\n",
       "</style>\n",
       "<table border=\"1\" class=\"dataframe\">\n",
       "  <thead>\n",
       "    <tr style=\"text-align: right;\">\n",
       "      <th></th>\n",
       "      <th>pais</th>\n",
       "      <th>habitantes</th>\n",
       "      <th>pib_real</th>\n",
       "      <th>desempleo</th>\n",
       "    </tr>\n",
       "  </thead>\n",
       "  <tbody>\n",
       "    <tr>\n",
       "      <th>3</th>\n",
       "      <td>Italia</td>\n",
       "      <td>2870493</td>\n",
       "      <td>2099000000000</td>\n",
       "      <td>7.3</td>\n",
       "    </tr>\n",
       "  </tbody>\n",
       "</table>\n",
       "</div>"
      ],
      "text/plain": [
       "     pais  habitantes       pib_real  desempleo\n",
       "3  Italia     2870493  2099000000000        7.3"
      ]
     },
     "execution_count": 27,
     "metadata": {},
     "output_type": "execute_result"
    }
   ],
   "source": [
    "# Ejemplo 9: Basado en una condición\n",
    "df[df['pais'] == 'Italia'] # Filtra filas donde el pais se llame 'Italia'"
   ]
  },
  {
   "cell_type": "markdown",
   "id": "87f55df6",
   "metadata": {},
   "source": [
    "# Referencias\n",
    "\n",
    "* El Libro de Python: https://ellibrodepython.com/\n",
    "* Learn Python Programming: https://www.programiz.com/python-programming/\n",
    "* Charles R. Severance: “Python for Everybody: Exploring Data Using Python 3”. Libro de version libre: https://www.py4e.com/html3/\n",
    "* Pandas: powerful Python data analysis toolkit. Libro versión PDF: https://pandas.pydata.org/pandas-docs/version/1.4.4/pandas.pdf\n",
    "\n"
   ]
  },
  {
   "cell_type": "markdown",
   "id": "4a42c426",
   "metadata": {},
   "source": [
    "# Referencias adicionales\n",
    "* Libro sobre los elementos básicos de Python: https://learnpythontherightway.com/ \n",
    "* Curso EdX sobre exploración de datos con Python y R: https://www.edx.org/es/course/analisis-exploratorio-de-datos-con-python-y-r \n",
    "* Curso interactivo introductorio a Python de DataCamp: https://www.datacamp.com/courses/intro-to-python-for-data-science"
   ]
  }
 ],
 "metadata": {
  "kernelspec": {
   "display_name": "Python 3 (ipykernel)",
   "language": "python",
   "name": "python3"
  },
  "language_info": {
   "codemirror_mode": {
    "name": "ipython",
    "version": 3
   },
   "file_extension": ".py",
   "mimetype": "text/x-python",
   "name": "python",
   "nbconvert_exporter": "python",
   "pygments_lexer": "ipython3",
   "version": "3.10.9"
  }
 },
 "nbformat": 4,
 "nbformat_minor": 5
}
