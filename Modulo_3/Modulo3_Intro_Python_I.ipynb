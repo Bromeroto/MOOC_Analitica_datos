{
 "cells": [
  {
   "cell_type": "markdown",
   "id": "63b1848a",
   "metadata": {},
   "source": [
    "# Modulo 3: Elementos de programación con Python\n",
    "\n",
    "\n",
    "### ¿Qué es un lenguaje de programación?\n",
    "\n",
    "Un lenguaje de programación es un conjunto de reglas y símbolos utilizados para escribir instrucciones que una computadora puede interpretar y ejecutar. Es un medio de comunicación entre los programadores y las máquinas, permitiendo desarrollar software y aplicaciones. Existen diversos lenguajes de programación, cada uno con su propia sintaxis y características. Algunos ejemplos populares incluyen Python, Java, C++, JavaScript, Ruby y PHP. \n",
    "\n",
    "### ¿Qué es un programa??\n",
    "\n",
    "Un **programa** es una secuencia de instrucciones que especifica cómo realizar una tarea en particular. Esta tarea puede algún calculo aritmético, reemplazar texto en un documento o generar un gráfico.\n",
    "\n",
    "\n",
    "### ¿Por qué Pyhon?\n",
    "\n",
    "Python es un lenguaje de progrmación de alto nivel, se destaca como uno de los lenguajes de programación más flexibles y amigable para las personas que no habian programado antes. Python es un lenguaje de programación ampliamente utilizado en diversas áreas como aplicaciones web, desarrollo de software,creación de juegos, ciencia de datos, entro otros. Los desarrolladores optan por Python debido a su eficiencia y facilidad de aprendizaje, además de su capacidad para ejecutarse en múltiples plataformas. El software Python se puede descargar de forma gratuita y se integra en distintos sistemas operativos.\n",
    "\n",
    "### Instalación\n",
    "\n",
    "Existen diversas distribuciones comericales de Python que incluyen solamente el entorno. Entre las dos dictribuciones más usadas se encuentran [Anaconda](https://www.anaconda.com) y [ActivePython](https://www.activestate.com/products/python/). Sin embargo, la más recomendada es la de [Anaconda](https://www.anaconda.com), que tiene una versión de Pyhon 3.10 y esa distribución está diseñada, en mayor parte, para el análisis de datos y cuenta con un repositorio con más de 8.000 paquetes de código abierto para ciencia de datos y machine learning. Aquí puede encontrar una [guía de instalación para windows](https://docs.anaconda.com/free/anaconda/install/windows/) y una [guía de instalación para Mac OS X](https://www.datacamp.com/tutorial/installing-anaconda-mac-os-x).\n",
    "\n",
    "\n",
    "### Editor de códigos\n",
    "\n",
    "Para comenzar a programar en Python directamente desde su consola:\n",
    "##### \n",
    "<div>\n",
    "    <img src=\"Imagen/Consola.png\" width=\"700\"/> \n",
    "</div>\n",
    "\n",
    "Pero lo usual es programar desde Entorno de Desarrollo Integrado (IDE, or sus siglas en íngles), y junto con [Anaconda](https://www.anaconda.com) se intalan dos IDE's con los que se puede trabajar:\n",
    "\n",
    "1. **[Spyder](https://www.spyder-ide.org/):** es un entorno científico gratuito y de código abierto escrito en Python, para Python, y diseñado por y para científicos, ingenieros y analistas de datos. Cuenta con una combinación única de funciones avanzadas de edición, análisis, depuración y perfilado de una herramienta de desarrollo integral, junto con capacidades de exploración de datos.\n",
    "##### \n",
    "<div>\n",
    "    <img src=\"Imagen/Spyder.png\" width=\"600\"/> \n",
    "</div>\n",
    "\n",
    "2. **[Jupyter Notebook](https://jupyter.org):** El Jupyter Notebook es la aplicación web original para crear y compartir documentos computacionales; nos permiten combinar código, texto en formato Markdown, visualizaciones de datos y otros recursos en un único notebook. Ofrecen una experiencia simple y enfocada en el documento, optimizada y eficiente. \n",
    "##### \n",
    "<div>\n",
    "    <img src=\"Imagen/Notebook.png\" width=\"600\"/> \n",
    "</div>\n",
    "\n",
    "Para efectos de este curso, simepre utilizaremos [Jupyter Notebook](https://jupyter.org) porque provee uan interfaz interactiva que, de cierta forma, facilita el proceso de aprendizaje.\n",
    "\n",
    "### Abriendo y creando un Jupyter notebook\n",
    "\n",
    "**Nota: el siguiente ejemplo se realiza en el sistema operativo de Windows**\n",
    "\n",
    "\n",
    "1. Una vez instalada [Anaconda](https://www.anaconda.com), escribimos en el buscado del inicio de windows *Jupyter Notebook* y la seleccionamos.\n",
    " \n",
    "<div>\n",
    "    <img src=\"Imagen/AnacondaNavigator.png\" width=\"500\"/> \n",
    "</div>\n",
    "\n",
    "2. Luego se abrirá una consola de comandos que no se debe de cerrar.\n",
    "<div>\n",
    "    <img src=\"Imagen/JupyterConsola.png\" width=\"500\"/> \n",
    "</div>\n",
    "\n",
    "3. Posteriormente,se abre un explorador de interner porque *Jupyter Notebook* es una interfaz basada en web. El explorador se abre y tiene como ruta (local host) http://localhost:8888/tree por defecto, en donde se muestran todos los archivos que ahí se contienen. No se requiere conexión a internet para el funcionamiento de *jupyter Notebook*.\n",
    "<div>\n",
    "    <img src=\"Imagen/JupyterHost.png\" width=\"800\"/> \n",
    "</div>\n",
    "\n",
    "4. Para creas un nuevo *Notebook* le damos click al botón `New` ubicado en la parte superior derecha y luego seleccionamos `Python`\n",
    "<div>\n",
    "    <img src=\"Imagen/JupyterNew.png\" width=\"600\"/> \n",
    "</div>\n",
    "5. Finalmente se abre una nueva pestaña en el explorador web con el *Notebook*.\n",
    "`Python`\n",
    "<div>\n",
    "    <img src=\"Imagen/JupyterNotebook.png\" width=\"500\"/> \n",
    "</div>"
   ]
  },
  {
   "cell_type": "markdown",
   "id": "9433132c",
   "metadata": {},
   "source": [
    "###### Importante: \n",
    "Para ejecutar el código que está en la celda del *Jupyter Notebook* se presiona en el teclado: `Ctrl + Enter`."
   ]
  },
  {
   "cell_type": "markdown",
   "id": "61c14cd3",
   "metadata": {},
   "source": [
    "## 1. Introducción a Python"
   ]
  },
  {
   "cell_type": "markdown",
   "id": "b2be88ab",
   "metadata": {},
   "source": [
    "### 1.1. Valores y Tipos\n",
    "\n",
    "Un **valor** puede ser una letra o un número. Por ejemplo,  1, 2.3 y \"¡Hola!\" son valores. Estos valores perteccen a deiferentes **tipos**, por ejemplo: 1 es un *entero*; 2.5 es un *flotante*; y \"¡Hola!\" es una cadena (en la *sección 2* se explica con mayor detalle). Utilizando la función `type` se peude saber el tipo de valor:\n",
    "\n",
    "```python\n",
    "#Un valor tipo cadena\n",
    "type(\"¡Hola!\")\n",
    ">>> 'str'\n",
    "\n",
    "#Un valor entero\n",
    "type(1)\n",
    ">>> 'int'\n",
    "\n",
    "#Un valor tipo flotante\n",
    "type(2.5)\n",
    ">>> 'float'\n",
    "\n",
    "```"
   ]
  },
  {
   "cell_type": "markdown",
   "id": "10c413aa",
   "metadata": {},
   "source": [
    "### 1.2. Variables\n",
    "\n",
    "Una **variable** es un nombre que se refiere a un valor o conjunto de valores. En una variable se guardan objetos que peuden ser utilizados posteriormente. Una declaración de asignación crea nuevas variables y les da valores:"
   ]
  },
  {
   "cell_type": "code",
   "execution_count": 1,
   "id": "81e4c1a0",
   "metadata": {},
   "outputs": [
    {
     "name": "stdout",
     "output_type": "stream",
     "text": [
      "Hola. ¡Estoy aprendiendo Python!\n"
     ]
    }
   ],
   "source": [
    "#Se asigna un texto o cadena a la variable mensaje\n",
    "mensaje = 'Hola. ¡Estoy aprendiendo Python!'\n",
    "print(mensaje)"
   ]
  },
  {
   "cell_type": "code",
   "execution_count": 2,
   "id": "c23a0048",
   "metadata": {},
   "outputs": [
    {
     "data": {
      "text/plain": [
       "str"
      ]
     },
     "execution_count": 2,
     "metadata": {},
     "output_type": "execute_result"
    }
   ],
   "source": [
    "#Conocemos el tipo de variable\n",
    "type(mensaje)"
   ]
  },
  {
   "cell_type": "code",
   "execution_count": 3,
   "id": "a3089288",
   "metadata": {},
   "outputs": [
    {
     "name": "stdout",
     "output_type": "stream",
     "text": [
      "17\n"
     ]
    }
   ],
   "source": [
    "#Se asigna un número\n",
    "numero = 17\n",
    "print(numero)"
   ]
  },
  {
   "cell_type": "code",
   "execution_count": 4,
   "id": "48a288fd",
   "metadata": {},
   "outputs": [
    {
     "data": {
      "text/plain": [
       "int"
      ]
     },
     "execution_count": 4,
     "metadata": {},
     "output_type": "execute_result"
    }
   ],
   "source": [
    "#Conocemos el tipo de variable\n",
    "type(numero)"
   ]
  },
  {
   "cell_type": "code",
   "execution_count": 5,
   "id": "6c378d3b",
   "metadata": {},
   "outputs": [
    {
     "name": "stdout",
     "output_type": "stream",
     "text": [
      "3.141592\n"
     ]
    }
   ],
   "source": [
    "#Se asigna un flotante\n",
    "pi = 3.141592\n",
    "print(pi)"
   ]
  },
  {
   "cell_type": "code",
   "execution_count": 6,
   "id": "b5b74782",
   "metadata": {},
   "outputs": [
    {
     "data": {
      "text/plain": [
       "float"
      ]
     },
     "execution_count": 6,
     "metadata": {},
     "output_type": "execute_result"
    }
   ],
   "source": [
    "#Conocemos el tipo de variable\n",
    "type(pi)"
   ]
  },
  {
   "cell_type": "markdown",
   "id": "24b92606",
   "metadata": {},
   "source": [
    "**Una vez creada una variable podemos utilizarla para volver a definirse a sí misma:**"
   ]
  },
  {
   "cell_type": "code",
   "execution_count": 7,
   "id": "83c5e1a2",
   "metadata": {},
   "outputs": [
    {
     "name": "stdout",
     "output_type": "stream",
     "text": [
      "32\n"
     ]
    }
   ],
   "source": [
    "#Reasignamos el valore de la variable 'numero'\n",
    "numero = numero +15\n",
    "print(numero)"
   ]
  },
  {
   "cell_type": "markdown",
   "id": "d1403fb9",
   "metadata": {},
   "source": [
    "**Una variable puede ser reasignada con un objeto distinto, es decir, una variable número puede reasignarse como texto:**"
   ]
  },
  {
   "cell_type": "code",
   "execution_count": 8,
   "id": "9ff934c4",
   "metadata": {},
   "outputs": [
    {
     "name": "stdout",
     "output_type": "stream",
     "text": [
      "Soy un número\n"
     ]
    }
   ],
   "source": [
    "#Reasignamos\n",
    "pi = 'Soy un número'\n",
    "print(pi)"
   ]
  },
  {
   "cell_type": "markdown",
   "id": "4894482f",
   "metadata": {},
   "source": [
    "**Importante:** Las variables solo pueden asignarles nombres con caracteres alfanúmericos y no pueden comenzar con número. Tampoco se puede nombrar una variable con algunas de las palabras claves (Keywords), que son palabras sirven para reconocer la estructura del programa. Los Keywords de Pyhon son lso siguientes:\n",
    "PythonKeywords\n",
    "<div>\n",
    "    <img src=\"Imagen/PythonKeywords.png\" width=\"500\"/> \n",
    "</div>"
   ]
  },
  {
   "cell_type": "code",
   "execution_count": 9,
   "id": "8d7b8b8d",
   "metadata": {},
   "outputs": [
    {
     "name": "stdout",
     "output_type": "stream",
     "text": [
      "['False', 'None', 'True', 'and', 'as', 'assert', 'async', 'await', 'break', 'class', 'continue', 'def', 'del', 'elif', 'else', 'except', 'finally', 'for', 'from', 'global', 'if', 'import', 'in', 'is', 'lambda', 'nonlocal', 'not', 'or', 'pass', 'raise', 'return', 'try', 'while', 'with', 'yield']\n"
     ]
    }
   ],
   "source": [
    "#Se imprimen las Keywords\n",
    "import keyword\n",
    "print(keyword.kwlist)"
   ]
  },
  {
   "cell_type": "markdown",
   "id": "20f57a00",
   "metadata": {},
   "source": [
    "#### Nombrando variables\n",
    "\n",
    "```python\n",
    "# Válido\n",
    "_var = 10\n",
    "vari_ = 20\n",
    "var10 = 30\n",
    "VAR1 = 60\n",
    "vAr = 10\n",
    "\n",
    "# No válido\n",
    "2var = 10\n",
    "va-r = 10\n",
    "va r = 10\n",
    "```"
   ]
  },
  {
   "cell_type": "markdown",
   "id": "84cd92f0",
   "metadata": {},
   "source": [
    "### 1.3. Sentencias\n",
    "Una **sentencia (statement)** es una unidad de código que el intérprete de Python puede ejecutar. Cuando usted digita una sentencia en la línea de comandos, Python la ejecuta y muestra el resultado, si hay alguno. Hasta, solo hemos utilizado la sentencia `print` y `type`"
   ]
  },
  {
   "cell_type": "code",
   "execution_count": 10,
   "id": "965663d7",
   "metadata": {},
   "outputs": [
    {
     "name": "stdout",
     "output_type": "stream",
     "text": [
      "1\n",
      "2\n",
      "<class 'int'>\n"
     ]
    }
   ],
   "source": [
    "#Por ejemplo:\n",
    "print(1)\n",
    "x = 2\n",
    "print(x)\n",
    "print(type(x))"
   ]
  },
  {
   "cell_type": "markdown",
   "id": "94ad50c4",
   "metadata": {},
   "source": [
    "### 1.4. Expresiones\n",
    "Una **expresión** es una combinación de valores, variables y operadores. Tanto un valor individual como una variable se consideran expresiones por sí mismos, por lo tanto, todas las siguientes son expresiones válidas."
   ]
  },
  {
   "cell_type": "code",
   "execution_count": 11,
   "id": "81e2477c",
   "metadata": {},
   "outputs": [
    {
     "data": {
      "text/plain": [
       "17"
      ]
     },
     "execution_count": 11,
     "metadata": {},
     "output_type": "execute_result"
    }
   ],
   "source": [
    "x = 15\n",
    "x + 2"
   ]
  },
  {
   "cell_type": "code",
   "execution_count": 12,
   "id": "336a1f37",
   "metadata": {},
   "outputs": [
    {
     "data": {
      "text/plain": [
       "17"
      ]
     },
     "execution_count": 12,
     "metadata": {},
     "output_type": "execute_result"
    }
   ],
   "source": [
    "1+2+5+9"
   ]
  },
  {
   "cell_type": "markdown",
   "id": "6cb22aac",
   "metadata": {},
   "source": [
    "### 1.5. Sintaxis en Python\n",
    "La **sintaxis** se refiere a las reglas que definen cómo se debe escribir el código en un lenguaje de programación específico. Es esencial para comunicarnos efectivamente con la computadora y garantizar que nuestras instrucciones sean entendidas correctamente. La sintaxis establece la estructura, la gramática y la forma en que debemos organizar y escribir las instrucciones para lograr un código válido y funcional. Siguiendo las reglas de sintaxis de un lenguaje de programación, podemos asegurarnos de que nuestras instrucciones sean interpretadas y ejecutadas adecuadamente por la máquina. \n",
    "\n",
    "**Importante:** La sintaxis de Python es sensible a matúsculas y minúsculas."
   ]
  },
  {
   "cell_type": "markdown",
   "id": "d184df45",
   "metadata": {},
   "source": [
    "* ### Asignaciones separadas: por linea de código "
   ]
  },
  {
   "cell_type": "code",
   "execution_count": 13,
   "id": "3d152f38",
   "metadata": {},
   "outputs": [],
   "source": [
    "x = \"Hola\"\n",
    "y = 5\n",
    "z = True"
   ]
  },
  {
   "cell_type": "markdown",
   "id": "38149590",
   "metadata": {},
   "source": [
    "* ### Múltiples asignaciones: en una misma línea"
   ]
  },
  {
   "cell_type": "code",
   "execution_count": 14,
   "id": "804f7053",
   "metadata": {},
   "outputs": [],
   "source": [
    "x, y, z = \"Hola\", 5, True"
   ]
  },
  {
   "cell_type": "code",
   "execution_count": 15,
   "id": "8b1db987",
   "metadata": {
    "scrolled": true
   },
   "outputs": [
    {
     "name": "stdout",
     "output_type": "stream",
     "text": [
      "Hola\n",
      "5\n",
      "True\n"
     ]
    },
    {
     "data": {
      "text/plain": [
       "(None, None, None)"
      ]
     },
     "execution_count": 15,
     "metadata": {},
     "output_type": "execute_result"
    }
   ],
   "source": [
    "print(x), print(y), print(z)"
   ]
  },
  {
   "cell_type": "markdown",
   "id": "29db6fb7",
   "metadata": {},
   "source": [
    "* ### Múltiples líneas\n",
    "\n",
    "En Python, si se coloca el caracter `\\` al final de una línea, indica que el código continúa en la siguiente línea. Esto permite escribir instrucciones largas o estructuras de código complejas en varias líneas, lo que facilita la lectura y comprensión del código.\n",
    "\n",
    "```python\n",
    "x = 1 + 2 + 3 + 4 +\\\n",
    "    5 + 6 + 7 + 8\n",
    "```"
   ]
  },
  {
   "cell_type": "markdown",
   "id": "2d5c01a5",
   "metadata": {},
   "source": [
    "* ### Comentarios\n",
    "Los comentarios son bloques de texto utilizados para añadir información relevante sobre el código. Sirven como anotaciones para otros programadores o para nosotros mismos en el futuro. En Python, los comentarios no se interpretan como código y no afectan la ejecución del programa. Los comentarios se inician con `#` y todo lo que vaya después en la misma línea será considerado un comentario.\n",
    "\n",
    "```python\n",
    "# Esto es un comentario\n",
    "print('Python') #Yo comento este código\n",
    "```"
   ]
  },
  {
   "cell_type": "markdown",
   "id": "7b15d508",
   "metadata": {},
   "source": [
    "* ### Identación y bloques de código\n",
    "En Python los bloques de código se representan con identación, que corresponde a presionar una vez la tecla `Tab` o cuatro espacios. Por ejemplo, si tienemos el siguiente condicional (se estudiará con más detalle) y justo después tenemos un print() identado 4 espacios o un `Tab`. Todo lo que esté identado pertenecerá al condicional:\n",
    "\n",
    "```python\n",
    "if x = True:\n",
    "    print(\"True\")\n",
    "    print(\"Es el verdadero valor\")\n",
    "```\n",
    "\n",
    "El siguiente código daría un <span style=\"color:red\">error</span>, ya que el condicional no contiene ningún bloque de código al no estar identado.\n",
    "\n",
    "```python\n",
    "if x = True:\n",
    "print(\"True\")\n",
    "print(\"Es el verdadero valor\")\n",
    "```\n"
   ]
  },
  {
   "cell_type": "markdown",
   "id": "eb907d2f",
   "metadata": {},
   "source": [
    "### 1.5. Mi primer programa\n",
    "\n",
    "Normal, el primer programa que se escribe en un nuevo lenguaje de programación es \"Hola, mundo\" porque su propósito es simplemente mostrar las palabras. En Python sería de la siguiente manera:"
   ]
  },
  {
   "cell_type": "code",
   "execution_count": 16,
   "id": "60485ec1",
   "metadata": {},
   "outputs": [
    {
     "name": "stdout",
     "output_type": "stream",
     "text": [
      "Hola, mundo!\n"
     ]
    }
   ],
   "source": [
    "#Mi primer programa\n",
    "print(\"Hola, mundo!\")"
   ]
  },
  {
   "cell_type": "code",
   "execution_count": 17,
   "id": "e798cda7",
   "metadata": {
    "scrolled": true
   },
   "outputs": [
    {
     "name": "stdout",
     "output_type": "stream",
     "text": [
      "John Nash\n",
      "Hola John Nash. Un gusto saludarte!\n"
     ]
    }
   ],
   "source": [
    "#Otro programa\n",
    "nombre = input()\n",
    "print(f'Hola {nombre}. Un gusto saludarte!')"
   ]
  },
  {
   "cell_type": "markdown",
   "id": "8f8e5ad6",
   "metadata": {},
   "source": [
    "### 1.6. Librerías y Funciones\n",
    "Una librería, también conocida como módulo o paquete, es un conjunto de código predefinido y funcionalidades que se pueden utilizar en programas de Python. Estas librerías contienen funciones, clases y métodos que se han desarrollado previamente para realizar tareas específicas.\n",
    "\n",
    "El importe de las librerias o funciones de la misma, se pueden hacer de tres diferentes maneras:"
   ]
  },
  {
   "cell_type": "markdown",
   "id": "eb4c4750",
   "metadata": {},
   "source": [
    "#### 1. Importamos una sola libreria"
   ]
  },
  {
   "cell_type": "code",
   "execution_count": 18,
   "id": "95f6ffdb",
   "metadata": {},
   "outputs": [
    {
     "name": "stdout",
     "output_type": "stream",
     "text": [
      "4.0\n"
     ]
    }
   ],
   "source": [
    "#Se importa la libreria\n",
    "import math\n",
    "\n",
    "#Se utiliza una función de la libhreria\n",
    "resultado = math.sqrt(16)\n",
    "\n",
    "print(resultado)"
   ]
  },
  {
   "cell_type": "markdown",
   "id": "e65efcca",
   "metadata": {},
   "source": [
    "#### 2. Importamos una sola libreria y la renombramos"
   ]
  },
  {
   "cell_type": "code",
   "execution_count": 19,
   "id": "e703b6a7",
   "metadata": {},
   "outputs": [
    {
     "name": "stdout",
     "output_type": "stream",
     "text": [
      "Arreglo: [1 2 3 4 5]\n",
      "Suma: 15\n",
      "Promedio: 3.0\n",
      "Máximo: 5\n"
     ]
    }
   ],
   "source": [
    "#Se importa la libreria\n",
    "import numpy as np #Se renombra como 'np'\n",
    "\n",
    "#Se utilizan funciones de la libreria, pero con el nombre que le asignamos\n",
    "numeros = np.array([1, 2, 3, 4, 5])\n",
    "\n",
    "#Se realiza las operaciones con el arreglo\n",
    "suma = np.sum(numeros)\n",
    "promedio = np.mean(numeros)\n",
    "maximo = np.max(numeros)\n",
    "\n",
    "print(\"Arreglo:\", numeros)\n",
    "print(\"Suma:\", suma)\n",
    "print(\"Promedio:\", promedio)\n",
    "print(\"Máximo:\", maximo)"
   ]
  },
  {
   "cell_type": "markdown",
   "id": "6a0a8078",
   "metadata": {},
   "source": [
    "#### 3. Importamos funciones de la libreria"
   ]
  },
  {
   "cell_type": "code",
   "execution_count": 20,
   "id": "2aaf81c6",
   "metadata": {},
   "outputs": [
    {
     "name": "stdout",
     "output_type": "stream",
     "text": [
      "Raíz cuadrada: 4.0\n",
      "Potencia: 8.0\n"
     ]
    }
   ],
   "source": [
    "#Se importan las funciones de la libreria\n",
    "from math import sqrt, pow #Las funciones que se importan son sqrt y pow\n",
    "\n",
    "# Se utilizan las funciones importadas\n",
    "resultado = sqrt(16)\n",
    "potencia = pow(2, 3)\n",
    "\n",
    "#Se imprimen\n",
    "print(\"Raíz cuadrada:\", resultado)\n",
    "print(\"Potencia:\", potencia)"
   ]
  },
  {
   "cell_type": "markdown",
   "id": "5e7dd2a9",
   "metadata": {},
   "source": [
    "### Nota:\n",
    "Algo muy importante. Dentro de Python podemos solicitar ayuda de una función de diferentes formas:\n",
    "\n",
    "1. Escribe la función y luego presiona `shift+tab`\n",
    "2. Colocar al final un signo de interrogación `?`\n",
    "```\n",
    "pow?\n",
    "```\n",
    "3. Usando `help()`\n",
    "```\n",
    "help(pow)\n",
    "```"
   ]
  },
  {
   "cell_type": "markdown",
   "id": "cdc89d11",
   "metadata": {},
   "source": [
    "# 2. Tipos de Datos en Python\n",
    "En Python, existen varios tipos de datos predefinidos que se utilizan para almacenar y manipular diferentes tipos de valores. b"
   ]
  },
  {
   "cell_type": "markdown",
   "id": "7916edc1",
   "metadata": {},
   "source": [
    "## 2.1. Numéricos"
   ]
  },
  {
   "cell_type": "markdown",
   "id": "a4bae1a4",
   "metadata": {},
   "source": [
    "### 2.1.1. Enteros o int\n",
    "Los enteros en Python son un tipo de datos que permite representar números enteros, es decir, positivos y negativos no decimales.\n"
   ]
  },
  {
   "cell_type": "code",
   "execution_count": 21,
   "id": "aedb0279",
   "metadata": {},
   "outputs": [
    {
     "name": "stdout",
     "output_type": "stream",
     "text": [
      "24\n",
      "<class 'int'>\n"
     ]
    }
   ],
   "source": [
    "#Ejemplo\n",
    "n = 24\n",
    "print(n)      \n",
    "print(type(n))"
   ]
  },
  {
   "cell_type": "markdown",
   "id": "083866d9",
   "metadata": {},
   "source": [
    "### 2.1.2. Flotantes o float\n",
    "Los flotantes en Python permiten representar un número positivo o negativo con decimales, es decir, números reales. "
   ]
  },
  {
   "cell_type": "code",
   "execution_count": 22,
   "id": "22bf359e",
   "metadata": {},
   "outputs": [
    {
     "name": "stdout",
     "output_type": "stream",
     "text": [
      "0.10093\n",
      "<class 'float'>\n"
     ]
    }
   ],
   "source": [
    "#Ejemplo \n",
    "n = 0.10093\n",
    "print(n)      \n",
    "print(type(n))"
   ]
  },
  {
   "cell_type": "markdown",
   "id": "13b9ecf9",
   "metadata": {},
   "source": [
    "### 2.1.3. Números complejos\n",
    "Los números complejos son aquellos que tienen dos partes: una parte real, como por ejemplo `7.5`; y otra imaginaria, como `7.5j`."
   ]
  },
  {
   "cell_type": "code",
   "execution_count": 23,
   "id": "15343268",
   "metadata": {},
   "outputs": [
    {
     "name": "stdout",
     "output_type": "stream",
     "text": [
      "(5+10.3j)\n",
      "<class 'complex'>\n"
     ]
    }
   ],
   "source": [
    "#Ejemplo\n",
    "n = 5 + 10.3j\n",
    "print(n)\n",
    "print(type(n))"
   ]
  },
  {
   "cell_type": "markdown",
   "id": "f9172c82",
   "metadata": {},
   "source": [
    "## 2.2. Cadenas o strings\n",
    "Las cadenas permiten almacenar secuencias de caracteres en una variable. Para crear una, es necesario incluir el texto entre comillas dobles `\"` o sencilla `'`."
   ]
  },
  {
   "cell_type": "code",
   "execution_count": 24,
   "id": "32be37bd",
   "metadata": {},
   "outputs": [
    {
     "name": "stdout",
     "output_type": "stream",
     "text": [
      "Esto es una variable String\n",
      "<class 'str'>\n"
     ]
    }
   ],
   "source": [
    "#Ejemplo\n",
    "texto = \"Esto es una variable String\"\n",
    "print(texto)\n",
    "print(type(texto))"
   ]
  },
  {
   "cell_type": "code",
   "execution_count": 25,
   "id": "fa67fe76",
   "metadata": {},
   "outputs": [
    {
     "name": "stdout",
     "output_type": "stream",
     "text": [
      "\n",
      "<class 'str'>\n"
     ]
    }
   ],
   "source": [
    "#Una cadena vacia\n",
    "texto = \"\"\n",
    "print(texto)\n",
    "print(type(texto))"
   ]
  },
  {
   "cell_type": "code",
   "execution_count": 26,
   "id": "fe4e9754",
   "metadata": {},
   "outputs": [
    {
     "name": "stdout",
     "output_type": "stream",
     "text": [
      "Para introducir comillas dobles (\"\"), la cadena debe de estar entre comillas simpls\n"
     ]
    }
   ],
   "source": [
    "#Introduciendo comillas en los textos\n",
    "texto = 'Para introducir comillas dobles (\"\"), la cadena debe de estar entre comillas simpls'\n",
    "print(texto)"
   ]
  },
  {
   "cell_type": "code",
   "execution_count": 27,
   "id": "0be9e537",
   "metadata": {},
   "outputs": [
    {
     "name": "stdout",
     "output_type": "stream",
     "text": [
      "Para introducir comillas simples (''), la cadena debe de estar entre comillas dobles\n"
     ]
    }
   ],
   "source": [
    "#Introduciendo comillas en los textos\n",
    "texto = \"Para introducir comillas simples (''), la cadena debe de estar entre comillas dobles\"\n",
    "print(texto)"
   ]
  },
  {
   "cell_type": "code",
   "execution_count": 28,
   "id": "a8df2847",
   "metadata": {
    "scrolled": true
   },
   "outputs": [
    {
     "name": "stdout",
     "output_type": "stream",
     "text": [
      "O para introducir comillas dobres se utiliza el BackSlash \" por ejemplo\n"
     ]
    }
   ],
   "source": [
    "#Introduciendo comillas en los textos\n",
    "texto = \"O para introducir comillas dobres se utiliza el BackSlash \\\" por ejemplo\"\n",
    "print(texto)"
   ]
  },
  {
   "cell_type": "code",
   "execution_count": 29,
   "id": "bc6ec05b",
   "metadata": {},
   "outputs": [
    {
     "name": "stdout",
     "output_type": "stream",
     "text": [
      "Este e sun texto\n",
      "que puedo escribir\n",
      "en varias lineas.\n"
     ]
    }
   ],
   "source": [
    "# Texto en más de una linea, utilizamos tres comillas simples o dobles\n",
    "texto = \"\"\"Este e sun texto\n",
    "que puedo escribir\n",
    "en varias lineas.\"\"\"\n",
    "print(texto)"
   ]
  },
  {
   "cell_type": "markdown",
   "id": "48ee663c",
   "metadata": {},
   "source": [
    "Si un número está entre comiillas, Python lo reconocera como texto. Por ejemplo, `\"25\"`."
   ]
  },
  {
   "cell_type": "code",
   "execution_count": 30,
   "id": "23090336",
   "metadata": {},
   "outputs": [
    {
     "name": "stdout",
     "output_type": "stream",
     "text": [
      "25\n",
      "<class 'str'>\n"
     ]
    }
   ],
   "source": [
    "#Número en formato texto\n",
    "n = \"25\"\n",
    "print(n)\n",
    "print(type(n))"
   ]
  },
  {
   "cell_type": "markdown",
   "id": "373ff0f3",
   "metadata": {},
   "source": [
    "## 2.3. Booleanos o bool\n",
    "Los booleanos son un tipo de dato que representa el concepto de verdad o falsedad. Hay dos posibles valores booleanos: `True` (verdadero) y `False` (falso). Este tipo de datos se pueden considerear como enteros: `True=1` o `False=0`."
   ]
  },
  {
   "cell_type": "markdown",
   "id": "a11d2038",
   "metadata": {},
   "source": [
    "#### Podemos declarar variables con valores de Booleanos"
   ]
  },
  {
   "cell_type": "code",
   "execution_count": 31,
   "id": "8e838eeb",
   "metadata": {},
   "outputs": [
    {
     "name": "stdout",
     "output_type": "stream",
     "text": [
      "True\n",
      "<class 'bool'>\n"
     ]
    }
   ],
   "source": [
    "b = True\n",
    "print(b)\n",
    "print(type(b))"
   ]
  },
  {
   "cell_type": "markdown",
   "id": "f310c42b",
   "metadata": {},
   "source": [
    "#### Podemos evaluar expresiones y se construyen Booleanos"
   ]
  },
  {
   "cell_type": "code",
   "execution_count": 32,
   "id": "3c2f144b",
   "metadata": {
    "scrolled": true
   },
   "outputs": [
    {
     "name": "stdout",
     "output_type": "stream",
     "text": [
      "True\n",
      "True\n",
      "False\n"
     ]
    }
   ],
   "source": [
    "print(5 > 0)  #True\n",
    "print(0 <= 0) #True\n",
    "print(9 != 9) #False"
   ]
  },
  {
   "cell_type": "markdown",
   "id": "9a6733ca",
   "metadata": {},
   "source": [
    "#### Podemoshacer operaciones con Booleanos"
   ]
  },
  {
   "cell_type": "code",
   "execution_count": 33,
   "id": "1b3c9fd0",
   "metadata": {},
   "outputs": [
    {
     "name": "stdout",
     "output_type": "stream",
     "text": [
      "3\n"
     ]
    }
   ],
   "source": [
    "x = True + 2\n",
    "print(x)"
   ]
  },
  {
   "cell_type": "markdown",
   "id": "809abfeb",
   "metadata": {},
   "source": [
    "## 2.4. Valor nulo o None\n",
    "En Python, el valor nulo se representa mediante el objeto especial `None`. `None` es utilizado para indicar la ausencia de un valor válido o cuando no se ha asignado un valor a una variable. Es comúnmente utilizado en Python para indicar la falta de retorno de una función o como un valor inicial cuando no se ha asignado ningún otro valor.\n",
    "\n",
    "Por ejemplo:\n",
    "```python\n",
    "var = None\n",
    "```\n",
    "En este caso, la variable se le ha asignado con el valor nulo None. Si se llama a esta variable no retirnará ningún resultado."
   ]
  },
  {
   "cell_type": "markdown",
   "id": "37c75e08",
   "metadata": {},
   "source": [
    "# 3. Operadores y operandos\n",
    "\n",
    "Los **operadores** son símbolos especiales que se utilizan para realizar cálculos, como la suma y la multiplicación. Los **operandos** son los valores a los que se aplica el operador. Las operaciones se pueden realizar, no solo a valores, sino tambien a variables o secuencias como Listas, Tuplas, etc.\n",
    "\n",
    "Los tipos de operaciones en Python son las siguientes:\n",
    "\n",
    "**1. Operaciones aritméticas**\n",
    "\n",
    "**2. Operaciones de asignación**\n",
    "\n",
    "**3. Operaciones de comparación**\n",
    "\n",
    "**4. Operaciones lógicas** (Este se explicará más adelante)"
   ]
  },
  {
   "cell_type": "markdown",
   "id": "a30795fb",
   "metadata": {},
   "source": [
    "## 3.1. Operaciones con datos numéricos\n",
    "Las operaciones se pueden realizar tanto a valores como a variables.\n",
    "\n",
    "**Operaciones aritméticas:**\n",
    "   * Suma: `a + b` \n",
    "   * Resta: `a - b`\n",
    "   * Multiplicación: `a * b`\n",
    "   * División: `a / b`\n",
    "   * División entera: `a // b`\n",
    "   * Módulo (residuo de la división): `a % b`\n",
    "   * Potencia: `a ** b`"
   ]
  },
  {
   "cell_type": "code",
   "execution_count": 34,
   "id": "2ec6798b",
   "metadata": {},
   "outputs": [
    {
     "data": {
      "text/plain": [
       "150"
      ]
     },
     "execution_count": 34,
     "metadata": {},
     "output_type": "execute_result"
    }
   ],
   "source": [
    "#Una suma de valores\n",
    "123+27"
   ]
  },
  {
   "cell_type": "code",
   "execution_count": 35,
   "id": "40e78d8a",
   "metadata": {},
   "outputs": [
    {
     "data": {
      "text/plain": [
       "5.333333333333333"
      ]
     },
     "execution_count": 35,
     "metadata": {},
     "output_type": "execute_result"
    }
   ],
   "source": [
    "#Una division de valores\n",
    "32/6"
   ]
  },
  {
   "cell_type": "code",
   "execution_count": 36,
   "id": "c48721dc",
   "metadata": {},
   "outputs": [
    {
     "name": "stdout",
     "output_type": "stream",
     "text": [
      "El valor de la variable a es: 15 y es de tipo <class 'int'>\n",
      "El valor de la variable a es: 3 y es de tipo <class 'int'>\n",
      "El valor de la variable a es: 2.5 y es de tipo <class 'float'>\n",
      "El valor de la variable a es: True y es de tipo <class 'bool'>\n"
     ]
    }
   ],
   "source": [
    "# Asignamos valores a dos variables\n",
    "a = 15\n",
    "b = 3 \n",
    "c = 2.5\n",
    "d = True #Recuerde qeu True = 1; False = 0\n",
    "print('El valor de la variable a es:',a,'y es de tipo', type(a))\n",
    "print('El valor de la variable a es:',b,'y es de tipo', type(b))\n",
    "print('El valor de la variable a es:',c,'y es de tipo', type(c))\n",
    "print('El valor de la variable a es:',d,'y es de tipo', type(d))"
   ]
  },
  {
   "cell_type": "markdown",
   "id": "be86696a",
   "metadata": {},
   "source": [
    "### 3.1.1. Operaciones aritméticas"
   ]
  },
  {
   "cell_type": "markdown",
   "id": "3f4c9a74",
   "metadata": {},
   "source": [
    "### Suma y resta"
   ]
  },
  {
   "cell_type": "code",
   "execution_count": 37,
   "id": "4fed654c",
   "metadata": {},
   "outputs": [
    {
     "name": "stdout",
     "output_type": "stream",
     "text": [
      "18\n"
     ]
    },
    {
     "data": {
      "text/plain": [
       "int"
      ]
     },
     "execution_count": 37,
     "metadata": {},
     "output_type": "execute_result"
    }
   ],
   "source": [
    "#Suma entre dos entero\n",
    "s1 = a + b\n",
    "print(s1)\n",
    "type(s1) \n",
    "\n",
    "#Vemos que la suma de dos enteros genera un entero"
   ]
  },
  {
   "cell_type": "code",
   "execution_count": 38,
   "id": "a4a581f6",
   "metadata": {},
   "outputs": [
    {
     "name": "stdout",
     "output_type": "stream",
     "text": [
      "12.5\n"
     ]
    },
    {
     "data": {
      "text/plain": [
       "float"
      ]
     },
     "execution_count": 38,
     "metadata": {},
     "output_type": "execute_result"
    }
   ],
   "source": [
    "#Suma de un entero y un flotante\n",
    "s2 = a - c\n",
    "print(s2)\n",
    "type(s2) \n",
    "\n",
    "#Vemos que la suma de un entero y un flotante genera un flotante"
   ]
  },
  {
   "cell_type": "code",
   "execution_count": 39,
   "id": "69a14070",
   "metadata": {},
   "outputs": [
    {
     "name": "stdout",
     "output_type": "stream",
     "text": [
      "4\n"
     ]
    },
    {
     "data": {
      "text/plain": [
       "int"
      ]
     },
     "execution_count": 39,
     "metadata": {},
     "output_type": "execute_result"
    }
   ],
   "source": [
    "#Suma de entero y un booleano\n",
    "s3 = b + d\n",
    "print(s3)\n",
    "type(s3) \n",
    "\n",
    "#Como el booleano es un entero igual a 1, entonces se genera un entero."
   ]
  },
  {
   "cell_type": "markdown",
   "id": "ca23a1a3",
   "metadata": {},
   "source": [
    "### Multiplicación"
   ]
  },
  {
   "cell_type": "code",
   "execution_count": 40,
   "id": "0ac031ef",
   "metadata": {},
   "outputs": [
    {
     "name": "stdout",
     "output_type": "stream",
     "text": [
      "45\n"
     ]
    },
    {
     "data": {
      "text/plain": [
       "int"
      ]
     },
     "execution_count": 40,
     "metadata": {},
     "output_type": "execute_result"
    }
   ],
   "source": [
    "# Multiplicación entre dos entero\n",
    "m1 = a * b\n",
    "print(m1)\n",
    "type(m1) "
   ]
  },
  {
   "cell_type": "code",
   "execution_count": 41,
   "id": "628551e0",
   "metadata": {},
   "outputs": [
    {
     "name": "stdout",
     "output_type": "stream",
     "text": [
      "30.0\n"
     ]
    },
    {
     "data": {
      "text/plain": [
       "float"
      ]
     },
     "execution_count": 41,
     "metadata": {},
     "output_type": "execute_result"
    }
   ],
   "source": [
    "# Multiplicación entre un entero y un flotante\n",
    "m2 = 12 * c\n",
    "print(m2)\n",
    "type(m2) \n",
    "\n",
    "#Se genera un flotante"
   ]
  },
  {
   "cell_type": "code",
   "execution_count": 42,
   "id": "03ccf817",
   "metadata": {},
   "outputs": [
    {
     "name": "stdout",
     "output_type": "stream",
     "text": [
      "0\n"
     ]
    },
    {
     "data": {
      "text/plain": [
       "int"
      ]
     },
     "execution_count": 42,
     "metadata": {},
     "output_type": "execute_result"
    }
   ],
   "source": [
    "# Multiplicación entre un entero y booleano\n",
    "m3 = a * False\n",
    "print(m3)\n",
    "type(m3) \n",
    "\n",
    "#Como el booleano False es igual a cero, la multiplicación da cero."
   ]
  },
  {
   "cell_type": "markdown",
   "id": "4640f366",
   "metadata": {},
   "source": [
    "### División"
   ]
  },
  {
   "cell_type": "code",
   "execution_count": 43,
   "id": "193a5b70",
   "metadata": {},
   "outputs": [
    {
     "name": "stdout",
     "output_type": "stream",
     "text": [
      "5.0\n"
     ]
    },
    {
     "data": {
      "text/plain": [
       "float"
      ]
     },
     "execution_count": 43,
     "metadata": {},
     "output_type": "execute_result"
    }
   ],
   "source": [
    "# División entre dos entero\n",
    "d1 = a / b\n",
    "print(d1)\n",
    "type(d1) \n",
    "\n",
    "#Una división siempre genera un flotante"
   ]
  },
  {
   "cell_type": "code",
   "execution_count": 44,
   "id": "87ca629d",
   "metadata": {},
   "outputs": [
    {
     "name": "stdout",
     "output_type": "stream",
     "text": [
      "1.875\n"
     ]
    },
    {
     "data": {
      "text/plain": [
       "float"
      ]
     },
     "execution_count": 44,
     "metadata": {},
     "output_type": "execute_result"
    }
   ],
   "source": [
    "# División entre dos entero\n",
    "d2 = a / 8\n",
    "print(d2)\n",
    "type(d2) "
   ]
  },
  {
   "cell_type": "markdown",
   "id": "40dd4bb6",
   "metadata": {},
   "source": [
    "### División entera\n",
    "\n",
    "La división entera siempre devuelve la parte entera del número flotante"
   ]
  },
  {
   "cell_type": "code",
   "execution_count": 45,
   "id": "12596234",
   "metadata": {},
   "outputs": [
    {
     "name": "stdout",
     "output_type": "stream",
     "text": [
      "1.0\n"
     ]
    },
    {
     "data": {
      "text/plain": [
       "float"
      ]
     },
     "execution_count": 45,
     "metadata": {},
     "output_type": "execute_result"
    }
   ],
   "source": [
    "d3 = c // 2 #Recuerde que c es un flotante\n",
    "print(d3)\n",
    "type(d3) "
   ]
  },
  {
   "cell_type": "code",
   "execution_count": 46,
   "id": "6c4da409",
   "metadata": {},
   "outputs": [
    {
     "name": "stdout",
     "output_type": "stream",
     "text": [
      "1\n"
     ]
    },
    {
     "data": {
      "text/plain": [
       "int"
      ]
     },
     "execution_count": 46,
     "metadata": {},
     "output_type": "execute_result"
    }
   ],
   "source": [
    "d4 = a // 10\n",
    "print(d4)\n",
    "type(d4)"
   ]
  },
  {
   "cell_type": "code",
   "execution_count": 47,
   "id": "fa72f31f",
   "metadata": {},
   "outputs": [
    {
     "name": "stdout",
     "output_type": "stream",
     "text": [
      "3.3333333333333335 División\n",
      "3 División entera\n"
     ]
    }
   ],
   "source": [
    "# Vemos la diferencia enre los dos tipos de divisiones\n",
    "print(10/3, 'División')\n",
    "print(10//3, 'División entera')"
   ]
  },
  {
   "cell_type": "markdown",
   "id": "a85b5d57",
   "metadata": {},
   "source": [
    "### Módulo\n",
    "\n",
    "Devuelve el residual de la la división. Es muy útil para saber criterios de divisivilidad. Por ejemplo, si se quiere saber si cualquier número es par, el residual de la división entre el número y 2 es igual a cero. "
   ]
  },
  {
   "cell_type": "code",
   "execution_count": 48,
   "id": "f7bece92",
   "metadata": {},
   "outputs": [
    {
     "data": {
      "text/plain": [
       "0"
      ]
     },
     "execution_count": 48,
     "metadata": {},
     "output_type": "execute_result"
    }
   ],
   "source": [
    "mod1 = 50 % 2\n",
    "mod1"
   ]
  },
  {
   "cell_type": "code",
   "execution_count": 49,
   "id": "888aab9d",
   "metadata": {},
   "outputs": [
    {
     "data": {
      "text/plain": [
       "1"
      ]
     },
     "execution_count": 49,
     "metadata": {},
     "output_type": "execute_result"
    }
   ],
   "source": [
    "mod2 = 10 % 3\n",
    "mod2"
   ]
  },
  {
   "cell_type": "code",
   "execution_count": 50,
   "id": "ca70f358",
   "metadata": {},
   "outputs": [
    {
     "data": {
      "text/plain": [
       "3"
      ]
     },
     "execution_count": 50,
     "metadata": {},
     "output_type": "execute_result"
    }
   ],
   "source": [
    "mod3 = b % a\n",
    "mod3"
   ]
  },
  {
   "cell_type": "markdown",
   "id": "f51d0d86",
   "metadata": {},
   "source": [
    "### Potencia"
   ]
  },
  {
   "cell_type": "code",
   "execution_count": 51,
   "id": "ded86152",
   "metadata": {},
   "outputs": [
    {
     "data": {
      "text/plain": [
       "3375"
      ]
     },
     "execution_count": 51,
     "metadata": {},
     "output_type": "execute_result"
    }
   ],
   "source": [
    "p1 = a**b\n",
    "p1"
   ]
  },
  {
   "cell_type": "code",
   "execution_count": 52,
   "id": "b1a87de1",
   "metadata": {},
   "outputs": [
    {
     "data": {
      "text/plain": [
       "15.588457268119896"
      ]
     },
     "execution_count": 52,
     "metadata": {},
     "output_type": "execute_result"
    }
   ],
   "source": [
    "p2 = b**c\n",
    "p2"
   ]
  },
  {
   "cell_type": "code",
   "execution_count": 53,
   "id": "698597d7",
   "metadata": {
    "scrolled": true
   },
   "outputs": [
    {
     "data": {
      "text/plain": [
       "1"
      ]
     },
     "execution_count": 53,
     "metadata": {},
     "output_type": "execute_result"
    }
   ],
   "source": [
    "p3 = 150**0\n",
    "p3"
   ]
  },
  {
   "cell_type": "markdown",
   "id": "ade6e141",
   "metadata": {},
   "source": [
    "### 3.1.2. Orden de las operaciones\n",
    "\n",
    "Cuando aparece más de un operador en una expresión, el orden de evaluación depende de las reglas de precedencia. Para los operadores matemáticos, Python sigue la convención matemática. El acrónimo PPMDSR (PEMDAS en inglés) es una forma útil de recordar las reglas:\n",
    "\n",
    "1. **P**aréntesis tienen la prioridad más alta y se pueden usar para forzar que una expresión se evalúe en el orden que desee. Dado que las expresiones entre paréntesis se evalúan primero, `5 * (3-1) es 10` y `(1+3)**(5-2) es 64`. También puede usar paréntesis para facilitar la lectura de una expresión, como en `(25/150)*100`, incluso si no cambia el resultado.\n",
    "\n",
    "2. **P**otenciación tiene la siguiente prioridad más alta, por lo que `3 + 2**3 es 11` y no `125`.\n",
    "\n",
    "3. **M**ultiplicación y la **D**ivisión tienen mayor prioridad que la **S**uma y la **R**esta. Por lo tanto, `2*2-1 es 2` y `10+4/2 es 12`.\n",
    "\n",
    "4. Los operadores con la misma precedencia se evalúan de izquierda a derecha. Entonces la expresión `10-4-1 es 5` porque el `10-4` ocurre primero y luego se resta `1 de 6`. "
   ]
  },
  {
   "cell_type": "markdown",
   "id": "d9a8ef9c",
   "metadata": {},
   "source": [
    "**¿Cúal es el resultado de la siguiente expresión? ¿Cúal es el orden en que se realizan las operaciones?**\n",
    "\n",
    "```python\n",
    "x = 5\n",
    "y = 3\n",
    "z = 8\n",
    "(x**2+y/z)*(z+x+y*10)**2\n",
    "```"
   ]
  },
  {
   "cell_type": "markdown",
   "id": "5298d223",
   "metadata": {},
   "source": [
    "### 3.1.3. Operaciones de asignación\n",
    "\n",
    "**Operaciones de asignación:**\n",
    "   * Asignación simple: `a = b`\n",
    "   * Asignación con operación: \n",
    "      * `a += b` (equivalente a `a = a + b`)\n",
    "      * `a -= b` (equivalente a `a = a - b`)\n",
    "      * `a *= b` (equivalente a `a = a * b`) \n",
    "      * `a /= b` (equivalente a `a = a / b`) "
   ]
  },
  {
   "cell_type": "code",
   "execution_count": 54,
   "id": "3572ce25",
   "metadata": {},
   "outputs": [],
   "source": [
    "#Asignacione ssimple a variables\n",
    "x = 5\n",
    "y = 3\n",
    "z = 8"
   ]
  },
  {
   "cell_type": "code",
   "execution_count": 55,
   "id": "1b826a64",
   "metadata": {},
   "outputs": [
    {
     "data": {
      "text/plain": [
       "8"
      ]
     },
     "execution_count": 55,
     "metadata": {},
     "output_type": "execute_result"
    }
   ],
   "source": [
    "x, y = 5, 3\n",
    "\n",
    "#Suma\n",
    "x +=y\n",
    "x"
   ]
  },
  {
   "cell_type": "code",
   "execution_count": 56,
   "id": "911de158",
   "metadata": {},
   "outputs": [
    {
     "data": {
      "text/plain": [
       "2"
      ]
     },
     "execution_count": 56,
     "metadata": {},
     "output_type": "execute_result"
    }
   ],
   "source": [
    "x, y = 5, 3\n",
    "\n",
    "#Resta\n",
    "x -=y\n",
    "x"
   ]
  },
  {
   "cell_type": "code",
   "execution_count": 57,
   "id": "c6a28b66",
   "metadata": {},
   "outputs": [
    {
     "data": {
      "text/plain": [
       "15"
      ]
     },
     "execution_count": 57,
     "metadata": {},
     "output_type": "execute_result"
    }
   ],
   "source": [
    "x, y = 5, 3\n",
    "\n",
    "#Multiplicación\n",
    "x *=y\n",
    "x"
   ]
  },
  {
   "cell_type": "code",
   "execution_count": 58,
   "id": "ac06db42",
   "metadata": {},
   "outputs": [
    {
     "data": {
      "text/plain": [
       "1.6666666666666667"
      ]
     },
     "execution_count": 58,
     "metadata": {},
     "output_type": "execute_result"
    }
   ],
   "source": [
    "x, y = 5, 3\n",
    "\n",
    "#División\n",
    "x /=y\n",
    "x"
   ]
  },
  {
   "cell_type": "markdown",
   "id": "323899c5",
   "metadata": {},
   "source": [
    "### 3.1.4. Operaciones de comparación\n",
    "Las operaciones de comparación en Python son operaciones que se utilizan para comparar dos valores y determinar su relación. Estas operaciones devuelven un valor booleano (`True` o `False`) según se cumpla o no la condición de comparación.\n",
    "\n",
    "**Operaciones de comparación:**\n",
    "   * Igualdad: `a == b`\n",
    "   * Desigualdad o diferente de: `a != b`\n",
    "   * Estrictamente mayor que: `a > b`\n",
    "   * Estrictamente menor que: `a < b`\n",
    "   * Mayor o igual que: `a >= b`\n",
    "   * Menor o igual que: `a <= b`\n",
    "   * Verifica indentidad del objeto: `is`\n",
    "   * Niega la indentidad del objeto: `not is`"
   ]
  },
  {
   "cell_type": "code",
   "execution_count": 59,
   "id": "ec0c89ca",
   "metadata": {},
   "outputs": [
    {
     "data": {
      "text/plain": [
       "False"
      ]
     },
     "execution_count": 59,
     "metadata": {},
     "output_type": "execute_result"
    }
   ],
   "source": [
    "#Comprueba si dos valores son iguales\n",
    "3 == 5 "
   ]
  },
  {
   "cell_type": "code",
   "execution_count": 60,
   "id": "10769992",
   "metadata": {},
   "outputs": [
    {
     "data": {
      "text/plain": [
       "True"
      ]
     },
     "execution_count": 60,
     "metadata": {},
     "output_type": "execute_result"
    }
   ],
   "source": [
    "#Comprueba si dos valores no son iguales\n",
    "3 != 5"
   ]
  },
  {
   "cell_type": "code",
   "execution_count": 61,
   "id": "2f49cf2e",
   "metadata": {},
   "outputs": [
    {
     "data": {
      "text/plain": [
       "False"
      ]
     },
     "execution_count": 61,
     "metadata": {},
     "output_type": "execute_result"
    }
   ],
   "source": [
    "#Comprueba si el primer valor es mayor que el segundo\n",
    "3 > 5"
   ]
  },
  {
   "cell_type": "code",
   "execution_count": 62,
   "id": "091f9fbd",
   "metadata": {},
   "outputs": [
    {
     "data": {
      "text/plain": [
       "True"
      ]
     },
     "execution_count": 62,
     "metadata": {},
     "output_type": "execute_result"
    }
   ],
   "source": [
    "#Comprueba si el primer valor es menor que el segundo\n",
    "3 < 5 "
   ]
  },
  {
   "cell_type": "code",
   "execution_count": 63,
   "id": "0a11a7c7",
   "metadata": {},
   "outputs": [
    {
     "ename": "SyntaxError",
     "evalue": "invalid syntax (3654056233.py, line 2)",
     "output_type": "error",
     "traceback": [
      "\u001b[1;36m  Cell \u001b[1;32mIn[63], line 2\u001b[1;36m\u001b[0m\n\u001b[1;33m    5 >= 3 devuelve True\u001b[0m\n\u001b[1;37m           ^\u001b[0m\n\u001b[1;31mSyntaxError\u001b[0m\u001b[1;31m:\u001b[0m invalid syntax\n"
     ]
    }
   ],
   "source": [
    "#Comprueba si el primer valor es mayor o igual que el segundo\n",
    "5 >= 3 devuelve True"
   ]
  },
  {
   "cell_type": "code",
   "execution_count": 64,
   "id": "90db8a9b",
   "metadata": {},
   "outputs": [],
   "source": [
    "#Verifica la igualdad de valores entre dos objetos\n",
    "x = 5\n",
    "y = 3"
   ]
  },
  {
   "cell_type": "code",
   "execution_count": 65,
   "id": "a04c5087",
   "metadata": {},
   "outputs": [
    {
     "data": {
      "text/plain": [
       "False"
      ]
     },
     "execution_count": 65,
     "metadata": {},
     "output_type": "execute_result"
    }
   ],
   "source": [
    "x is y"
   ]
  },
  {
   "cell_type": "code",
   "execution_count": 66,
   "id": "47e89895",
   "metadata": {
    "scrolled": true
   },
   "outputs": [
    {
     "data": {
      "text/plain": [
       "True"
      ]
     },
     "execution_count": 66,
     "metadata": {},
     "output_type": "execute_result"
    }
   ],
   "source": [
    "x is not y"
   ]
  },
  {
   "cell_type": "markdown",
   "id": "73e3d653",
   "metadata": {},
   "source": [
    "## 3.2. Operaciones con cadenas (strings)\n",
    "En general, Pythonno puede realizar operaciones matemáticas en cadenas, incluso si las cadenas parecen números, por lo que las siguientes no son validas:`\"2\"-\"1\"`; `'carro'/2`; `'cinco'*'dos'`. Sin embargo, existen excepciones con los operadores `+` y `*`:\n",
    "* El operador `+` **concatena** la cadena de texto.\n",
    "* El operador `*` realiza **repetición** de a cadena de texto."
   ]
  },
  {
   "cell_type": "code",
   "execution_count": 67,
   "id": "b695798e",
   "metadata": {},
   "outputs": [],
   "source": [
    "#Declaramos las variables de texto\n",
    "t1 = 'Analitica'\n",
    "t2 = 'datos'"
   ]
  },
  {
   "cell_type": "code",
   "execution_count": 68,
   "id": "50a5077b",
   "metadata": {},
   "outputs": [
    {
     "name": "stdout",
     "output_type": "stream",
     "text": [
      "Analiticadatos\n",
      "Analitica datos\n",
      "Analitica de datos\n"
     ]
    }
   ],
   "source": [
    "# Suma\n",
    "print(t1+t2) # Sumamos la cadena\n",
    "print(t1+' '+t2) # Le agregamos un espacio\n",
    "print(t1+' '+'de'+' '+t2) # Le agregamos un espacio y una palabra adicional"
   ]
  },
  {
   "cell_type": "code",
   "execution_count": 69,
   "id": "e7e74829",
   "metadata": {},
   "outputs": [
    {
     "name": "stdout",
     "output_type": "stream",
     "text": [
      "AnaliticaAnalitica\n",
      "datosdatosdatosdatosdatos\n"
     ]
    }
   ],
   "source": [
    "# Multiplicación\n",
    "print(t1*2) # Dos repeticiones\n",
    "print(t2*5) # Cinco repeticiones"
   ]
  },
  {
   "cell_type": "code",
   "execution_count": 70,
   "id": "57b20de1",
   "metadata": {},
   "outputs": [
    {
     "name": "stdout",
     "output_type": "stream",
     "text": [
      "Analitica de datos Analitica de datos Analitica de datos Analitica de datos Analitica de datos \n"
     ]
    }
   ],
   "source": [
    "#Multiplicación y suma\n",
    "print((t1+' '+'de'+' '+t2+' ')*5)"
   ]
  },
  {
   "cell_type": "markdown",
   "id": "bce64bb9",
   "metadata": {},
   "source": [
    "Los operadores de comparación en Python se pueden utilizar para comparar cadenas de texto (strings) también. Del mismo modo retorna un Booleano como resultado."
   ]
  },
  {
   "cell_type": "code",
   "execution_count": 71,
   "id": "fe427c53",
   "metadata": {},
   "outputs": [
    {
     "data": {
      "text/plain": [
       "True"
      ]
     },
     "execution_count": 71,
     "metadata": {},
     "output_type": "execute_result"
    }
   ],
   "source": [
    "# Igualdad: == \n",
    "# Comprueba si dos cadenas de texto son idénticas\n",
    "'hola' == 'hola'"
   ]
  },
  {
   "cell_type": "code",
   "execution_count": 72,
   "id": "d868f183",
   "metadata": {},
   "outputs": [
    {
     "data": {
      "text/plain": [
       "True"
      ]
     },
     "execution_count": 72,
     "metadata": {},
     "output_type": "execute_result"
    }
   ],
   "source": [
    "# Desigualdad: !=\n",
    "#Comprueba si dos cadenas de texto son diferentes\n",
    "'hola' != 'adios'"
   ]
  },
  {
   "cell_type": "code",
   "execution_count": 73,
   "id": "cad4f35d",
   "metadata": {},
   "outputs": [
    {
     "data": {
      "text/plain": [
       "True"
      ]
     },
     "execution_count": 73,
     "metadata": {},
     "output_type": "execute_result"
    }
   ],
   "source": [
    "# Mayor que: >\n",
    "#Comprueba si una cadena de texto es mayor que otra en orden alfabético.\n",
    "'b' > 'a'"
   ]
  },
  {
   "cell_type": "code",
   "execution_count": 74,
   "id": "20bf9201",
   "metadata": {},
   "outputs": [
    {
     "data": {
      "text/plain": [
       "True"
      ]
     },
     "execution_count": 74,
     "metadata": {},
     "output_type": "execute_result"
    }
   ],
   "source": [
    "# Menor que: <\n",
    "# Comprueba si una cadena de texto es menor que otra en orden alfabético.\n",
    "'a' < 'b'"
   ]
  },
  {
   "cell_type": "code",
   "execution_count": 75,
   "id": "09ecfef0",
   "metadata": {},
   "outputs": [
    {
     "data": {
      "text/plain": [
       "True"
      ]
     },
     "execution_count": 75,
     "metadata": {},
     "output_type": "execute_result"
    }
   ],
   "source": [
    "# Mayor o igual que: >=\n",
    "#Comprueba si una cadena de texto es mayor o igual que otra en orden alfabético.\n",
    "'hola' >= 'adios'"
   ]
  },
  {
   "cell_type": "code",
   "execution_count": 76,
   "id": "0447821e",
   "metadata": {},
   "outputs": [
    {
     "data": {
      "text/plain": [
       "False"
      ]
     },
     "execution_count": 76,
     "metadata": {},
     "output_type": "execute_result"
    }
   ],
   "source": [
    "# Menor o igual que: <=\n",
    "# Comprueba si una cadena de texto es menor o igual que otra en orden alfabético.\n",
    "'hola' <= 'adios'"
   ]
  },
  {
   "cell_type": "markdown",
   "id": "84f54593",
   "metadata": {},
   "source": [
    "También se pueden utilizar los operadores `in` y `not in` para verificar si una subcadena está o no presente en la cadena de texto."
   ]
  },
  {
   "cell_type": "code",
   "execution_count": 77,
   "id": "7eeed6b8",
   "metadata": {},
   "outputs": [],
   "source": [
    "mensaje = \"¡Hola, bienvenido al curso de Analitica de Datos!\""
   ]
  },
  {
   "cell_type": "code",
   "execution_count": 78,
   "id": "69352012",
   "metadata": {},
   "outputs": [
    {
     "name": "stdout",
     "output_type": "stream",
     "text": [
      "True\n",
      "False\n"
     ]
    }
   ],
   "source": [
    "#Verifica si una subcadena esta presente en la cadena de texto\n",
    "print('Analitica' in mensaje) # True, 'Analitica' está presente en el mensaje\n",
    "print('analitica' in mensaje) # False, 'analitica' no está presente en el mensaje (sensible a mayúsculas y minúsculas)"
   ]
  },
  {
   "cell_type": "code",
   "execution_count": 79,
   "id": "02d47501",
   "metadata": {},
   "outputs": [
    {
     "name": "stdout",
     "output_type": "stream",
     "text": [
      "False\n",
      "True\n"
     ]
    }
   ],
   "source": [
    "#Verifica si una subcadena ni esta presente en la cadena de texto\n",
    "print('Hola' not in mensaje) # False, 'Hola' está presente en el mensaje\n",
    "print('Python' not in mensaje) # True, 'bienvenido' no está presente en el mensaje"
   ]
  },
  {
   "cell_type": "markdown",
   "id": "bf97ea9e",
   "metadata": {},
   "source": [
    "# 4. Estructuras de Datos en Python\n",
    "Python ofrece varias estructuras de datos incorporadas que son fundamentales para organizar y manipular datos. \n",
    "Aquí están algunas de las estructuras de datos más comunes en Python:\n",
    "\n",
    "* Listas\n",
    "* Tuplas\n",
    "* Diccionarios\n",
    "* Conjuntos/Sets\n",
    "\n",
    "Además de estas, Python también proporciona librerias para trabajar con estructuras de datos más complejas, como Dataframe y Arrays (posteriormente estudiaremos osbre estas estructuras de datos) "
   ]
  },
  {
   "cell_type": "markdown",
   "id": "7466d548",
   "metadata": {},
   "source": [
    "## 4.1. Listas\n",
    "Una lista es una colección ordenada y modificable de elementos. Puede contener elementos de diferentes tipos de datos (numéricos, cadena, booleanos, y hasta listas) y se representa mediante corchetes `[]`. Son mutables y dinámicas, lo cual es la principal diferencia con los sets y las tuplas.\n",
    "\n",
    "**Propiedades de las listas en Python:**\n",
    "\n",
    "* **Orden:** Las listas son ordenadas, lo que significa que mantienen el orden en el que se han definido. Los elementos se almacenan en la lista en el mismo orden en el que se agregaron.\n",
    "\n",
    "* **Tipos arbitrarios:** Las listas pueden contener elementos de cualquier tipo de dato, incluyendo enteros, cadenas, booleanos, objetos e incluso otras listas. Esto brinda flexibilidad para almacenar y manipular diferentes tipos de datos en una lista.\n",
    "\n",
    "* **Indexación:** Las listas se pueden acceder mediante la indexación utilizando corchetes []. Cada elemento de la lista tiene un índice numérico, comenzando desde 0 para el primer elemento.\n",
    "\n",
    "* **Anidamiento:** Las listas pueden ser anidadas, lo que significa que se pueden incluir una lista dentro de otra lista. Esto permite estructuras de datos más complejas y la organización jerárquica de los elementos.\n",
    "\n",
    "* **Mutabilidad:** Las listas son estructuras de datos mutables, lo que significa que sus elementos pueden ser modificados. Es posible cambiar, reemplazar o eliminar elementos individuales de una lista después de su creación.\n",
    "\n",
    "* **Dinámicas:** Las listas son dinámicas, lo que implica que se pueden agregar nuevos elementos a la lista utilizando el método append() o insertar elementos en posiciones específicas utilizando el método insert(). También se pueden eliminar elementos mediante el método remove() o pop(), lo que permite que la lista cambie de tamaño de manera flexible."
   ]
  },
  {
   "cell_type": "code",
   "execution_count": 80,
   "id": "ce5f5704",
   "metadata": {},
   "outputs": [
    {
     "name": "stdout",
     "output_type": "stream",
     "text": [
      "[10, 20, 30, 40]\n",
      "['Economista', 'Analista de datos', 'Finanzas']\n",
      "[True, 25.5, 10, 'Colombia', ['a', 'b']]\n",
      "[]\n"
     ]
    }
   ],
   "source": [
    "#Creamos listas\n",
    "numeros = [10, 20, 30, 40]\n",
    "print(numeros)\n",
    "profesiones = ['Economista', 'Analista de datos', 'Finanzas']\n",
    "print(profesiones)\n",
    "variado = [True, 25.5, 10, 'Colombia', ['a', 'b']] #Una lista dentro de otra lista está anidada.\n",
    "print(variado)\n",
    "vacio = [] #Aquí se crea una lista vacía. Not iene elementos en ella.\n",
    "print(vacio)"
   ]
  },
  {
   "cell_type": "markdown",
   "id": "639c3505",
   "metadata": {},
   "source": [
    "También se puede crear usando `list()` y pasando un objeto iterable."
   ]
  },
  {
   "cell_type": "code",
   "execution_count": 81,
   "id": "083a90be",
   "metadata": {},
   "outputs": [
    {
     "data": {
      "text/plain": [
       "['1', '2', '3', '4']"
      ]
     },
     "execution_count": 81,
     "metadata": {},
     "output_type": "execute_result"
    }
   ],
   "source": [
    "lista = list(\"1234\")\n",
    "lista"
   ]
  },
  {
   "cell_type": "markdown",
   "id": "82bb9e8c",
   "metadata": {},
   "source": [
    "Podemos acceder a los elementos de la lista mediante la indexación. ësta se basa en un índice numérico, donde el primer elemento de la lista tiene un índice de 0, el segundo tiene un índice de 1, y así sucesivamente. La sintaxis para acceder a un elemento de una lista mediante indexación es la siguiente:\n",
    "```python\n",
    "lista[indice]\n",
    "```\n",
    "Tambien podemos acceder a los elementos de la lista con números negativos en el que el último elemento tiene indice de -1, el penultimo -2, y así sucesivamente."
   ]
  },
  {
   "cell_type": "code",
   "execution_count": 82,
   "id": "cd5913fb",
   "metadata": {},
   "outputs": [
    {
     "name": "stdout",
     "output_type": "stream",
     "text": [
      "manzana\n",
      "naranja\n",
      "uva\n",
      "naranja\n"
     ]
    }
   ],
   "source": [
    "#Accediendo a elementos de la lista\n",
    "frutas = ['manzana', 'banana', 'naranja', 'uva']\n",
    "\n",
    "print(frutas[0])    # Acceder al primer elemento de la lista: 'manzana'\n",
    "print(frutas[2])    # Acceder al tercer elemento de la lista: 'naranja'\n",
    "print(frutas[-1])   # Acceder al último elemento de la lista: 'uva'\n",
    "print(frutas[-2])   # Acceder al último elemento de la lista: 'naranja'"
   ]
  },
  {
   "cell_type": "markdown",
   "id": "a04fb1be",
   "metadata": {},
   "source": [
    "También se puede utilizar la indexación para modificar o asignar nuevos valores a elementos de una lista:"
   ]
  },
  {
   "cell_type": "code",
   "execution_count": 83,
   "id": "5467ef73",
   "metadata": {},
   "outputs": [
    {
     "data": {
      "text/plain": [
       "['fresa', 'banana', 'naranja', 'uva']"
      ]
     },
     "execution_count": 83,
     "metadata": {},
     "output_type": "execute_result"
    }
   ],
   "source": [
    "#Reemplazamos el primer elemento de la lista\n",
    "frutas[0] = 'fresa'\n",
    "frutas"
   ]
  },
  {
   "cell_type": "markdown",
   "id": "b4edf438",
   "metadata": {},
   "source": [
    "Existen diferentes métodos para eliminar un elemento de una lista. Uno de ellos es utilizando la palabra clave `del` seguida de la lista y el índice del elemento a eliminar."
   ]
  },
  {
   "cell_type": "code",
   "execution_count": 84,
   "id": "b33548cb",
   "metadata": {},
   "outputs": [
    {
     "data": {
      "text/plain": [
       "['fresa', 'banana', 'naranja']"
      ]
     },
     "execution_count": 84,
     "metadata": {},
     "output_type": "execute_result"
    }
   ],
   "source": [
    "#Eliminamos el último elemento de la lista\n",
    "del frutas[-1]\n",
    "frutas"
   ]
  },
  {
   "cell_type": "code",
   "execution_count": 85,
   "id": "7c78e713",
   "metadata": {},
   "outputs": [
    {
     "name": "stdout",
     "output_type": "stream",
     "text": [
      "2\n",
      "p\n",
      "5\n"
     ]
    }
   ],
   "source": [
    "# Accediendo a elementos de listas anidadas\n",
    "l = [1, 2, 3, ['p', 'q', [5, 6, 7]]]\n",
    "print(l[1])       # Elemento 2: 2\n",
    "print(l[3][0])    # Elemento 4, elemento 1: p\n",
    "print(l[3][2][0]) # Elemento 4, elemento 3, elemento 1: 5"
   ]
  },
  {
   "cell_type": "markdown",
   "id": "dbd0dc32",
   "metadata": {},
   "source": [
    "También es posible crear sublistas más pequeñas a partir de una lista más grande utilizando la notación de \"slicing\" en Python. Para ello, se utiliza el símbolo `:` entre corchetes, indicando a la izquierda el índice de inicio y a la derecha el índice final que no está incluido en la sublista. La sintaxis del slicing es el siguiente:\n",
    "```python\n",
    "lista[inicio:fin:pasos]\n",
    "\n",
    "```\n",
    "* `inicio`: Es el índice del elemento a partir del cual quieres comenzar el \"slicing\". Si no se especifica, se toma por defecto el inicio de la lista.\n",
    "* `final`: Es el índice del elemento en el que quieres finalizar el \"slicing\". Este elemento no se incluirá en la sublista resultante. Si no se especifica, se toma por defecto el final de la lista.\n",
    "* `paso` Especifica el número de elementos que se deben saltar entre los elementos seleccionados. Por defecto, el valor del paso es 1, lo que significa que se seleccionan todos los elementos consecutivos. Si se especifica un valor diferente de 1, se omitirán elementos según el paso indicado.\n",
    "\n",
    "**Importante: Recuerde que los indices de los elementos de las listas comienzaan desde Cero, es decir, el primer elemento tiene indice cero, y así sucesivamente.**"
   ]
  },
  {
   "cell_type": "code",
   "execution_count": 86,
   "id": "86794252",
   "metadata": {},
   "outputs": [
    {
     "name": "stdout",
     "output_type": "stream",
     "text": [
      "[1, 2, 3, 4, 5, 6]\n",
      "[4, 5, 6, 7, 8, 9, 10, 11, 12, 13, 14, 15, 16, 17, 18, 19, 20]\n",
      "[1, 2, 3, 4, 5, 6]\n",
      "[2, 4, 6, 8, 10, 12]\n",
      "[1, 4, 7, 10, 13, 16, 19]\n"
     ]
    }
   ],
   "source": [
    "# Ejemplos de slicing\n",
    "lista = [1, 2, 3, 4, 5, 6, 7, 8, 9, 10, 11, 12, 13, 14, 15, 16, 17, 18, 19, 20]\n",
    "print(lista[0:6]) # Desde la posición 0 hasta la posición 5\n",
    "print(lista[3:]) # Desde la posición 3 hasta la última\n",
    "print(lista[:6]) # Desde la posición 0 hasta la posición 6\n",
    "print(lista[1:12:2]) # Desde la posición 1 hasta la posición 12, saltando de 2 en 2\n",
    "print(lista[::3]) # Todas las posiciones, saltando de 3 en 3"
   ]
  },
  {
   "cell_type": "markdown",
   "id": "90edcea8",
   "metadata": {},
   "source": [
    "### 4.1.1. Operacioens con listas\n",
    " En Python, las operaciones aritméticas en las listas no se realizan de manera directa, ya que las listas son colecciones de elementos y no se comportan como números. Sin embargo, existen algunas operaciones que se pueden aplicar a las listas. Por ejemplo:\n",
    " **1. Concatenación de listas:** Puedes utilizar el operador de suma `+` para concatenar dos listas y crear una nueva lista que contenga todos los elementos de ambas.\n",
    " **2. Repetición de listas:** Puedes utilizar el operador de multiplicación `*` para repetir una lista múltiples veces y crear una nueva lista con las repeticiones. \n",
    " ***3. Verificar elementos en la lista:** `in` y `not in` se utilizan para verificar si un elemento está presente o no en una lista. \n",
    " "
   ]
  },
  {
   "cell_type": "code",
   "execution_count": 87,
   "id": "c8f863d9",
   "metadata": {},
   "outputs": [
    {
     "data": {
      "text/plain": [
       "[1, 2, 3, 'Bogotá', 'Cartagena', 'Monteria']"
      ]
     },
     "execution_count": 87,
     "metadata": {},
     "output_type": "execute_result"
    }
   ],
   "source": [
    "# Concatenamos listas: '+'\n",
    "lista1 = [1, 2, 3]\n",
    "lista2 = ['Bogotá', 'Cartagena', 'Monteria']\n",
    "concatenacion = lista1 + lista2\n",
    "concatenacion"
   ]
  },
  {
   "cell_type": "code",
   "execution_count": 88,
   "id": "9d612f5a",
   "metadata": {},
   "outputs": [
    {
     "data": {
      "text/plain": [
       "['Bogotá', 'Cartagena', 'Monteria', 'Bogotá', 'Cartagena', 'Monteria']"
      ]
     },
     "execution_count": 88,
     "metadata": {},
     "output_type": "execute_result"
    }
   ],
   "source": [
    "# repetición de listas: '*'\n",
    "lista = ['Bogotá', 'Cartagena', 'Monteria']\n",
    "repetida = lista * 2\n",
    "repetida"
   ]
  },
  {
   "cell_type": "code",
   "execution_count": 89,
   "id": "29f9fd97",
   "metadata": {},
   "outputs": [
    {
     "name": "stdout",
     "output_type": "stream",
     "text": [
      "True\n",
      "False\n",
      "False\n",
      "True\n"
     ]
    }
   ],
   "source": [
    "# Verificamos elementos en las listas\n",
    "lista = [1, 2, 'a', 'b', 3]\n",
    "print(2 in lista)\n",
    "print('c' in lista)      \n",
    "print('a' not in lista)  \n",
    "print(4 not in lista)   "
   ]
  },
  {
   "cell_type": "markdown",
   "id": "3fb58ef1",
   "metadata": {},
   "source": [
    "### 4.1.2. Métodos de las listas\n",
    "Las listas en Python tienen varios métodos incorporados que permiten realizar diferentes operaciones y manipulaciones en ellas. Algunos de los métodos más comunes de las listas incluyen:\n",
    "\n",
    "* **append():** Agrega un elemento al final de la lista.\n",
    "* **extend():** Agrega los elementos de otra lista al final de la lista actual.\n",
    "* **insert():** Inserta un elemento en una posición específica de la lista.\n",
    "* **remove():** Elimina el primer elemento de la lista que coincida con un valor específico.\n",
    "* **pop():** Elimina y devuelve el elemento en una posición específica de la lista. Si no se proporciona un índice, elimina y devuelve el último elemento.\n",
    "* **index():** Devuelve el índice del primer elemento que coincida con un valor específico.\n",
    "* **count():** Cuenta cuántas veces aparece un valor específico en la lista.\n",
    "* **sort():** Ordena los elementos de la lista en orden ascendente.\n",
    "* **reverse():** Invierte el orden de los elementos en la lista.\n",
    "* **clear():** Elimina todos los elementos de la lista.\n",
    "\n",
    "Puedes acceder a estos métodos utilizando la sintaxis `nombre_de_lista.metodo()`. Por ejemplo, si tienes una lista llamada mi_lista, puedes llamar al método append() usando `mi_lista.append(valor)`."
   ]
  },
  {
   "cell_type": "code",
   "execution_count": 90,
   "id": "e5a3e86c",
   "metadata": {},
   "outputs": [
    {
     "data": {
      "text/plain": [
       "list"
      ]
     },
     "execution_count": 90,
     "metadata": {},
     "output_type": "execute_result"
    }
   ],
   "source": [
    "# Creación de una lista inicial\n",
    "lista = [1, 2, 3]\n",
    "type(lista) # El tipo de esta estructura de dtos es una lista"
   ]
  },
  {
   "cell_type": "code",
   "execution_count": 91,
   "id": "958f2aea",
   "metadata": {},
   "outputs": [
    {
     "name": "stdout",
     "output_type": "stream",
     "text": [
      "[1, 2, 3, 4]\n"
     ]
    }
   ],
   "source": [
    "# Método append(): Agregar un elemento al final de la lista\n",
    "lista.append(4)\n",
    "print(lista) "
   ]
  },
  {
   "cell_type": "code",
   "execution_count": 92,
   "id": "8107fb69",
   "metadata": {},
   "outputs": [
    {
     "name": "stdout",
     "output_type": "stream",
     "text": [
      "[1, 2, 3, 4, 2, 2, 6, 7, 8]\n"
     ]
    }
   ],
   "source": [
    "# Método extend(): Extender la lista con los elementos de otra lista\n",
    "extension = [2,2,6, 7, 8]\n",
    "lista.extend(extension)\n",
    "print(lista)"
   ]
  },
  {
   "cell_type": "code",
   "execution_count": 93,
   "id": "7cf4c2c1",
   "metadata": {},
   "outputs": [
    {
     "name": "stdout",
     "output_type": "stream",
     "text": [
      "[1, 2, 5, 3, 4, 2, 2, 6, 7, 8]\n"
     ]
    }
   ],
   "source": [
    "# Método insert(): Insertar un elemento en una posición específica\n",
    "lista.insert(2, 5) # En la posición 2 se agrega el número 5\n",
    "print(lista)"
   ]
  },
  {
   "cell_type": "code",
   "execution_count": 94,
   "id": "245bc059",
   "metadata": {},
   "outputs": [
    {
     "name": "stdout",
     "output_type": "stream",
     "text": [
      "[1, 5, 3, 4, 2, 2, 6, 7, 8]\n"
     ]
    }
   ],
   "source": [
    "# Método remove(): Eliminar un elemento de la lista por su valor\n",
    "lista.remove(2) #Se elimina el número 2 de la lista\n",
    "print(lista)"
   ]
  },
  {
   "cell_type": "code",
   "execution_count": 95,
   "id": "ddfdea29",
   "metadata": {},
   "outputs": [
    {
     "name": "stdout",
     "output_type": "stream",
     "text": [
      "8\n",
      "[1, 5, 3, 4, 2, 2, 6, 7]\n"
     ]
    }
   ],
   "source": [
    "# Método pop(): Eliminar y devolver el último elemento de la lista\n",
    "elemento = lista.pop()\n",
    "print(elemento) \n",
    "print(lista)"
   ]
  },
  {
   "cell_type": "code",
   "execution_count": 96,
   "id": "67a660b6",
   "metadata": {},
   "outputs": [
    {
     "name": "stdout",
     "output_type": "stream",
     "text": [
      "6\n"
     ]
    }
   ],
   "source": [
    "# Método index(): Obtener el índice de la primera aparición de un elemento\n",
    "indice = lista.index(6) #Busca la posición del número 6\n",
    "print(indice)"
   ]
  },
  {
   "cell_type": "code",
   "execution_count": 97,
   "id": "8926cc99",
   "metadata": {},
   "outputs": [
    {
     "name": "stdout",
     "output_type": "stream",
     "text": [
      "2\n"
     ]
    }
   ],
   "source": [
    "# Método count(): Contar la cantidad de veces que aparece un elemento en la lista\n",
    "contador = lista.count(2)\n",
    "print(contador)"
   ]
  },
  {
   "cell_type": "code",
   "execution_count": 98,
   "id": "b8aa4e92",
   "metadata": {},
   "outputs": [
    {
     "name": "stdout",
     "output_type": "stream",
     "text": [
      "[7, 6, 2, 2, 4, 3, 5, 1]\n"
     ]
    }
   ],
   "source": [
    "# Método reverse(): Revertir el orden de los elementos en la lista\n",
    "lista.reverse()\n",
    "print(lista)"
   ]
  },
  {
   "cell_type": "code",
   "execution_count": 99,
   "id": "d35109c8",
   "metadata": {},
   "outputs": [
    {
     "name": "stdout",
     "output_type": "stream",
     "text": [
      "[1, 2, 2, 3, 4, 5, 6, 7]\n"
     ]
    }
   ],
   "source": [
    "# Método sort(): Ordenar los elementos de la lista en orden ascendente\n",
    "lista.sort()\n",
    "print(lista)"
   ]
  },
  {
   "cell_type": "code",
   "execution_count": 100,
   "id": "d29bcc5b",
   "metadata": {},
   "outputs": [
    {
     "name": "stdout",
     "output_type": "stream",
     "text": [
      "[]\n"
     ]
    }
   ],
   "source": [
    "# Método clear(): Vaciar la lista, eliminando todos los elementos\n",
    "lista.clear()\n",
    "print(lista) "
   ]
  },
  {
   "cell_type": "markdown",
   "id": "e90ab9aa",
   "metadata": {},
   "source": [
    "## 4.2. Tuplas\n",
    "Una tupla es una estructura de datos similar a una lista, pero con la diferencia principal de que las tuplas son inmutables, lo que significa que no se pueden modificar después de su creación. Las tuplas se definen utilizando paréntesis `()` y los elementos dentro de ellas están separados por comas.\n",
    "\n",
    "**Propiedades de las tuplas en Python:**\n",
    "\n",
    "* **Inmutabilidad:** Una vez que se crea una tupla, no se pueden modificar sus elementos. Esto asegura que los valores en una tupla permanezcan constantes.\n",
    "* **Orden:** Las tuplas mantienen el orden de los elementos tal como se definen. Esto significa que puedes acceder a los elementos de una tupla utilizando su índice.\n",
    "* **Indexación:** Puedes acceder a elementos individuales de una tupla utilizando la indexación. Los índices en Python comienzan desde 0.\n",
    "* **Heterogeneidad:** Las tuplas pueden contener elementos de diferentes tipos de datos. Puedes combinar enteros, cadenas, booleanos, listas u otras tuplas dentro de una tupla.\n",
    "* **Iterabilidad:** Las tuplas son iterables, lo que significa que puedes recorrer sus elementos utilizando un bucle for u otras técnicas de iteración."
   ]
  },
  {
   "cell_type": "code",
   "execution_count": 101,
   "id": "b3edbf45",
   "metadata": {},
   "outputs": [
    {
     "name": "stdout",
     "output_type": "stream",
     "text": [
      "()\n",
      "('1', '2', '3', '4', '5', '6', '7', '8', '9')\n"
     ]
    }
   ],
   "source": [
    "# Con la funcion tuple() podemos crear una tupla\n",
    "tupla = tuple() # Tupla vacia\n",
    "print(tupla)\n",
    "tupla = tuple('123456789') # Tupla con elementos\n",
    "print(tupla)"
   ]
  },
  {
   "cell_type": "code",
   "execution_count": 102,
   "id": "78c1a73f",
   "metadata": {},
   "outputs": [
    {
     "data": {
      "text/plain": [
       "(1, 2, 'a', True)"
      ]
     },
     "execution_count": 102,
     "metadata": {},
     "output_type": "execute_result"
    }
   ],
   "source": [
    "# Creamos una Tupla\n",
    "tupla = (1, 2, \"a\", True)\n",
    "type(tupla) # El tipo de esta estructura de dtos es una tupla\n",
    "tupla"
   ]
  },
  {
   "cell_type": "code",
   "execution_count": 103,
   "id": "97e55897",
   "metadata": {},
   "outputs": [
    {
     "name": "stdout",
     "output_type": "stream",
     "text": [
      "1\n",
      "a\n"
     ]
    }
   ],
   "source": [
    "# Accediendo a elementos de la Tupla\n",
    "print(tupla[0])\n",
    "print(tupla[2])"
   ]
  },
  {
   "cell_type": "markdown",
   "id": "52a276f3",
   "metadata": {},
   "source": [
    "### 4.2.1. Métodos de las tuplas\n",
    "Aunque las tuplas son estructuras de datos inmutables en Python, aún tienen algunos métodos asociados que se pueden utilizar para realizar ciertas operaciones. Algunos de los métodos más comunes de las tuplas incluyen:\n",
    "\n",
    "* **count():** Devuelve el número de veces que aparece un valor específico en la tupla.\n",
    "* **index():** Devuelve el índice de la primera aparición de un valor específico en la tupla.\n"
   ]
  },
  {
   "cell_type": "code",
   "execution_count": 104,
   "id": "2579efec",
   "metadata": {},
   "outputs": [
    {
     "data": {
      "text/plain": [
       "3"
      ]
     },
     "execution_count": 104,
     "metadata": {},
     "output_type": "execute_result"
    }
   ],
   "source": [
    "# Método count()\n",
    "tupla = (1, 2, 3, 2, 4, 2)\n",
    "tupla.count(2)"
   ]
  },
  {
   "cell_type": "code",
   "execution_count": 105,
   "id": "47cd3d9b",
   "metadata": {},
   "outputs": [
    {
     "data": {
      "text/plain": [
       "2"
      ]
     },
     "execution_count": 105,
     "metadata": {},
     "output_type": "execute_result"
    }
   ],
   "source": [
    "# Método index()\n",
    "tupla = (10, 20, 30, 40, 50)\n",
    "tupla.index(30)"
   ]
  },
  {
   "cell_type": "markdown",
   "id": "78516a29",
   "metadata": {},
   "source": [
    "## 4.3. Diccionarios\n",
    "un diccionario es una estructura de datos que permite almacenar y organizar información de manera flexible. A diferencia de las listas o las tuplas que utilizan índices numéricos para acceder a sus elementos, los diccionarios utilizan llaves únicas para acceder a sus valores correspondientes. Los elementos de los diccionarios se llaman items.\n",
    "\n",
    "En términos sencillos, un diccionario es una colección de pares llave-valor, donde cada llave está asociada a un valor. La llave es una etiqueta única que actúa como un identificador para acceder al valor correspondiente. Los diccionarios en Python se definen utilizando llaves `{}` y los pares llave-valor se separan por dos puntos `:`. Cada par llave-valor en un diccionario está compuesto por una llave y su correspondiente valor.\n",
    "La sintaxis del diccioanrio es la siguiente:\n",
    "```python\n",
    "diccionario = {'llave1':valor1, 'llave2':valor2}\n",
    "```\n",
    "\n",
    "\n",
    "**Propiedades de los diccionarios en Python:**\n",
    "\n",
    "* **Llaves únicas:** Cada llave en un diccionario es única. No puede haber duplicados de llaves en un diccionario. Si se intenta agregar una llave duplicada, el valor asociado se actualizará.\n",
    "\n",
    "* **Estructura llave-valor:** Los diccionarios están compuestos por pares llave-valor, donde cada llave está asociada a un valor específico. Esto permite un acceso rápido y eficiente a los valores utilizando las llaves correspondientes.\n",
    "\n",
    "* **Mutabilidad:** Los diccionarios son estructuras de datos mutables, lo que significa que sus elementos pueden ser modificados. Se pueden agregar nuevas llaves y valores, actualizar valores existentes y eliminar llaves y sus valores asociados.\n"
   ]
  },
  {
   "cell_type": "code",
   "execution_count": 106,
   "id": "76d1e57b",
   "metadata": {},
   "outputs": [
    {
     "data": {
      "text/plain": [
       "{}"
      ]
     },
     "execution_count": 106,
     "metadata": {},
     "output_type": "execute_result"
    }
   ],
   "source": [
    "# Con la funcion dict() podemos crear una tupla\n",
    "dic = dict() # Diccionario vacia\n",
    "dic"
   ]
  },
  {
   "cell_type": "code",
   "execution_count": 107,
   "id": "055444a5",
   "metadata": {},
   "outputs": [
    {
     "data": {
      "text/plain": [
       "{'one': 'uno'}"
      ]
     },
     "execution_count": 107,
     "metadata": {},
     "output_type": "execute_result"
    }
   ],
   "source": [
    "# Agregando items en el diccioanrio\n",
    "dic['one'] = 'uno'\n",
    "dic"
   ]
  },
  {
   "cell_type": "code",
   "execution_count": 108,
   "id": "25cf6e76",
   "metadata": {},
   "outputs": [
    {
     "data": {
      "text/plain": [
       "{'nombre': 'Fulgencio',\n",
       " 'edad': 25,\n",
       " 'ciudad': 'Madrid',\n",
       " 'profesion': 'Analista de datos'}"
      ]
     },
     "execution_count": 108,
     "metadata": {},
     "output_type": "execute_result"
    }
   ],
   "source": [
    "# Creamos un diccionario\n",
    "dic = {\"nombre\": \"Fulgencio\", \"edad\": 25, \"ciudad\": \"Madrid\", \"profesion\": \"Analista de datos\"}\n",
    "dic"
   ]
  },
  {
   "cell_type": "code",
   "execution_count": 109,
   "id": "ff47b948",
   "metadata": {},
   "outputs": [
    {
     "ename": "SyntaxError",
     "evalue": "'(' was never closed (4008272642.py, line 2)",
     "output_type": "error",
     "traceback": [
      "\u001b[1;36m  Cell \u001b[1;32mIn[109], line 2\u001b[1;36m\u001b[0m\n\u001b[1;33m    print(dic[\"nombre\"]\u001b[0m\n\u001b[1;37m         ^\u001b[0m\n\u001b[1;31mSyntaxError\u001b[0m\u001b[1;31m:\u001b[0m '(' was never closed\n"
     ]
    }
   ],
   "source": [
    "# Accedemos a los elementos del diccioanrio\n",
    "print(dic[\"nombre\"]\n",
    "print(dic[\"edad\"])\n",
    "print(dic[\"ciudad\"])\n",
    "print(dic[\"profesion\"])"
   ]
  },
  {
   "cell_type": "markdown",
   "id": "43a87357",
   "metadata": {},
   "source": [
    "En un diccionario en Python, los valores pueden ser de cualquier tipo de dato válido en Python, incluyendo listas, diccionarios u otras estructuras de datos. Esto significa que puedes tener valores que son listas, diccionarios anidados u otras estructuras complejas como valores de un diccionario."
   ]
  },
  {
   "cell_type": "code",
   "execution_count": 110,
   "id": "4fd95b3a",
   "metadata": {},
   "outputs": [
    {
     "data": {
      "text/plain": [
       "{'diccionario1': {'a': 1, 'b': 2}, 'diccionario2': {'c': 3, 'd': 4}}"
      ]
     },
     "execution_count": 110,
     "metadata": {},
     "output_type": "execute_result"
    }
   ],
   "source": [
    "# Podemos tener diccionarios anidados\n",
    "dic1 = {\"a\": 1, \"b\": 2}\n",
    "dic2 = {\"c\": 3, \"d\": 4}\n",
    "dic3 = {\"diccionario1\" : dic1, \n",
    "       \"diccionario2\" : dic2}\n",
    "\n",
    "dic3"
   ]
  },
  {
   "cell_type": "code",
   "execution_count": 111,
   "id": "be80f889",
   "metadata": {},
   "outputs": [
    {
     "name": "stdout",
     "output_type": "stream",
     "text": [
      "1\n",
      "4\n"
     ]
    }
   ],
   "source": [
    "# De esta manera se acceden a los elementos de este tipo de diccionario\n",
    "print(dic3['diccionario1']['a'])\n",
    "print(dic3['diccionario2']['d'])"
   ]
  },
  {
   "cell_type": "code",
   "execution_count": 112,
   "id": "c0bf3e76",
   "metadata": {},
   "outputs": [
    {
     "data": {
      "text/plain": [
       "{'nombre': 'Pedro',\n",
       " 'profesion': ['Econometrista', 'Analista de datos', 'Estadistico'],\n",
       " 'contacto': {'telefono': '+1 555-9856', 'email': 'pedro@gmail.com'}}"
      ]
     },
     "execution_count": 112,
     "metadata": {},
     "output_type": "execute_result"
    }
   ],
   "source": [
    "# Un diccionario que tiene de valores algunas listas y diccioanrios\n",
    "diccionario = {\"nombre\": \"Pedro\", \"profesion\": [\"Econometrista\", \"Analista de datos\", \"Estadistico\"],\n",
    "               \"contacto\": {\"telefono\": \"+1 555-9856\",\"email\": \"pedro@gmail.com\"}}\n",
    "diccionario"
   ]
  },
  {
   "cell_type": "code",
   "execution_count": 113,
   "id": "5e2e9a03",
   "metadata": {},
   "outputs": [
    {
     "name": "stdout",
     "output_type": "stream",
     "text": [
      "Econometrista\n",
      "pedro@gmail.com\n"
     ]
    }
   ],
   "source": [
    "# Accediendo a elementos del diccionario\n",
    "print(diccionario[\"profesion\"][0]) # Se accede al valor que es una lista\n",
    "print(diccionario[\"contacto\"][\"email\"]) # Se accede al valor que es un diccionario"
   ]
  },
  {
   "cell_type": "markdown",
   "id": "47eb4299",
   "metadata": {},
   "source": [
    "### 4.2.1. Métodos de las tuplas\n",
    "\n",
    "Los diccionarios en Python tienen varios métodos incorporados que se pueden utilizar para realizar diferentes operaciones en los diccionarios.Algunos de los métodos más comunes de los diccionarios:\n",
    "\n",
    "* **copy():** Crea una copia superficial del diccionario.\n",
    "* **get():** Devuelve el valor asociado a una llave específica. Si la llave no está presente, devuelve un valor predeterminado opcional.\n",
    "* **items():** Devuelve una vista de todos los pares llave-valor del diccionario.\n",
    "* **keys():** Devuelve una vista de todas las llaves del diccionario.\n",
    "* **values():** Devuelve una vista de todos los valores del diccionario.\n",
    "* **pop():** Elimina y devuelve el valor asociado a una llave específica.\n",
    "* **update():** Actualiza el diccionario agregando pares clave-valor de otro diccionario o de un iterable.\n",
    "* **clear():** Elimina todos los elementos del diccionario."
   ]
  },
  {
   "cell_type": "code",
   "execution_count": 114,
   "id": "3151ef37",
   "metadata": {},
   "outputs": [
    {
     "data": {
      "text/plain": [
       "{'nombre': 'Fulgencio',\n",
       " 'edad': 25,\n",
       " 'ciudad': 'Madrid',\n",
       " 'profesion': 'Analista de datos'}"
      ]
     },
     "execution_count": 114,
     "metadata": {},
     "output_type": "execute_result"
    }
   ],
   "source": [
    "# Creamos un diccionario\n",
    "dic = {\"nombre\": \"Fulgencio\", \"edad\": 25, \"ciudad\": \"Madrid\", \"profesion\": \"Analista de datos\"}\n",
    "dic"
   ]
  },
  {
   "cell_type": "code",
   "execution_count": 115,
   "id": "d9070e0b",
   "metadata": {},
   "outputs": [
    {
     "name": "stdout",
     "output_type": "stream",
     "text": [
      "{'nombre': 'Fulgencio', 'edad': 25, 'ciudad': 'Madrid', 'profesion': 'Analista de datos'}\n",
      "{'nombre': 'Fulgencio', 'edad': 25, 'ciudad': 'Madrid', 'profesion': 'Analista de datos'}\n"
     ]
    }
   ],
   "source": [
    "# Método copy()\n",
    "copia = dic.copy()\n",
    "print(dic)\n",
    "print(copia)"
   ]
  },
  {
   "cell_type": "code",
   "execution_count": 116,
   "id": "4c1f6e4a",
   "metadata": {},
   "outputs": [
    {
     "name": "stdout",
     "output_type": "stream",
     "text": [
      "Fulgencio\n",
      "None\n"
     ]
    }
   ],
   "source": [
    "# Método get()\n",
    "print(dic.get(\"nombre\"))   \n",
    "print(dic.get(\"apellido\")) # Resultado: None porque no hay una llave llamada \"apellido\""
   ]
  },
  {
   "cell_type": "code",
   "execution_count": 117,
   "id": "a1174e40",
   "metadata": {},
   "outputs": [
    {
     "data": {
      "text/plain": [
       "dict_items([('nombre', 'Pedro'), ('profesion', ['Econometrista', 'Analista de datos', 'Estadistico']), ('contacto', {'telefono': '+1 555-9856', 'email': 'pedro@gmail.com'})])"
      ]
     },
     "execution_count": 117,
     "metadata": {},
     "output_type": "execute_result"
    }
   ],
   "source": [
    "# Método items()\n",
    "diccionario.items()"
   ]
  },
  {
   "cell_type": "code",
   "execution_count": 118,
   "id": "4f763d27",
   "metadata": {},
   "outputs": [
    {
     "data": {
      "text/plain": [
       "dict_keys(['nombre', 'edad', 'ciudad', 'profesion'])"
      ]
     },
     "execution_count": 118,
     "metadata": {},
     "output_type": "execute_result"
    }
   ],
   "source": [
    "# Método keys()\n",
    "dic.keys()"
   ]
  },
  {
   "cell_type": "code",
   "execution_count": 119,
   "id": "22453c8a",
   "metadata": {},
   "outputs": [
    {
     "data": {
      "text/plain": [
       "dict_values(['Fulgencio', 25, 'Madrid', 'Analista de datos'])"
      ]
     },
     "execution_count": 119,
     "metadata": {},
     "output_type": "execute_result"
    }
   ],
   "source": [
    "# Método values()\n",
    "dic.values()"
   ]
  },
  {
   "cell_type": "code",
   "execution_count": 120,
   "id": "2a618cc2",
   "metadata": {},
   "outputs": [
    {
     "data": {
      "text/plain": [
       "{'nombre': 'Fulgencio', 'ciudad': 'Madrid', 'profesion': 'Analista de datos'}"
      ]
     },
     "execution_count": 120,
     "metadata": {},
     "output_type": "execute_result"
    }
   ],
   "source": [
    "# Método pop('llave')\n",
    "dic.pop(\"edad\")\n",
    "dic"
   ]
  },
  {
   "cell_type": "code",
   "execution_count": 121,
   "id": "ab594594",
   "metadata": {},
   "outputs": [
    {
     "data": {
      "text/plain": [
       "{'nombre': 'Fulgencio',\n",
       " 'ciudad': 'Madrid',\n",
       " 'profesion': 'Analista de datos',\n",
       " 'edad': 30}"
      ]
     },
     "execution_count": 121,
     "metadata": {},
     "output_type": "execute_result"
    }
   ],
   "source": [
    "# Método update()\n",
    "dic.update({\"edad\": 30})\n",
    "dic"
   ]
  },
  {
   "cell_type": "code",
   "execution_count": 122,
   "id": "3a60f550",
   "metadata": {},
   "outputs": [
    {
     "data": {
      "text/plain": [
       "{}"
      ]
     },
     "execution_count": 122,
     "metadata": {},
     "output_type": "execute_result"
    }
   ],
   "source": [
    "# Método clear()\n",
    "dic.clear()\n",
    "dic"
   ]
  }
 ],
 "metadata": {
  "kernelspec": {
   "display_name": "Python 3 (ipykernel)",
   "language": "python",
   "name": "python3"
  },
  "language_info": {
   "codemirror_mode": {
    "name": "ipython",
    "version": 3
   },
   "file_extension": ".py",
   "mimetype": "text/x-python",
   "name": "python",
   "nbconvert_exporter": "python",
   "pygments_lexer": "ipython3",
   "version": "3.10.9"
  }
 },
 "nbformat": 4,
 "nbformat_minor": 5
}
