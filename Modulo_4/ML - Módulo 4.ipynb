{
 "cells": [
  {
   "cell_type": "markdown",
   "id": "704dc19f",
   "metadata": {},
   "source": [
    "\n",
    " # ¿Qué es Machine Learning?\n",
    " \n",
    " \n",
    "El aprendizaje automático, o machine learning en inglés, es una rama de la inteligencia artificial que se enfoca en desarrollar algoritmos y modelos que permiten a las computadoras aprender y mejorar automáticamente a partir de los datos. En lugar de programar explícitamente una serie de instrucciones para resolver un problema, el machine learning permite que una máquina pueda aprender por sí misma a través de la experiencia y los datos proporcionados.\n",
    "\n",
    "El proceso de machine learning implica entrenar un modelo utilizando un conjunto de datos de entrenamiento, donde se proporcionan ejemplos de entrada y salida esperada. El modelo aprende a reconocer patrones y realizar predicciones o tomar decisiones en función de esos patrones. Una vez que el modelo ha sido entrenado, puede utilizarse para hacer predicciones o tomar decisiones sobre nuevos datos que no se encuentran en el conjunto de entrenamiento"
   ]
  },
  {
   "cell_type": "markdown",
   "id": "fe36478c",
   "metadata": {},
   "source": [
    "## Machile Learning y Econometría\n",
    "El machine learning y la econometría son dos disciplinas que comparten ciertas similitudes y también tienen áreas de superposición. Ambas se centran en analizar datos y extraer información útil para comprender y predecir fenómenos económicos.\n",
    "\n",
    "La econometría es una rama de la economía que utiliza métodos estadísticos y matemáticos para estudiar y cuantificar las relaciones económicas. Se basa en teorías económicas y utiliza modelos econométricos para analizar y hacer inferencias sobre datos económicos.\n",
    "\n",
    "Por otro lado, el machine learning es una rama de la inteligencia artificial que se enfoca en desarrollar algoritmos y modelos que pueden aprender y realizar predicciones o tomar decisiones basadas en datos. El machine learning no depende necesariamente de teorías o modelos predefinidos, sino que permite que los modelos aprendan patrones y relaciones a partir de los datos.\n",
    "\n",
    "La relación entre el machine learning y la econometría radica en que ambos enfoques buscan utilizar datos para realizar análisis, pronósticos y toma de decisiones. El machine learning puede ser utilizado en la econometría como una herramienta adicional para analizar y modelar datos económicos de manera más flexible y compleja. Puede ayudar a descubrir relaciones no lineales o patrones complejos en los datos, lo que puede mejorar las capacidades de pronóstico y predicción."
   ]
  },
  {
   "cell_type": "markdown",
   "id": "2cf36b99",
   "metadata": {},
   "source": [
    "### Librerias comunes en ML"
   ]
  },
  {
   "cell_type": "markdown",
   "id": "d3b6fc54",
   "metadata": {},
   "source": [
    "**1. NumPy:** Proporciona estructuras de datos y funciones para realizar operaciones numéricas eficientes, lo que es fundamental en el procesamiento y análisis de datos.\n",
    "\n",
    "**2. Pandas:** Ofrece estructuras de datos de alto rendimiento, como DataFrames, para manipular y analizar datos de manera fácil y eficiente.\n",
    "\n",
    "**3. Scikit-learn:** Es una de las bibliotecas de machine learning más utilizadas. Proporciona una amplia gama de algoritmos de aprendizaje supervisado y no supervisado, así como herramientas para la preprocesamiento de datos, validación de modelos y selección de características.\n",
    "\n",
    "**4. TensorFlow:** Es una biblioteca de código abierto desarrollada por Google que se utiliza para construir y entrenar modelos de aprendizaje automático, especialmente en el ámbito del aprendizaje profundo (deep learning). Proporciona una estructura flexible para construir redes neuronales y realizar cálculos numéricos de manera eficiente.\n",
    "\n",
    "**5. Keras:** Es una biblioteca de alto nivel que se ejecuta sobre TensorFlow (u otras bibliotecas de backend) y simplifica la construcción y entrenamiento de redes neuronales. Es conocida por su facilidad de uso y legibilidad del código.\n",
    "\n",
    "**6. PyTorch:** Es otra biblioteca popular para el aprendizaje automático y el aprendizaje profundo. PyTorch proporciona una interfaz flexible y dinámica para construir y entrenar modelos, y se ha vuelto muy popular en la comunidad de investigación en aprendizaje profundo."
   ]
  },
  {
   "cell_type": "markdown",
   "id": "d56aedc7",
   "metadata": {},
   "source": [
    "## Ejemplo 1: Árboles de decisión para clasificación"
   ]
  },
  {
   "cell_type": "markdown",
   "id": "363f9cec",
   "metadata": {},
   "source": [
    "## ¿Qué son árboles de decisión?\n",
    "son algoritmos de aprendizaje automático supervisado que se utilizan para resolver problemas de clasificación y regresión. Se basan en estructuras de árbol en las que cada nodo representa una característica o atributo, cada rama representa una posible decisión o valor del atributo, y cada hoja representa una clase o un valor de salida.\n",
    "\n",
    "En un árbol de decisión, se toman decisiones sucesivas basadas en las características de entrada para llegar a una decisión final. El proceso comienza en la raíz del árbol y se desplaza a través de las ramas y los nodos internos siguiendo las condiciones de prueba definidas en cada nodo. Al final, se llega a una hoja que proporciona la clasificación o el valor de salida."
   ]
  },
  {
   "cell_type": "markdown",
   "id": "c7f4a34c",
   "metadata": {},
   "source": [
    "### Se importan las librerias\n"
   ]
  },
  {
   "cell_type": "code",
   "execution_count": 1,
   "id": "e0a122d4",
   "metadata": {},
   "outputs": [],
   "source": [
    "import numpy as np  # Operaciones numéricas eficientes en matrices y vectores\n",
    "import pandas as pd  # Manipulación y análisis de datos en forma de DataFrames\n",
    "from sklearn.datasets import load_iris  # Cargar la base de datos iris\n",
    "from sklearn.model_selection import train_test_split,cross_val_score  # Dividir los datos en conjuntos de entrenamiento y prueba\n",
    "from sklearn.tree import DecisionTreeClassifier,plot_tree  # Clasificador de árbol de decisión\n",
    "from sklearn import metrics  # Métricas para evaluar modelos de clasificación\n",
    "import matplotlib.pyplot as plt  # Crear visualizaciones gráficas\n",
    "import seaborn as sns  # Mejorar la apariencia de las visualizaciones gráficas"
   ]
  },
  {
   "cell_type": "markdown",
   "id": "cc75e7c6",
   "metadata": {},
   "source": [
    "### Se importa la base de datos"
   ]
  },
  {
   "cell_type": "code",
   "execution_count": 2,
   "id": "8d0061af",
   "metadata": {},
   "outputs": [],
   "source": [
    "# Cargar la base de datos\n",
    "from sklearn.datasets import load_iris\n",
    "iris = load_iris()"
   ]
  },
  {
   "cell_type": "markdown",
   "id": "b93f8564",
   "metadata": {},
   "source": [
    "Así se ve la base de datos:"
   ]
  },
  {
   "cell_type": "markdown",
   "id": "cebf4c60",
   "metadata": {},
   "source": [
    "## Las variables presentes en la base de datos \"iris\" son las siguientes:\n",
    "\n",
    "- **Sepal Length (Longitud del sépalo):** Representa la longitud del sépalo de una flor de iris en centímetros.\n",
    "\n",
    "- **Sepal Width (Ancho del sépalo):** Indica el ancho del sépalo de una flor de iris en centímetros.\n",
    "\n",
    "- **Petal Length (Longitud del pétalo):** Corresponde a la longitud del pétalo de una flor de iris en centímetros.\n",
    "\n",
    "- **Petal Width (Ancho del pétalo):** Muestra el ancho del pétalo de una flor de iris en centímetros."
   ]
  },
  {
   "cell_type": "code",
   "execution_count": 3,
   "id": "a0958a56",
   "metadata": {},
   "outputs": [
    {
     "data": {
      "text/html": [
       "<div>\n",
       "<style scoped>\n",
       "    .dataframe tbody tr th:only-of-type {\n",
       "        vertical-align: middle;\n",
       "    }\n",
       "\n",
       "    .dataframe tbody tr th {\n",
       "        vertical-align: top;\n",
       "    }\n",
       "\n",
       "    .dataframe thead th {\n",
       "        text-align: right;\n",
       "    }\n",
       "</style>\n",
       "<table border=\"1\" class=\"dataframe\">\n",
       "  <thead>\n",
       "    <tr style=\"text-align: right;\">\n",
       "      <th></th>\n",
       "      <th>sepal length (cm)</th>\n",
       "      <th>sepal width (cm)</th>\n",
       "      <th>petal length (cm)</th>\n",
       "      <th>petal width (cm)</th>\n",
       "    </tr>\n",
       "  </thead>\n",
       "  <tbody>\n",
       "    <tr>\n",
       "      <th>0</th>\n",
       "      <td>5.1</td>\n",
       "      <td>3.5</td>\n",
       "      <td>1.4</td>\n",
       "      <td>0.2</td>\n",
       "    </tr>\n",
       "    <tr>\n",
       "      <th>1</th>\n",
       "      <td>4.9</td>\n",
       "      <td>3.0</td>\n",
       "      <td>1.4</td>\n",
       "      <td>0.2</td>\n",
       "    </tr>\n",
       "    <tr>\n",
       "      <th>2</th>\n",
       "      <td>4.7</td>\n",
       "      <td>3.2</td>\n",
       "      <td>1.3</td>\n",
       "      <td>0.2</td>\n",
       "    </tr>\n",
       "    <tr>\n",
       "      <th>3</th>\n",
       "      <td>4.6</td>\n",
       "      <td>3.1</td>\n",
       "      <td>1.5</td>\n",
       "      <td>0.2</td>\n",
       "    </tr>\n",
       "    <tr>\n",
       "      <th>4</th>\n",
       "      <td>5.0</td>\n",
       "      <td>3.6</td>\n",
       "      <td>1.4</td>\n",
       "      <td>0.2</td>\n",
       "    </tr>\n",
       "  </tbody>\n",
       "</table>\n",
       "</div>"
      ],
      "text/plain": [
       "   sepal length (cm)  sepal width (cm)  petal length (cm)  petal width (cm)\n",
       "0                5.1               3.5                1.4               0.2\n",
       "1                4.9               3.0                1.4               0.2\n",
       "2                4.7               3.2                1.3               0.2\n",
       "3                4.6               3.1                1.5               0.2\n",
       "4                5.0               3.6                1.4               0.2"
      ]
     },
     "execution_count": 3,
     "metadata": {},
     "output_type": "execute_result"
    }
   ],
   "source": [
    "# Convertir los datos en un DataFrame\n",
    "df = pd.DataFrame(data=iris.data, columns=iris.feature_names)\n",
    "df.head()"
   ]
  },
  {
   "cell_type": "markdown",
   "id": "6c9fa2a5",
   "metadata": {},
   "source": [
    "# Algoritmo de ML"
   ]
  },
  {
   "cell_type": "markdown",
   "id": "46b0ea09",
   "metadata": {},
   "source": [
    "## 1. Se definen las variables explicativas (features) y la objetivo:"
   ]
  },
  {
   "cell_type": "code",
   "execution_count": 4,
   "id": "ca4cf97a",
   "metadata": {},
   "outputs": [],
   "source": [
    "X = iris.data # Características (atributos) de las flores\n",
    "y = iris.target # Etiquetas de las clases de las flores (0,1,2-->\"setosa\", \"versicolor\" y \"virginica\")"
   ]
  },
  {
   "cell_type": "markdown",
   "id": "33840d8b",
   "metadata": {},
   "source": [
    "## 2. División de la base de datos: "
   ]
  },
  {
   "cell_type": "code",
   "execution_count": 5,
   "id": "dcfed7ca",
   "metadata": {},
   "outputs": [],
   "source": [
    "# Dividir los datos en conjuntos de entrenamiento y prueba\n",
    "X_train, X_test, y_train, y_test = train_test_split(X, y, test_size=0.2, random_state=42)"
   ]
  },
  {
   "cell_type": "markdown",
   "id": "7394e2e1",
   "metadata": {},
   "source": [
    "## 3. Definición y entrenamiento del modelo:"
   ]
  },
  {
   "cell_type": "code",
   "execution_count": 6,
   "id": "5a4099b7",
   "metadata": {},
   "outputs": [
    {
     "data": {
      "text/plain": [
       "DecisionTreeClassifier()"
      ]
     },
     "execution_count": 6,
     "metadata": {},
     "output_type": "execute_result"
    }
   ],
   "source": [
    "# Crear el clasificador del árbol de decisión\n",
    "clf = DecisionTreeClassifier()\n",
    "\n",
    "# Entrenar el clasificador\n",
    "clf.fit(X_train, y_train)"
   ]
  },
  {
   "cell_type": "markdown",
   "id": "08d5128e",
   "metadata": {},
   "source": [
    "## 4. Evaluación del modelo"
   ]
  },
  {
   "cell_type": "code",
   "execution_count": 7,
   "id": "fec876d9",
   "metadata": {},
   "outputs": [
    {
     "name": "stdout",
     "output_type": "stream",
     "text": [
      "Precisión del modelo: 1.0\n"
     ]
    }
   ],
   "source": [
    "# Evaluar el modelo\n",
    "y_pred = clf.predict(X_test)\n",
    "accuracy = metrics.accuracy_score(y_test, y_pred)\n",
    "print(\"Precisión del modelo:\", accuracy) "
   ]
  },
  {
   "cell_type": "markdown",
   "id": "0cd1331a",
   "metadata": {},
   "source": [
    "## ¿Hay sobreajuste en el modelo?"
   ]
  },
  {
   "cell_type": "markdown",
   "id": "e217e3ee",
   "metadata": {},
   "source": [
    "## 5. Modelo"
   ]
  },
  {
   "cell_type": "code",
   "execution_count": 8,
   "id": "488bc0ef",
   "metadata": {},
   "outputs": [
    {
     "data": {
      "image/png": "[encoded data removed]",
      "text/plain": [
       "<Figure size 720x576 with 1 Axes>"
      ]
     },
     "metadata": {
      "needs_background": "light"
     },
     "output_type": "display_data"
    }
   ],
   "source": [
    "# Visualizar el árbol de decisión\n",
    "plt.figure(figsize=(10, 8))\n",
    "plot_tree(clf, feature_names=iris.feature_names, class_names=iris.target_names, filled=True)\n",
    "plt.show()"
   ]
  },
  {
   "cell_type": "markdown",
   "id": "7b45a9bd",
   "metadata": {},
   "source": [
    "En el árbol de decisión resultante, cada nodo representa una característica o atributo utilizado para tomar decisiones. Los nodos internos indican las condiciones y las ramas representan las posibles salidas o decisiones que se toman en función de esas condiciones. Las hojas del árbol representan las etiquetas o clases finales a las que pertenecen los datos."
   ]
  },
  {
   "cell_type": "markdown",
   "id": "d828bcad",
   "metadata": {},
   "source": [
    "## Validación cruzada"
   ]
  },
  {
   "cell_type": "code",
   "execution_count": 9,
   "id": "4bfc7fad",
   "metadata": {},
   "outputs": [
    {
     "name": "stdout",
     "output_type": "stream",
     "text": [
      "Precisión promedio de validación cruzada: 0.9666666666666668\n",
      "Precisión del modelo en el conjunto de prueba: 1.0\n"
     ]
    }
   ],
   "source": [
    "# Realizar validación cruzada\n",
    "scores = cross_val_score(clf, X, y, cv=5)\n",
    "\n",
    "# Imprimir los resultados de la validación cruzada\n",
    "print(\"Precisión promedio de validación cruzada:\", np.mean(scores))\n",
    "\n",
    "# Entrenar el clasificador con el conjunto de entrenamiento completo\n",
    "clf.fit(X_train, y_train)\n",
    "\n",
    "# Evaluar el modelo en el conjunto de prueba\n",
    "accuracy = clf.score(X_test, y_test)\n",
    "print(\"Precisión del modelo en el conjunto de prueba:\", accuracy)"
   ]
  },
  {
   "cell_type": "markdown",
   "id": "050cb842",
   "metadata": {},
   "source": [
    "## Ejemplo 2: Regresión logística"
   ]
  },
  {
   "cell_type": "markdown",
   "id": "2ad1b42f",
   "metadata": {},
   "source": [
    "## ¿Qué es la regresión logística en ML?\n",
    "es un algoritmo de aprendizaje automático supervisado que se utiliza para resolver problemas de clasificación binaria. Aunque el nombre contiene la palabra \"regresión\", la regresión logística se utiliza para predecir la probabilidad de pertenencia a una clase o categoría en lugar de predecir un valor numérico continuo.\n",
    "\n",
    "La regresión logística se basa en el modelo logístico, que utiliza una función logística (también conocida como sigmoide) para transformar la salida de una combinación lineal de características de entrada en una probabilidad entre 0 y 1."
   ]
  },
  {
   "cell_type": "markdown",
   "id": "e992a1f7",
   "metadata": {},
   "source": [
    "### Importar nueva librería y datos"
   ]
  },
  {
   "cell_type": "code",
   "execution_count": 10,
   "id": "40bc1688",
   "metadata": {},
   "outputs": [],
   "source": [
    "from sklearn.datasets import load_diabetes\n",
    "from sklearn.linear_model import LogisticRegression"
   ]
  },
  {
   "cell_type": "markdown",
   "id": "a0d0dd19",
   "metadata": {},
   "source": [
    "## Base de datos: Diabetes\n",
    "**1. Age (Edad):** Representa la edad del paciente en años.\n",
    "\n",
    "**2. Sex (Género):** Indica el género del paciente. 1 representa a los hombres y 0 a las mujeres.\n",
    "\n",
    "**3. Body mass index (Índice de masa corporal):** Es un índice que se calcula a partir del peso y la altura del paciente. Mide la obesidad y se expresa en kg/m².\n",
    "\n",
    "**4. Average blood pressure (Presión arterial promedio):** Representa la presión arterial media del paciente, medida en mm Hg.\n",
    "\n",
    "**5. S1:** Variable del suero sanguíneo relacionada con la glucosa.\n",
    "\n",
    "**6. S2:** Variable del suero sanguíneo relacionada con la insulina.\n",
    "\n",
    "**7. S3:** Variable del suero sanguíneo relacionada con el colesterol. \n",
    "\n",
    "**8. S4:** Variable del suero sanguíneo relacionada con la presión arterial. \n",
    "\n",
    "**9. S5:** Variable del suero sanguíneo relacionada con la adiponectina. \n",
    "\n",
    "**10. S6:** Variable del suero sanguíneo relacionada con la resistina. \n",
    "\n",
    "**Target (Objetivo):** Es la variable objetivo o etiqueta que indica si el paciente desarrolló una enfermedad relacionada con la diabetes. Esta variable representa una medida cuantitativa de la progresión de la enfermedad después de un año de seguimiento. Cuanto mayor sea el valor, mayor será la progresión de la enfermedad"
   ]
  },
  {
   "cell_type": "code",
   "execution_count": 11,
   "id": "6747935b",
   "metadata": {},
   "outputs": [
    {
     "data": {
      "text/html": [
       "<div>\n",
       "<style scoped>\n",
       "    .dataframe tbody tr th:only-of-type {\n",
       "        vertical-align: middle;\n",
       "    }\n",
       "\n",
       "    .dataframe tbody tr th {\n",
       "        vertical-align: top;\n",
       "    }\n",
       "\n",
       "    .dataframe thead th {\n",
       "        text-align: right;\n",
       "    }\n",
       "</style>\n",
       "<table border=\"1\" class=\"dataframe\">\n",
       "  <thead>\n",
       "    <tr style=\"text-align: right;\">\n",
       "      <th></th>\n",
       "      <th>age</th>\n",
       "      <th>sex</th>\n",
       "      <th>bmi</th>\n",
       "      <th>bp</th>\n",
       "      <th>s1</th>\n",
       "      <th>s2</th>\n",
       "      <th>s3</th>\n",
       "      <th>s4</th>\n",
       "      <th>s5</th>\n",
       "      <th>s6</th>\n",
       "    </tr>\n",
       "  </thead>\n",
       "  <tbody>\n",
       "    <tr>\n",
       "      <th>0</th>\n",
       "      <td>0.038076</td>\n",
       "      <td>0.050680</td>\n",
       "      <td>0.061696</td>\n",
       "      <td>0.021872</td>\n",
       "      <td>-0.044223</td>\n",
       "      <td>-0.034821</td>\n",
       "      <td>-0.043401</td>\n",
       "      <td>-0.002592</td>\n",
       "      <td>0.019908</td>\n",
       "      <td>-0.017646</td>\n",
       "    </tr>\n",
       "    <tr>\n",
       "      <th>1</th>\n",
       "      <td>-0.001882</td>\n",
       "      <td>-0.044642</td>\n",
       "      <td>-0.051474</td>\n",
       "      <td>-0.026328</td>\n",
       "      <td>-0.008449</td>\n",
       "      <td>-0.019163</td>\n",
       "      <td>0.074412</td>\n",
       "      <td>-0.039493</td>\n",
       "      <td>-0.068330</td>\n",
       "      <td>-0.092204</td>\n",
       "    </tr>\n",
       "    <tr>\n",
       "      <th>2</th>\n",
       "      <td>0.085299</td>\n",
       "      <td>0.050680</td>\n",
       "      <td>0.044451</td>\n",
       "      <td>-0.005671</td>\n",
       "      <td>-0.045599</td>\n",
       "      <td>-0.034194</td>\n",
       "      <td>-0.032356</td>\n",
       "      <td>-0.002592</td>\n",
       "      <td>0.002864</td>\n",
       "      <td>-0.025930</td>\n",
       "    </tr>\n",
       "    <tr>\n",
       "      <th>3</th>\n",
       "      <td>-0.089063</td>\n",
       "      <td>-0.044642</td>\n",
       "      <td>-0.011595</td>\n",
       "      <td>-0.036656</td>\n",
       "      <td>0.012191</td>\n",
       "      <td>0.024991</td>\n",
       "      <td>-0.036038</td>\n",
       "      <td>0.034309</td>\n",
       "      <td>0.022692</td>\n",
       "      <td>-0.009362</td>\n",
       "    </tr>\n",
       "    <tr>\n",
       "      <th>4</th>\n",
       "      <td>0.005383</td>\n",
       "      <td>-0.044642</td>\n",
       "      <td>-0.036385</td>\n",
       "      <td>0.021872</td>\n",
       "      <td>0.003935</td>\n",
       "      <td>0.015596</td>\n",
       "      <td>0.008142</td>\n",
       "      <td>-0.002592</td>\n",
       "      <td>-0.031991</td>\n",
       "      <td>-0.046641</td>\n",
       "    </tr>\n",
       "  </tbody>\n",
       "</table>\n",
       "</div>"
      ],
      "text/plain": [
       "        age       sex       bmi        bp        s1        s2        s3  \\\n",
       "0  0.038076  0.050680  0.061696  0.021872 -0.044223 -0.034821 -0.043401   \n",
       "1 -0.001882 -0.044642 -0.051474 -0.026328 -0.008449 -0.019163  0.074412   \n",
       "2  0.085299  0.050680  0.044451 -0.005671 -0.045599 -0.034194 -0.032356   \n",
       "3 -0.089063 -0.044642 -0.011595 -0.036656  0.012191  0.024991 -0.036038   \n",
       "4  0.005383 -0.044642 -0.036385  0.021872  0.003935  0.015596  0.008142   \n",
       "\n",
       "         s4        s5        s6  \n",
       "0 -0.002592  0.019908 -0.017646  \n",
       "1 -0.039493 -0.068330 -0.092204  \n",
       "2 -0.002592  0.002864 -0.025930  \n",
       "3  0.034309  0.022692 -0.009362  \n",
       "4 -0.002592 -0.031991 -0.046641  "
      ]
     },
     "execution_count": 11,
     "metadata": {},
     "output_type": "execute_result"
    }
   ],
   "source": [
    "# Cargar la base de datos\n",
    "diabetes = load_diabetes()\n",
    "# Convertir los datos en un DataFrame\n",
    "df = pd.DataFrame(data=diabetes.data, columns=diabetes.feature_names)\n",
    "df.head()"
   ]
  },
  {
   "cell_type": "markdown",
   "id": "631f54fa",
   "metadata": {},
   "source": [
    "# Algoritmo de ML"
   ]
  },
  {
   "cell_type": "markdown",
   "id": "f97b1ba2",
   "metadata": {},
   "source": [
    "## 1. Se definen las variables explicativas (features) y la objetivo:"
   ]
  },
  {
   "cell_type": "code",
   "execution_count": 12,
   "id": "0f1e00c0",
   "metadata": {},
   "outputs": [],
   "source": [
    "X = diabetes.data  # Extraer las características (variables independientes)\n",
    "y = diabetes.target  # Extraer la variable objetivo (variable dependiente)"
   ]
  },
  {
   "cell_type": "markdown",
   "id": "2187241d",
   "metadata": {},
   "source": [
    "## 2. División de la base de datos: "
   ]
  },
  {
   "cell_type": "code",
   "execution_count": 13,
   "id": "96c5d558",
   "metadata": {},
   "outputs": [],
   "source": [
    "# Crear un DataFrame con los datos\n",
    "df = pd.DataFrame(data=X, columns=diabetes.feature_names)  # Crear un DataFrame con las características y sus nombres"
   ]
  },
  {
   "cell_type": "markdown",
   "id": "3fe821c6",
   "metadata": {},
   "source": [
    "## 3. Definición y entrenamiento del modelo:"
   ]
  },
  {
   "cell_type": "code",
   "execution_count": 14,
   "id": "c80c9669",
   "metadata": {},
   "outputs": [
    {
     "data": {
      "text/plain": [
       "LogisticRegression(max_iter=1000)"
      ]
     },
     "execution_count": 14,
     "metadata": {},
     "output_type": "execute_result"
    }
   ],
   "source": [
    "# Crear el modelo de regresión logística\n",
    "logreg = LogisticRegression(max_iter=1000)\n",
    "\n",
    "# Entrenar el modelo\n",
    "logreg.fit(X_train, y_train)"
   ]
  },
  {
   "cell_type": "markdown",
   "id": "75bc3257",
   "metadata": {},
   "source": [
    "## 4. Predicción y evaluación del modelo \n"
   ]
  },
  {
   "cell_type": "code",
   "execution_count": 15,
   "id": "7162295f",
   "metadata": {},
   "outputs": [
    {
     "name": "stdout",
     "output_type": "stream",
     "text": [
      "Precisión del modelo: 1.0\n",
      "Matriz de confusión:\n",
      "[[10  0  0]\n",
      " [ 0  9  0]\n",
      " [ 0  0 11]]\n"
     ]
    },
    {
     "data": {
      "image/png": "[encoded data removed]",
      "text/plain": [
       "<Figure size 432x288 with 2 Axes>"
      ]
     },
     "metadata": {
      "needs_background": "light"
     },
     "output_type": "display_data"
    }
   ],
   "source": [
    "# Hacer predicciones en el conjunto de prueba\n",
    "y_pred = logreg.predict(X_test)\n",
    "\n",
    "# Calcular la precisión del modelo\n",
    "accuracy = metrics.accuracy_score(y_test, y_pred)\n",
    "print(\"Precisión del modelo:\", accuracy)\n",
    "\n",
    "# Mostrar la matriz de confusión\n",
    "confusion_matrix = metrics.confusion_matrix(y_test, y_pred)\n",
    "print(\"Matriz de confusión:\")\n",
    "print(confusion_matrix)\n",
    "\n",
    "# Matriz de confusión\n",
    "sns.heatmap(confusion_matrix, annot=True, cmap=\"Blues\")\n",
    "plt.title(\"Matriz de Confusión\")\n",
    "plt.xlabel(\"Etiqueta Predicha\")\n",
    "plt.ylabel(\"Etiqueta Real\")\n",
    "plt.show()"
   ]
  },
  {
   "cell_type": "markdown",
   "id": "56527c02",
   "metadata": {},
   "source": [
    "**Matriz de confusión:** La matriz de confusión muestra la cantidad de predicciones correctas e incorrectas realizadas por el modelo en cada clase. Se utiliza la funció.\n"
   ]
  },
  {
   "cell_type": "code",
   "execution_count": 16,
   "id": "35e36f3f",
   "metadata": {},
   "outputs": [
    {
     "data": {
      "image/png": "[encoded data removed]",
      "text/plain": [
       "<Figure size 720x432 with 1 Axes>"
      ]
     },
     "metadata": {
      "needs_background": "light"
     },
     "output_type": "display_data"
    }
   ],
   "source": [
    "# Gráfico de dispersión de los valores reales y predichos\n",
    "plt.figure(figsize=(10, 6))\n",
    "plt.scatter(range(len(y_test)), y_test, color='black', label='Valores reales')\n",
    "plt.scatter(range(len(y_test)), y_pred, alpha=0.7, color='red', label='Valores predichos')\n",
    "plt.xlabel('Índice de muestra')\n",
    "plt.ylabel('Valor de diabetes')\n",
    "plt.title('Valores reales vs Valores predichos')\n",
    "plt.legend()\n",
    "plt.show()"
   ]
  },
  {
   "cell_type": "markdown",
   "id": "2253beef",
   "metadata": {},
   "source": [
    "# Ejemplo 3: K-NN"
   ]
  },
  {
   "cell_type": "markdown",
   "id": "d2aed6fd",
   "metadata": {},
   "source": [
    "## ¿Qué es K-NN en ML?\n",
    "(k-Nearest Neighbors) es un algoritmo de aprendizaje automático supervisado. Esto significa que requiere etiquetas de clase o valores de salida para los datos de entrenamiento con el fin de realizar predicciones en nuevos datos.\n",
    "\n",
    "En el caso de la clasificación con KNN, se necesita tener las etiquetas de clase correspondientes a los puntos de datos de entrenamiento para poder determinar la clase de un nuevo punto de datos. Los puntos de datos de entrenamiento se utilizan para construir un espacio multidimensional en el que se mide la distancia entre los puntos, y se busca un número k de vecinos más cercanos para tomar una decisión de clasificación."
   ]
  },
  {
   "cell_type": "markdown",
   "id": "bf10c1da",
   "metadata": {},
   "source": [
    "### Se importa la librería de los K-NN"
   ]
  },
  {
   "cell_type": "code",
   "execution_count": 17,
   "id": "6421ae7e",
   "metadata": {},
   "outputs": [],
   "source": [
    "from sklearn.neighbors import KNeighborsClassifier"
   ]
  },
  {
   "cell_type": "markdown",
   "id": "fee6154c",
   "metadata": {},
   "source": [
    "## 1. Se definen las variables explicativas (features) y la objetivo:"
   ]
  },
  {
   "cell_type": "code",
   "execution_count": 18,
   "id": "e65de588",
   "metadata": {},
   "outputs": [],
   "source": [
    "# Cargar la base de datos de iris\n",
    "iris = load_iris()\n",
    "X = iris.data\n",
    "y = iris.target"
   ]
  },
  {
   "cell_type": "markdown",
   "id": "aac9b63b",
   "metadata": {},
   "source": [
    "## 2. División de la base de datos: \n"
   ]
  },
  {
   "cell_type": "code",
   "execution_count": 19,
   "id": "837eaf17",
   "metadata": {},
   "outputs": [],
   "source": [
    "# Dividir los datos en conjuntos de entrenamiento y prueba\n",
    "X_train, X_test, y_train, y_test = train_test_split(X, y, test_size=0.2, random_state=42)\n"
   ]
  },
  {
   "cell_type": "markdown",
   "id": "ebfd9ec8",
   "metadata": {},
   "source": [
    "## 3. Definición y entrenamiento del modelo:\n"
   ]
  },
  {
   "cell_type": "code",
   "execution_count": 20,
   "id": "1b291f99",
   "metadata": {},
   "outputs": [
    {
     "data": {
      "text/plain": [
       "KNeighborsClassifier(n_neighbors=3)"
      ]
     },
     "execution_count": 20,
     "metadata": {},
     "output_type": "execute_result"
    }
   ],
   "source": [
    "# Crear el modelo KNN\n",
    "knn = KNeighborsClassifier(n_neighbors=3)\n",
    "# Entrenar el modelo\n",
    "knn.fit(X_train, y_train)"
   ]
  },
  {
   "cell_type": "markdown",
   "id": "c6573a37",
   "metadata": {},
   "source": [
    "## 4. Predicción y evaluación del modelo \n"
   ]
  },
  {
   "cell_type": "code",
   "execution_count": 21,
   "id": "edfeb6ea",
   "metadata": {},
   "outputs": [
    {
     "name": "stdout",
     "output_type": "stream",
     "text": [
      "Precisión del modelo: 1.0\n"
     ]
    }
   ],
   "source": [
    "# Hacer predicciones en el conjunto de prueba\n",
    "y_pred = knn.predict(X_test)\n",
    "\n",
    "# Calcular la precisión del modelo\n",
    "accuracy = metrics.accuracy_score(y_test, y_pred)\n",
    "print(\"Precisión del modelo:\", accuracy)"
   ]
  },
  {
   "cell_type": "code",
   "execution_count": 22,
   "id": "d4167026",
   "metadata": {},
   "outputs": [
    {
     "data": {
      "image/png": "[encoded data removed]",
      "text/plain": [
       "<Figure size 720x432 with 1 Axes>"
      ]
     },
     "metadata": {
      "needs_background": "light"
     },
     "output_type": "display_data"
    }
   ],
   "source": [
    "# Gráfico de dispersión de las muestras de iris\n",
    "plt.figure(figsize=(10, 6))\n",
    "plt.scatter(X[:, 0], X[:, 1], c=y, cmap='viridis')\n",
    "plt.xlabel('Longitud del sépalo')\n",
    "plt.ylabel('Anchura del sépalo')\n",
    "plt.title('Muestras de iris')\n",
    "plt.show()"
   ]
  },
  {
   "cell_type": "code",
   "execution_count": 23,
   "id": "cd5da578",
   "metadata": {},
   "outputs": [
    {
     "data": {
      "image/png": "[encoded data removed]",
      "text/plain": [
       "<Figure size 720x432 with 1 Axes>"
      ]
     },
     "metadata": {
      "needs_background": "light"
     },
     "output_type": "display_data"
    }
   ],
   "source": [
    "# Gráfico de dispersión de las muestras de prueba con las predicciones\n",
    "plt.figure(figsize=(10, 6))\n",
    "plt.scatter(X_test[:, 0], X_test[:, 1], c=y_pred, cmap='viridis')\n",
    "plt.xlabel('Longitud del sépalo')\n",
    "plt.ylabel('Anchura del sépalo')\n",
    "plt.title('Muestras de prueba con predicciones')\n",
    "plt.show()"
   ]
  },
  {
   "cell_type": "markdown",
   "id": "633b50c2",
   "metadata": {},
   "source": [
    "# Ejemplo 4: K-means (no supervisado)\n"
   ]
  },
  {
   "cell_type": "markdown",
   "id": "9c359233",
   "metadata": {},
   "source": [
    "## ¿Qué es K-means en ML?\n",
    "es un algoritmo de aprendizaje automático no supervisado utilizado para realizar agrupamiento o clustering de datos. El objetivo principal del algoritmo K-means es agrupar un conjunto de datos en k grupos o clusters basados en sus características similares.\n",
    "\n",
    "El objetivo del algoritmo es minimizar la suma de las distancias al cuadrado entre los puntos y sus centroides correspondientes. Esto implica que los puntos asignados a un mismo cluster son similares entre sí en términos de distancia euclidiana."
   ]
  },
  {
   "cell_type": "code",
   "execution_count": 24,
   "id": "707543a0",
   "metadata": {},
   "outputs": [],
   "source": [
    "from sklearn.cluster import KMeans\n",
    "from sklearn.datasets import make_blobs"
   ]
  },
  {
   "cell_type": "markdown",
   "id": "08f58fd0",
   "metadata": {},
   "source": [
    "## 1. Se definen las variables explicativas (features) y la objetivo:"
   ]
  },
  {
   "cell_type": "code",
   "execution_count": 25,
   "id": "72b5ea90",
   "metadata": {},
   "outputs": [],
   "source": [
    "# Generar datos de ejemplo\n",
    "X, y = make_blobs(n_samples=200, centers=4, random_state=42)\n"
   ]
  },
  {
   "cell_type": "markdown",
   "id": "09246f61",
   "metadata": {},
   "source": [
    "## 2. División de la base de datos: \n"
   ]
  },
  {
   "cell_type": "code",
   "execution_count": 26,
   "id": "8e646bb8",
   "metadata": {},
   "outputs": [],
   "source": [
    "# Dividir los datos en conjuntos de entrenamiento y prueba\n",
    "X_train, X_test, y_train, y_test = train_test_split(X, y, test_size=0.2, random_state=42)\n"
   ]
  },
  {
   "cell_type": "markdown",
   "id": "70f67140",
   "metadata": {},
   "source": [
    "## 3. Definición y entrenamiento del modelo:\n"
   ]
  },
  {
   "cell_type": "code",
   "execution_count": 27,
   "id": "743dab5c",
   "metadata": {},
   "outputs": [
    {
     "data": {
      "text/plain": [
       "KMeans(n_clusters=4, random_state=42)"
      ]
     },
     "execution_count": 27,
     "metadata": {},
     "output_type": "execute_result"
    }
   ],
   "source": [
    "# Crear el objeto KMeans\n",
    "kmeans = KMeans(n_clusters=4, random_state=42)\n",
    "\n",
    "# Ajustar el modelo a los datos de entrenamiento\n",
    "kmeans.fit(X_train)"
   ]
  },
  {
   "cell_type": "markdown",
   "id": "c00e6fdb",
   "metadata": {},
   "source": [
    "## 4. Predicción y evaluación del modelo \n"
   ]
  },
  {
   "cell_type": "code",
   "execution_count": 28,
   "id": "2b40c7f7",
   "metadata": {},
   "outputs": [
    {
     "data": {
      "image/png": "[encoded data removed]",
      "text/plain": [
       "<Figure size 432x288 with 1 Axes>"
      ]
     },
     "metadata": {
      "needs_background": "light"
     },
     "output_type": "display_data"
    }
   ],
   "source": [
    "# Obtener las etiquetas de los clusters y los centroides\n",
    "labels_train = kmeans.labels_\n",
    "centroids = kmeans.cluster_centers_\n",
    "\n",
    "# Visualizar los resultados en los datos de entrenamiento\n",
    "plt.scatter(X_train[:, 0], X_train[:, 1], c=labels_train)\n",
    "plt.scatter(centroids[:, 0], centroids[:, 1], marker='x', color='red')\n",
    "plt.title(\"K-means Clustering (Training Data)\")\n",
    "plt.xlabel(\"Feature 1\")\n",
    "plt.ylabel(\"Feature 2\")\n",
    "plt.show()\n",
    "\n",
    "# Predecir las etiquetas de los clusters para los datos de prueba\n",
    "labels_test = kmeans.predict(X_test)"
   ]
  },
  {
   "cell_type": "code",
   "execution_count": 29,
   "id": "4b1ac43a",
   "metadata": {},
   "outputs": [
    {
     "data": {
      "image/png": "[encoded data removed]",
      "text/plain": [
       "<Figure size 432x288 with 1 Axes>"
      ]
     },
     "metadata": {
      "needs_background": "light"
     },
     "output_type": "display_data"
    }
   ],
   "source": [
    "# Visualizar los resultados en los datos de prueba\n",
    "plt.scatter(X_test[:, 0], X_test[:, 1], c=labels_test)\n",
    "plt.scatter(centroids[:, 0], centroids[:, 1], marker='x', color='red')\n",
    "plt.title(\"K-means Clustering (Test Data)\")\n",
    "plt.xlabel(\"Feature 1\")\n",
    "plt.ylabel(\"Feature 2\")\n",
    "plt.show()"
   ]
  }
 ],
 "metadata": {
  "kernelspec": {
   "display_name": "Python 3 (ipykernel)",
   "language": "python",
   "name": "python3"
  },
  "language_info": {
   "codemirror_mode": {
    "name": "ipython",
    "version": 3
   },
   "file_extension": ".py",
   "mimetype": "text/x-python",
   "name": "python",
   "nbconvert_exporter": "python",
   "pygments_lexer": "ipython3",
   "version": "3.9.7"
  }
 },
 "nbformat": 4,
 "nbformat_minor": 5
}
