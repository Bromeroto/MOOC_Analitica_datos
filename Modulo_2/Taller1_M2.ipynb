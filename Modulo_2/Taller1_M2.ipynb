{
 "cells": [
  {
   "cell_type": "markdown",
   "id": "704dc19f",
   "metadata": {},
   "source": [
    "# Taller 1: Modelos de regresión\n",
    "\n",
    "\n",
    "### Datos que se utilizan para este taller\n",
    "\n",
    "Se utilizan datos fueron simulados y generados a partir de una distribución normal. En donde:\n",
    "* $X$ y $Z$ son variable aleatorias independientes que se distribuyen Normal.\n",
    "* $D$ es una variable dummy que toma el valor de $0$ o $1$.\n",
    "* $Y$ es una  variable aleatoria dependiente que se distribuye Normal.\n",
    "\n",
    "El el nombre del archivo es [SIM_DATA.csv](Data/SIM_DATA.csv)."
   ]
  },
  {
   "cell_type": "markdown",
   "id": "99955468",
   "metadata": {},
   "source": [
    "## Indicaciones:\n",
    "\n",
    "Se quiere saber la relación existente entre las variables independientes **(**$X_i$ y $Z_i$**)** y la yariable dependiente $(Y_i)$. Con ayuda de los `Notebooks` del `Ejemplo 1` y `Ejemplo 2`, usted deberá:\n",
    "\n",
    "1. Obtenga las estadisticas descriptivas principales de cada variable del Dataframe.\n",
    "2. Calcule el coeficiente de correlación entre las variables dependientes **(**$X_i$ y $Z_i$**)** y la independiente $(Y_i)$. ¿Cual variable está más correlacionada con $Y_i$? Interprete los coeficientes obtenidos.\n",
    "3. Realice las siguientes regresiones simples:\n",
    "    - Modelo 1: $ Y_{i} = \\beta_0 + \\beta_1 X_{i} + \\varepsilon_{i}$\n",
    "    - Modelo 2: $ Y_{i} = \\beta_0 + \\beta_1 Z_{i} + \\varepsilon_{i}$\n",
    "    \n",
    "    **De las regresiones usted deberá: 1) interpretar los resultados de los coefcientes obtenidos; 2) Interpretar el coeficiente de determinación $(R^2)$ ¿Cual modelos tiene mejor ajuste? ¿Qué variable independiente es la mejor explicando la variable dependiente?**\n",
    " \n",
    "4. Realice una regresión lineal multiple en que se incluyan $X_{i}$ y $Z_{i}$ como variables regresoras:\n",
    "    - Modelo 3: $ Y_{i} = \\beta_0 + \\beta_1 X_{i} + \\beta_1 Z_{i} + \\varepsilon_{i}$\n",
    "    \n",
    "    **De la regresión usted deberá: 1) Interpretar el coeficiente de determinación $(R^2)$ ¿Este nuevo modelo tiene mejor ajuste que los modelos obtenidos en el numeral 3?**\n"
   ]
  },
  {
   "cell_type": "code",
   "execution_count": null,
   "id": "26815c51",
   "metadata": {},
   "outputs": [],
   "source": [
    "#Se importan las librerias\n",
    "\n",
    "# 1. Libreria de manejos de DataFrame\n",
    "import numpy as np\n",
    "import pandas as pd\n",
    "\n",
    "#2. Libreria de graficas\n",
    "import matplotlib.pyplot as plt\n",
    "import seaborn as sns\n",
    "\n",
    "#3. Libreria de analisis estadistico\n",
    "import statsmodels.api as sm\n",
    "import statsmodels.formula.api as smf\n",
    "from scipy.stats import pearsonr\n",
    "import scipy.stats as stats"
   ]
  },
  {
   "cell_type": "markdown",
   "id": "aba1dc54",
   "metadata": {},
   "source": [
    "**Nota:** en donde diga `None` coloque su respuesta. Esto servirá de guia.\n"
   ]
  },
  {
   "cell_type": "markdown",
   "id": "732d9751",
   "metadata": {},
   "source": [
    "### 1. Estadisticas descriptivas"
   ]
  },
  {
   "cell_type": "code",
   "execution_count": null,
   "id": "1dd2ba9f",
   "metadata": {},
   "outputs": [],
   "source": [
    "# Importe la base de datos\n",
    "df = pd.read_csv('Coloque la dirección del archivo .csv', encoding='UTF-8', sep = ';', decimal=',')\n",
    "df.head()"
   ]
  },
  {
   "cell_type": "markdown",
   "id": "d2266d6f",
   "metadata": {},
   "source": [
    "Aplicando el método `.describe()` al nombre de Dataframe muestra las estadisticas descriptivas básicas de las variables continuas."
   ]
  },
  {
   "cell_type": "code",
   "execution_count": null,
   "id": "9585793f",
   "metadata": {
    "scrolled": true
   },
   "outputs": [],
   "source": [
    "#Coloque aqui su respuesta\n",
    "\n",
    "\n"
   ]
  },
  {
   "cell_type": "markdown",
   "id": "78517486",
   "metadata": {},
   "source": [
    "Tambien se le puede aplicar los métodos `.sum()`, `.mean()`, `.min()`, `.max()`, `.std()`, `.var()` al Dataframe.\n",
    "Por ejemplo:\n",
    "```python\n",
    "df['Var'].sum() #Sumatoria de los valores.\n",
    "df['Var'].mean() #Promedio\n",
    "df['Var'].min() #Valor minimo\n",
    "df['Var'].max() #Valor maximo\n",
    "df['Var'].std() #Desviación estándar.\n",
    "df['Var'].var() #Varianza\n",
    "```\n",
    "\n",
    "**Calcule todas las estádisticas descriptivas mencionadas arriba pata las variables $X_i$, $Y_i$ y $Z_i$**"
   ]
  },
  {
   "cell_type": "markdown",
   "id": "9a5f1e5b",
   "metadata": {},
   "source": [
    "`Coloque aqui las respuesta`\n",
    "\n",
    "Ultice la función `print()` para imprimir los resultados en la consola."
   ]
  },
  {
   "cell_type": "code",
   "execution_count": null,
   "id": "9d2c02ba",
   "metadata": {},
   "outputs": [],
   "source": [
    "# Maximo\n",
    "\n",
    "\n"
   ]
  },
  {
   "cell_type": "code",
   "execution_count": null,
   "id": "87568e3f",
   "metadata": {},
   "outputs": [],
   "source": [
    "# Minimo\n",
    "\n",
    "\n"
   ]
  },
  {
   "cell_type": "code",
   "execution_count": null,
   "id": "c35234f2",
   "metadata": {},
   "outputs": [],
   "source": [
    "# Promedio\n",
    "\n",
    "\n"
   ]
  },
  {
   "cell_type": "code",
   "execution_count": null,
   "id": "3cef8bcc",
   "metadata": {},
   "outputs": [],
   "source": [
    "# Sumatoria\n",
    "\n",
    "\n"
   ]
  },
  {
   "cell_type": "code",
   "execution_count": null,
   "id": "35626e7a",
   "metadata": {},
   "outputs": [],
   "source": [
    "# Varianza\n",
    "\n",
    "\n"
   ]
  },
  {
   "cell_type": "code",
   "execution_count": null,
   "id": "75823195",
   "metadata": {},
   "outputs": [],
   "source": [
    "# Desviación estándar\n",
    "\n",
    "\n"
   ]
  },
  {
   "cell_type": "markdown",
   "id": "dcb1dcce",
   "metadata": {},
   "source": [
    "### 2. Coeficiente de correlación"
   ]
  },
  {
   "cell_type": "markdown",
   "id": "368c5cba",
   "metadata": {},
   "source": [
    "El coeficiente de correlación $(R^2)$ se calcula con la función `pearsonr()`, la sintaxis es la siguiente.\n",
    "```python\n",
    "corr, pv = pearson(df['Var1'], df['Var2])\n",
    "```\n",
    "Este comando produce el coeficiente de correlación y su P-Valor correspondiente. En este caso el coeficiente de correlación se guarda con el nombre `corr` y el P-Valor `pv`."
   ]
  },
  {
   "cell_type": "markdown",
   "id": "20da1827",
   "metadata": {},
   "source": [
    "Calcule el coeficiente de correlación entre la variable $Y_i$ y $X_i$, y guardelo con el nombre `corr_yx`."
   ]
  },
  {
   "cell_type": "code",
   "execution_count": null,
   "id": "8cf30a18",
   "metadata": {},
   "outputs": [],
   "source": [
    "#Coloque su respuesta aquí\n",
    "\n"
   ]
  },
  {
   "cell_type": "markdown",
   "id": "ee2941dd",
   "metadata": {},
   "source": [
    "Calcule el coeficiente de correlación entre la variable $Y_i$ y $Z_i$, y guardelo con el nombre `corr_yz`."
   ]
  },
  {
   "cell_type": "code",
   "execution_count": null,
   "id": "1049892e",
   "metadata": {},
   "outputs": [],
   "source": [
    "#Coloque su respuesta aquí\n",
    "\n"
   ]
  },
  {
   "cell_type": "markdown",
   "id": "813e2f54",
   "metadata": {},
   "source": [
    "**¿Qué tan correlacionadas estan la variable dependiente con las idependientes? ¿Cuál es la de mayor correlación?**"
   ]
  },
  {
   "cell_type": "code",
   "execution_count": null,
   "id": "db7653e8",
   "metadata": {},
   "outputs": [],
   "source": [
    "#Coloque aquí su respuesta\n",
    "\n"
   ]
  },
  {
   "cell_type": "markdown",
   "id": "518ef2b2",
   "metadata": {},
   "source": [
    "### 3. Regresión lineal simple"
   ]
  },
  {
   "cell_type": "markdown",
   "id": "3c17cc54",
   "metadata": {},
   "source": [
    "Las regresiones lieneales se realizan copn la ayuda de la libreria `statsmodels`. A continuación se muestra un ejemplo de como realizar una regresión:\n",
    "\n",
    "```python\n",
    "regresion = smf.ols(formula = 'Var1 ~ Var2 + Var3', data = df) #Se realiza la regresión\n",
    "\n",
    "resultados = modelo.fit() #Se guardan los resultados de la regresión\n",
    "\n",
    "R2 = resultados.rsquared #Se guarda el R2\n",
    "\n",
    "print(result.summary()) #Se imprimen los resultados\n",
    "\n",
    "print('El R2 de esta regresión es:', R2)\n",
    "\n",
    "```\n"
   ]
  },
  {
   "cell_type": "markdown",
   "id": "f69ba39f",
   "metadata": {},
   "source": [
    "Realice la regresión lineal simple entre la variable dependiente $Y_{i}$ y la independiente $X_{i}$, guarde el $R^2$ con el nombre `R2_yx`"
   ]
  },
  {
   "cell_type": "code",
   "execution_count": null,
   "id": "ba5968db",
   "metadata": {},
   "outputs": [],
   "source": [
    "#Coloque aquí su respuesta\n",
    "\n"
   ]
  },
  {
   "cell_type": "markdown",
   "id": "159e4fc6",
   "metadata": {
    "scrolled": true
   },
   "source": [
    "Realice la regresión lineal simple entre la variable dependiente $Y_{i}$ y la independiente $Z_{i}$, guarde el $R^2$ con el nombre `R2_yz`"
   ]
  },
  {
   "cell_type": "code",
   "execution_count": null,
   "id": "0314d3f8",
   "metadata": {},
   "outputs": [],
   "source": [
    "#Coloque aquí su respuesta\n",
    "\n",
    "\n"
   ]
  },
  {
   "cell_type": "markdown",
   "id": "76236dac",
   "metadata": {},
   "source": [
    "**¿Cúal es la variable dependiente que mejor explica la va rieble dependiente? ¿Por qué?**"
   ]
  },
  {
   "cell_type": "code",
   "execution_count": null,
   "id": "66f30525",
   "metadata": {},
   "outputs": [],
   "source": [
    "#Coloque aquí su respuesta\n",
    "\n",
    "\n"
   ]
  },
  {
   "cell_type": "markdown",
   "id": "f3ee8d0c",
   "metadata": {},
   "source": [
    "### 4. Regresión lineal multiple"
   ]
  },
  {
   "cell_type": "markdown",
   "id": "23c9a7a4",
   "metadata": {},
   "source": [
    "Realice la regresión lineal multiple entre la variable dependiente $Y_{i}$ y las independientes $X_{i}$ y $Z_{i}$, guarde el $R^2$ con el nombre `R2_yxz`"
   ]
  },
  {
   "cell_type": "code",
   "execution_count": null,
   "id": "8a953290",
   "metadata": {},
   "outputs": [],
   "source": [
    "#Coloque aquí su respuesta\n",
    "\n",
    "\n",
    "\n",
    "\n",
    "\n"
   ]
  },
  {
   "cell_type": "markdown",
   "id": "d80b547e",
   "metadata": {},
   "source": [
    "**¿Mejoró el ajuste respecto a las regresiones anteriores?**"
   ]
  },
  {
   "cell_type": "code",
   "execution_count": null,
   "id": "b9e3157d",
   "metadata": {
    "scrolled": false
   },
   "outputs": [],
   "source": [
    "#Coloque su respuest aquí\n",
    "\n",
    "\n"
   ]
  }
 ],
 "metadata": {
  "kernelspec": {
   "display_name": "Python 3 (ipykernel)",
   "language": "python",
   "name": "python3"
  },
  "language_info": {
   "codemirror_mode": {
    "name": "ipython",
    "version": 3
   },
   "file_extension": ".py",
   "mimetype": "text/x-python",
   "name": "python",
   "nbconvert_exporter": "python",
   "pygments_lexer": "ipython3",
   "version": "3.10.9"
  }
 },
 "nbformat": 4,
 "nbformat_minor": 5
}
