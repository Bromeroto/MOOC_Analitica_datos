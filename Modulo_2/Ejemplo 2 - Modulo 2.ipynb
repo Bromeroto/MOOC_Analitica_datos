{
 "cells": [
  {
   "cell_type": "markdown",
   "id": "704dc19f",
   "metadata": {},
   "source": [
    "# Ejemplo 2: Modelos de regresión\n",
    "\n",
    "\n",
    "### Datos que se utilizan en el ejemplo\n",
    "\n",
    "Se utilizan los datos del total de casos positivos de Covid-19 e indicadores del mercado laboral provenientes de la **Gran Encuesta Integrada de Hogares (GEIH)** del [DANE](https://www.dane.gov.co/index.php/estadisticas-por-tema/mercado-laboral/empleo-y-desempleo/geih-historicos) de frecuencia mensual. \n",
    "    \n",
    "##### Diccionario de las variables\n",
    "\n",
    "* **year:** Año.\n",
    "* **mes:** Mes.\n",
    "* **divipola_depto:** Código divipola del departamento.\n",
    "* **depto:** Nombre del departamento.\n",
    "* **casos_covid:** Número de casos positivos de Covid-19.\n",
    "* **pop_covid:** Proporción de la población del departamento que se con casos positivos de Covid-19.\n",
    "* **pea:** Población economicamente activa.\n",
    "* **pei:** Población economicamente inactiva.\n",
    "* **tdes:** Tasa de desempleo.\n",
    "* **tocu:** Tasa de ocupacion.\n",
    "* **Confinamiento:** Toma el valor de 1 en los meses que hubo confinamiento nacional, 0 en otro caso.\n",
    "    \n"
   ]
  },
  {
   "cell_type": "markdown",
   "id": "c1f307a7",
   "metadata": {},
   "source": [
    "## 1. Regresión lineal\n",
    "\n",
    "La regresión lineal es un modelo estadístico de una media condicional; es decir, una forma de predecir el valor aproximado que debería tener una variable de interés $(Y)$ teniendo en cuenta el valor de las otras varianbles $(X_i)$. Se llama regresión lineal simple cuando solo hay una variable independiente y regresión lineal múltiple cuando hay más de una.\n",
    "\n",
    "El [modelo de regresión lineal](https://www.cienciadedatos.net/documentos/py10-regresion-lineal-python) considera que, dado un conjunto de observaciones $\\{ y_{i}, x_{i1}, x_{i2}, \\dots , x_{nk} \\}^{n}_{i=1}$, la media de la variable dependiente ,$y_{i}$, se relaciona de forma lineal con las variables dependiente o regresoras $x_{1}, \\dots , x_{p}$.\n",
    "\n",
    "$$y_{i} = \\beta_{0} +  \\beta_{1}x_{1} + \\beta_{2}x_{2} + \\dots + \\beta_{k}x_{k} + \\epsilon_{i}$$\n",
    "\n",
    "La interpretaicíon de los coeficientes $(\\beta_{0}, \\dots, \\beta_{k})$ del modelo es la misma: \n",
    "* $\\beta_{0}:$ es el promedio de la variable dependiente $(y)$ manteniendo las variables dependientes $(x_{1}, \\dots, x_{k})$ constantes. Este coeficiente se conoce como intercepto.\n",
    "* $\\beta_{k}:$ son los efectos promedios que tiene la variable dependiente $(y)$ cuando incrementa una unidad de la variable dependiente $(x_{k})$. Estos coeficientes de conocen como efecto marginal o coeficientes parciales.\n",
    "* $\\epsilon_{i}:$ se conoce como residuo o término error, y es la diferencia entre el valor observado de variable dependiente $(y_{i})$ y su valor predicho $(\\hat{y}_{i})$ por el modelo. El error representa la parte de la variación que no puede ser explicada por las variables independientes incluidas en el modelo.\n",
    "\n",
    "Como los valores poblacionales de los coeficientes de la regresión $(\\beta_{0}, \\dots, \\beta_{k})$ son desconocidos, se estiman a partir de una muestra de datos $(\\hat{\\beta}_{0}, \\dots, \\hat{\\beta}_{k})$. La magnitud de los coeficientes parciales de regresión no está relacionada con la importancia de cada variable dependiente, ya que esta magnitud puede variar según las unidades de medida de las variables correspondientes.\n",
    "\n",
    "El método comúnmente empleado para realizar las estimaciones de los coeficientes es el de ***Mínimos Cuadrados Ordinarios (MCO)***, cuyo objetivo es encontrar los valores de los coeficientes de regresión que minimizan la suma de los cuadrados de las diferencias entre los valores observados y los valores predichos por el modelo.\n",
    "\n",
    "\n",
    "### Coeficiente de determinación $R^{2}$\n",
    "\n",
    "El coeficiente de determinación $(R^2)$ indica la proporción de la variabilidad total de la variable dependiente que puede ser explicada por el modelo. Es una de las métricas más usadas para medir la calidad del ajuste del modelo, y un $R^2$ más cercano a 1 indica un mejor ajuste del modelo.\n",
    "\n",
    "$$R^{2} = 1- \\frac{Suma \\space{} de \\space{} Cuadrados \\space{} Residuales}{Suma \\space{} de \\space{} Cuadrados \\space{} Totales}$$\n",
    "\n",
    "$$R^{2} = 1- \\frac{\\sum_{i=1}^{n}(\\hat{y}_{i}-y_{i})^{2}}{\\sum_{i=1}^{n}(y_{i}-\\overline{y}_{i})^{2}}$$\n",
    "\n",
    "En los modelos de regresión lineal simple, el coeficiente de determinación $(R^2)$ se corresponde con el cuadrado del coeficiente de correlación de Pearson $(\\rho)$ de la variable independiente $(x_{i})$ y la variable dependiente $(y_{i})$. Sin embargo, en los modelos de regresión múltiple, esta relación entre $R^2$ y $\\rho$ no se mantiene.\n"
    "\n",
    "<div>\n",
    "    <img src=\"Imagen/Regresion_Lineal_R2_MOD1.png\" width=\"350\"/> \n",
    "    <img src=\"Imagen/Regresion_Lineal_R2_MOD2.png\" width=\"350\"/>\n",
    "    <img src=\"Imagen/Regresion_Lineal_R2_MOD3.png\" width=\"350\"/>\n",
    "</div>\n"	
   ]
  },
  {
   "cell_type": "markdown",
   "id": "47d79df2",
   "metadata": {},
   "source": [
    "### 1.1 Regresión lineal simple\n",
    "\n",
    "Se estimará el siguiente modelo con los datos del total de casos positivos de Covid-19 e indicadores del mercado laboral:\n",
    "$$TD_{it}= \\beta_{0} + \\beta_{1} CV_{it} + \\varepsilon_{it}$$ \n",
    "\n",
    "donde $TD_{it}$ representa la tasa de desempleo en el departamento $i$ y el mes $t$;$CV_{it}$ don los numeros de casos positivos de Covid-19, igualmente en el departamento $i$ y el mes $t$; $\\varepsilon_{it}$, es el término error."
   ]
  },
  {
   "cell_type": "code",
   "execution_count": 127,
   "id": "26815c51",
   "metadata": {},
   "outputs": [],
   "source": [
    "#Importamos las librerias que se utilizaran\n",
    "import os\n",
    "\n",
    "# 1. Libreria de manejos de DataFrame\n",
    "import numpy as np\n",
    "import pandas as pd\n",
    "\n",
    "#2. Libreria de graficas\n",
    "import matplotlib.pyplot as plt\n",
    "import seaborn as sns\n",
    "\n",
    "#3. Libreria de analisis estadistico\n",
    "import statsmodels.api as sm\n",
    "import statsmodels.formula.api as smf\n",
    "from scipy.stats import pearsonr\n"
   ]
  },
  {
   "cell_type": "code",
   "execution_count": 128,
   "id": "479b8440",
   "metadata": {
    "scrolled": true
   },
   "outputs": [
    {
     "data": {
      "text/html": [
       "<div>\n",
       "<style scoped>\n",
       "    .dataframe tbody tr th:only-of-type {\n",
       "        vertical-align: middle;\n",
       "    }\n",
       "\n",
       "    .dataframe tbody tr th {\n",
       "        vertical-align: top;\n",
       "    }\n",
       "\n",
       "    .dataframe thead th {\n",
       "        text-align: right;\n",
       "    }\n",
       "</style>\n",
       "<table border=\"1\" class=\"dataframe\">\n",
       "  <thead>\n",
       "    <tr style=\"text-align: right;\">\n",
       "      <th></th>\n",
       "      <th>year</th>\n",
       "      <th>mes</th>\n",
       "      <th>divipola_depto</th>\n",
       "      <th>depto</th>\n",
       "      <th>casos_covid</th>\n",
       "      <th>pop_covid</th>\n",
       "      <th>pea</th>\n",
       "      <th>pei</th>\n",
       "      <th>tdes</th>\n",
       "      <th>tocu</th>\n",
       "      <th>confinamiento</th>\n",
       "    </tr>\n",
       "  </thead>\n",
       "  <tbody>\n",
       "    <tr>\n",
       "      <th>0</th>\n",
       "      <td>2020</td>\n",
       "      <td>1</td>\n",
       "      <td>5</td>\n",
       "      <td>Antioquia</td>\n",
       "      <td>0</td>\n",
       "      <td>0.000000</td>\n",
       "      <td>59.958744</td>\n",
       "      <td>40.041256</td>\n",
       "      <td>14.603990</td>\n",
       "      <td>51.202374</td>\n",
       "      <td>0</td>\n",
       "    </tr>\n",
       "    <tr>\n",
       "      <th>1</th>\n",
       "      <td>2020</td>\n",
       "      <td>2</td>\n",
       "      <td>5</td>\n",
       "      <td>Antioquia</td>\n",
       "      <td>0</td>\n",
       "      <td>0.000000</td>\n",
       "      <td>61.424278</td>\n",
       "      <td>38.575722</td>\n",
       "      <td>12.747436</td>\n",
       "      <td>53.594257</td>\n",
       "      <td>0</td>\n",
       "    </tr>\n",
       "    <tr>\n",
       "      <th>2</th>\n",
       "      <td>2020</td>\n",
       "      <td>3</td>\n",
       "      <td>5</td>\n",
       "      <td>Antioquia</td>\n",
       "      <td>102</td>\n",
       "      <td>0.021568</td>\n",
       "      <td>57.904770</td>\n",
       "      <td>42.095230</td>\n",
       "      <td>14.279778</td>\n",
       "      <td>49.636097</td>\n",
       "      <td>0</td>\n",
       "    </tr>\n",
       "    <tr>\n",
       "      <th>3</th>\n",
       "      <td>2020</td>\n",
       "      <td>4</td>\n",
       "      <td>5</td>\n",
       "      <td>Antioquia</td>\n",
       "      <td>348</td>\n",
       "      <td>0.071382</td>\n",
       "      <td>55.452789</td>\n",
       "      <td>44.547211</td>\n",
       "      <td>23.089958</td>\n",
       "      <td>42.648766</td>\n",
       "      <td>1</td>\n",
       "    </tr>\n",
       "    <tr>\n",
       "      <th>4</th>\n",
       "      <td>2020</td>\n",
       "      <td>5</td>\n",
       "      <td>5</td>\n",
       "      <td>Antioquia</td>\n",
       "      <td>723</td>\n",
       "      <td>0.138676</td>\n",
       "      <td>55.033058</td>\n",
       "      <td>44.966942</td>\n",
       "      <td>22.421679</td>\n",
       "      <td>42.693722</td>\n",
       "      <td>1</td>\n",
       "    </tr>\n",
       "  </tbody>\n",
       "</table>\n",
       "</div>"
      ],
      "text/plain": [
       "   year  mes  divipola_depto      depto  casos_covid  pop_covid        pea  \\\n",
       "0  2020    1               5  Antioquia            0   0.000000  59.958744   \n",
       "1  2020    2               5  Antioquia            0   0.000000  61.424278   \n",
       "2  2020    3               5  Antioquia          102   0.021568  57.904770   \n",
       "3  2020    4               5  Antioquia          348   0.071382  55.452789   \n",
       "4  2020    5               5  Antioquia          723   0.138676  55.033058   \n",
       "\n",
       "         pei       tdes       tocu  confinamiento  \n",
       "0  40.041256  14.603990  51.202374              0  \n",
       "1  38.575722  12.747436  53.594257              0  \n",
       "2  42.095230  14.279778  49.636097              0  \n",
       "3  44.547211  23.089958  42.648766              1  \n",
       "4  44.966942  22.421679  42.693722              1  "
      ]
     },
     "execution_count": 128,
     "metadata": {},
     "output_type": "execute_result"
    }
   ],
   "source": [
    "#Importamos los datos en un Dataframe y le asignamos el nombre de covid_ml\n",
    "os.chdir(\"C:/Users/paul.rodriguez/Downloads/MOOC_Analitica_datos-main/MOOC_Analitica_datos-main/Modulo_2/Data\")\n",
    "covid_ml = pd.read_csv('COVID_ML_2020.csv', encoding='UTF-8')\n",
    "covid_ml.head()"
   ]
  },
  {
   "cell_type": "code",
   "execution_count": 129,
   "id": "1d84f1c9",
   "metadata": {},
   "outputs": [
    {
     "data": {
      "text/html": [
       "<div>\n",
       "<style scoped>\n",
       "    .dataframe tbody tr th:only-of-type {\n",
       "        vertical-align: middle;\n",
       "    }\n",
       "\n",
       "    .dataframe tbody tr th {\n",
       "        vertical-align: top;\n",
       "    }\n",
       "\n",
       "    .dataframe thead th {\n",
       "        text-align: right;\n",
       "    }\n",
       "</style>\n",
       "<table border=\"1\" class=\"dataframe\">\n",
       "  <thead>\n",
       "    <tr style=\"text-align: right;\">\n",
       "      <th></th>\n",
       "      <th>year</th>\n",
       "      <th>mes</th>\n",
       "      <th>divipola_depto</th>\n",
       "      <th>depto</th>\n",
       "      <th>casos_covid</th>\n",
       "      <th>pop_covid</th>\n",
       "      <th>pea</th>\n",
       "      <th>pei</th>\n",
       "      <th>tdes</th>\n",
       "      <th>tocu</th>\n",
       "      <th>confinamiento</th>\n",
       "    </tr>\n",
       "  </thead>\n",
       "  <tbody>\n",
       "    <tr>\n",
       "      <th>0</th>\n",
       "      <td>2020</td>\n",
       "      <td>1</td>\n",
       "      <td>5</td>\n",
       "      <td>Antioquia</td>\n",
       "      <td>0.000</td>\n",
       "      <td>0.000000</td>\n",
       "      <td>59.958744</td>\n",
       "      <td>40.041256</td>\n",
       "      <td>14.603990</td>\n",
       "      <td>51.202374</td>\n",
       "      <td>0</td>\n",
       "    </tr>\n",
       "    <tr>\n",
       "      <th>1</th>\n",
       "      <td>2020</td>\n",
       "      <td>2</td>\n",
       "      <td>5</td>\n",
       "      <td>Antioquia</td>\n",
       "      <td>0.000</td>\n",
       "      <td>0.000000</td>\n",
       "      <td>61.424278</td>\n",
       "      <td>38.575722</td>\n",
       "      <td>12.747436</td>\n",
       "      <td>53.594257</td>\n",
       "      <td>0</td>\n",
       "    </tr>\n",
       "    <tr>\n",
       "      <th>2</th>\n",
       "      <td>2020</td>\n",
       "      <td>3</td>\n",
       "      <td>5</td>\n",
       "      <td>Antioquia</td>\n",
       "      <td>0.102</td>\n",
       "      <td>0.021568</td>\n",
       "      <td>57.904770</td>\n",
       "      <td>42.095230</td>\n",
       "      <td>14.279778</td>\n",
       "      <td>49.636097</td>\n",
       "      <td>0</td>\n",
       "    </tr>\n",
       "    <tr>\n",
       "      <th>3</th>\n",
       "      <td>2020</td>\n",
       "      <td>4</td>\n",
       "      <td>5</td>\n",
       "      <td>Antioquia</td>\n",
       "      <td>0.348</td>\n",
       "      <td>0.071382</td>\n",
       "      <td>55.452789</td>\n",
       "      <td>44.547211</td>\n",
       "      <td>23.089958</td>\n",
       "      <td>42.648766</td>\n",
       "      <td>1</td>\n",
       "    </tr>\n",
       "    <tr>\n",
       "      <th>4</th>\n",
       "      <td>2020</td>\n",
       "      <td>5</td>\n",
       "      <td>5</td>\n",
       "      <td>Antioquia</td>\n",
       "      <td>0.723</td>\n",
       "      <td>0.138676</td>\n",
       "      <td>55.033058</td>\n",
       "      <td>44.966942</td>\n",
       "      <td>22.421679</td>\n",
       "      <td>42.693722</td>\n",
       "      <td>1</td>\n",
       "    </tr>\n",
       "  </tbody>\n",
       "</table>\n",
       "</div>"
      ],
      "text/plain": [
       "   year  mes  divipola_depto      depto  casos_covid  pop_covid        pea  \\\n",
       "0  2020    1               5  Antioquia        0.000   0.000000  59.958744   \n",
       "1  2020    2               5  Antioquia        0.000   0.000000  61.424278   \n",
       "2  2020    3               5  Antioquia        0.102   0.021568  57.904770   \n",
       "3  2020    4               5  Antioquia        0.348   0.071382  55.452789   \n",
       "4  2020    5               5  Antioquia        0.723   0.138676  55.033058   \n",
       "\n",
       "         pei       tdes       tocu  confinamiento  \n",
       "0  40.041256  14.603990  51.202374              0  \n",
       "1  38.575722  12.747436  53.594257              0  \n",
       "2  42.095230  14.279778  49.636097              0  \n",
       "3  44.547211  23.089958  42.648766              1  \n",
       "4  44.966942  22.421679  42.693722              1  "
      ]
     },
     "execution_count": 129,
     "metadata": {},
     "output_type": "execute_result"
    }
   ],
   "source": [
    "covid_ml['casos_covid']=covid_ml['casos_covid']/1000\n",
    "covid_ml.head()"
   ]
  },
  {
   "cell_type": "code",
   "execution_count": 130,
   "id": "fec98309",
   "metadata": {
    "scrolled": true
   },
   "outputs": [
    {
     "name": "stdout",
     "output_type": "stream",
     "text": [
      "<class 'pandas.core.frame.DataFrame'>\n",
      "RangeIndex: 396 entries, 0 to 395\n",
      "Data columns (total 11 columns):\n",
      " #   Column          Non-Null Count  Dtype  \n",
      "---  ------          --------------  -----  \n",
      " 0   year            396 non-null    int64  \n",
      " 1   mes             396 non-null    int64  \n",
      " 2   divipola_depto  396 non-null    int64  \n",
      " 3   depto           396 non-null    object \n",
      " 4   casos_covid     396 non-null    float64\n",
      " 5   pop_covid       396 non-null    float64\n",
      " 6   pea             396 non-null    float64\n",
      " 7   pei             396 non-null    float64\n",
      " 8   tdes            396 non-null    float64\n",
      " 9   tocu            396 non-null    float64\n",
      " 10  confinamiento   396 non-null    int64  \n",
      "dtypes: float64(6), int64(4), object(1)\n",
      "memory usage: 34.2+ KB\n"
     ]
    }
   ],
   "source": [
    "#Vemos si hay valores faltantes en la las variables del Dataframe y el tipo de datos\n",
    "covid_ml.info()"
   ]
  },
  {
   "cell_type": "code",
   "execution_count": 131,
   "id": "d6c70703",
   "metadata": {},
   "outputs": [
    {
     "data": {
      "text/html": [
       "<div>\n",
       "<style scoped>\n",
       "    .dataframe tbody tr th:only-of-type {\n",
       "        vertical-align: middle;\n",
       "    }\n",
       "\n",
       "    .dataframe tbody tr th {\n",
       "        vertical-align: top;\n",
       "    }\n",
       "\n",
       "    .dataframe thead th {\n",
       "        text-align: right;\n",
       "    }\n",
       "</style>\n",
       "<table border=\"1\" class=\"dataframe\">\n",
       "  <thead>\n",
       "    <tr style=\"text-align: right;\">\n",
       "      <th></th>\n",
       "      <th>year</th>\n",
       "      <th>mes</th>\n",
       "      <th>divipola_depto</th>\n",
       "      <th>casos_covid</th>\n",
       "      <th>pop_covid</th>\n",
       "      <th>pea</th>\n",
       "      <th>pei</th>\n",
       "      <th>tdes</th>\n",
       "      <th>tocu</th>\n",
       "      <th>confinamiento</th>\n",
       "    </tr>\n",
       "  </thead>\n",
       "  <tbody>\n",
       "    <tr>\n",
       "      <th>count</th>\n",
       "      <td>396.0</td>\n",
       "      <td>396.000000</td>\n",
       "      <td>396.000000</td>\n",
       "      <td>396.000000</td>\n",
       "      <td>396.000000</td>\n",
       "      <td>396.000000</td>\n",
       "      <td>396.000000</td>\n",
       "      <td>396.000000</td>\n",
       "      <td>396.000000</td>\n",
       "      <td>396.000000</td>\n",
       "    </tr>\n",
       "    <tr>\n",
       "      <th>mean</th>\n",
       "      <td>2020.0</td>\n",
       "      <td>6.500000</td>\n",
       "      <td>52.151515</td>\n",
       "      <td>4.309780</td>\n",
       "      <td>4.281499</td>\n",
       "      <td>58.842408</td>\n",
       "      <td>41.157592</td>\n",
       "      <td>17.603612</td>\n",
       "      <td>48.597218</td>\n",
       "      <td>0.416667</td>\n",
       "    </tr>\n",
       "    <tr>\n",
       "      <th>std</th>\n",
       "      <td>0.0</td>\n",
       "      <td>3.456419</td>\n",
       "      <td>30.829663</td>\n",
       "      <td>11.690158</td>\n",
       "      <td>8.029432</td>\n",
       "      <td>8.794423</td>\n",
       "      <td>8.794423</td>\n",
       "      <td>7.734154</td>\n",
       "      <td>9.108379</td>\n",
       "      <td>0.493630</td>\n",
       "    </tr>\n",
       "    <tr>\n",
       "      <th>min</th>\n",
       "      <td>2020.0</td>\n",
       "      <td>1.000000</td>\n",
       "      <td>5.000000</td>\n",
       "      <td>0.000000</td>\n",
       "      <td>0.000000</td>\n",
       "      <td>31.256144</td>\n",
       "      <td>8.822304</td>\n",
       "      <td>0.412201</td>\n",
       "      <td>18.734028</td>\n",
       "      <td>0.000000</td>\n",
       "    </tr>\n",
       "    <tr>\n",
       "      <th>25%</th>\n",
       "      <td>2020.0</td>\n",
       "      <td>3.750000</td>\n",
       "      <td>20.000000</td>\n",
       "      <td>0.008000</td>\n",
       "      <td>0.012166</td>\n",
       "      <td>54.782091</td>\n",
       "      <td>36.425856</td>\n",
       "      <td>11.968984</td>\n",
       "      <td>42.690769</td>\n",
       "      <td>0.000000</td>\n",
       "    </tr>\n",
       "    <tr>\n",
       "      <th>50%</th>\n",
       "      <td>2020.0</td>\n",
       "      <td>6.500000</td>\n",
       "      <td>52.000000</td>\n",
       "      <td>0.293500</td>\n",
       "      <td>1.314615</td>\n",
       "      <td>58.724424</td>\n",
       "      <td>41.275576</td>\n",
       "      <td>15.875674</td>\n",
       "      <td>48.275568</td>\n",
       "      <td>0.000000</td>\n",
       "    </tr>\n",
       "    <tr>\n",
       "      <th>75%</th>\n",
       "      <td>2020.0</td>\n",
       "      <td>9.250000</td>\n",
       "      <td>81.000000</td>\n",
       "      <td>3.712500</td>\n",
       "      <td>5.518914</td>\n",
       "      <td>63.574144</td>\n",
       "      <td>45.217909</td>\n",
       "      <td>22.336606</td>\n",
       "      <td>54.237170</td>\n",
       "      <td>1.000000</td>\n",
       "    </tr>\n",
       "    <tr>\n",
       "      <th>max</th>\n",
       "      <td>2020.0</td>\n",
       "      <td>12.000000</td>\n",
       "      <td>99.000000</td>\n",
       "      <td>112.363000</td>\n",
       "      <td>66.046509</td>\n",
       "      <td>91.177696</td>\n",
       "      <td>68.743858</td>\n",
       "      <td>43.322475</td>\n",
       "      <td>77.708069</td>\n",
       "      <td>1.000000</td>\n",
       "    </tr>\n",
       "  </tbody>\n",
       "</table>\n",
       "</div>"
      ],
      "text/plain": [
       "         year         mes  divipola_depto  casos_covid   pop_covid  \\\n",
       "count   396.0  396.000000      396.000000   396.000000  396.000000   \n",
       "mean   2020.0    6.500000       52.151515     4.309780    4.281499   \n",
       "std       0.0    3.456419       30.829663    11.690158    8.029432   \n",
       "min    2020.0    1.000000        5.000000     0.000000    0.000000   \n",
       "25%    2020.0    3.750000       20.000000     0.008000    0.012166   \n",
       "50%    2020.0    6.500000       52.000000     0.293500    1.314615   \n",
       "75%    2020.0    9.250000       81.000000     3.712500    5.518914   \n",
       "max    2020.0   12.000000       99.000000   112.363000   66.046509   \n",
       "\n",
       "              pea         pei        tdes        tocu  confinamiento  \n",
       "count  396.000000  396.000000  396.000000  396.000000     396.000000  \n",
       "mean    58.842408   41.157592   17.603612   48.597218       0.416667  \n",
       "std      8.794423    8.794423    7.734154    9.108379       0.493630  \n",
       "min     31.256144    8.822304    0.412201   18.734028       0.000000  \n",
       "25%     54.782091   36.425856   11.968984   42.690769       0.000000  \n",
       "50%     58.724424   41.275576   15.875674   48.275568       0.000000  \n",
       "75%     63.574144   45.217909   22.336606   54.237170       1.000000  \n",
       "max     91.177696   68.743858   43.322475   77.708069       1.000000  "
      ]
     },
     "execution_count": 131,
     "metadata": {},
     "output_type": "execute_result"
    }
   ],
   "source": [
    "#Generamos estadísticas descriptivas básicas\n",
    "covid_ml.describe()"
   ]
  },
  {
   "cell_type": "markdown",
   "id": "ce84e9d7",
   "metadata": {},
   "source": [
    "#### Calculamos el coeficiente de correlación"
   ]
  },
  {
   "cell_type": "code",
   "execution_count": 133,
   "id": "8cf30a18",
   "metadata": {},
   "outputs": [
    {
     "name": "stdout",
     "output_type": "stream",
     "text": [
      "El coeficiente de correlación entre los casos de Covid-19 (miles) y la tasa de desempleo es -0.02633587598942238\n"
     ]
    }
   ],
   "source": [
    "#Calculamos el coeficiente de correlacion entre la tasa de desempleo y el número de casos positivos de Covid-19.\n",
    "coef_corr, _ = pearsonr(covid_ml['casos_covid'], covid_ml['tdes'])\n",
    "print('El coeficiente de correlación entre los casos de Covid-19 (miles) y la tasa de desempleo es', coef_corr)"
   ]
  },
  {
   "cell_type": "code",
   "execution_count": 134,
   "id": "9845b8ae",
   "metadata": {},
   "outputs": [
    {
     "data": {
      "image/png": "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\n",
      "text/plain": [
       "<Figure size 432x288 with 1 Axes>"
      ]
     },
     "metadata": {
      "needs_background": "light"
     },
     "output_type": "display_data"
    }
   ],
   "source": [
    "#Veamos la información en un gráfico de dispersión\n",
    "plt.scatter(covid_ml['casos_covid'], covid_ml['tdes'], marker='o', color='red')\n",
    "plt.text(60, 39, f'coeficiente de correlación = {coef_corr:.4f}', fontsize=10)\n",
    "plt.title('Gráfico de dispersión')\n",
    "plt.ylabel('Tasa de desempleo (%)')\n",
    "plt.xlabel('Casos de Covid-19 (miles)')\n",
    "plt.grid(False)\n",
    "plt.show()"
   ]
  },
  {
   "cell_type": "code",
   "execution_count": 135,
   "id": "a1f8fed2",
   "metadata": {},
   "outputs": [
    {
     "data": {
      "image/png": "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\n",
      "text/plain": [
       "<Figure size 432x288 with 1 Axes>"
      ]
     },
     "metadata": {
      "needs_background": "light"
     },
     "output_type": "display_data"
    }
   ],
   "source": [
    "#¿Qué tal si utilizamosotra medida de contagio?\n",
    "coef_corr, _ = pearsonr(covid_ml['pop_covid'], covid_ml['tdes'])\n",
    "plt.scatter(covid_ml['pop_covid'], covid_ml['tdes'], marker='o', color='red')\n",
    "plt.text(100, 39, f'coeficiente de correlación = {coef_corr:.4f}', fontsize=10)\n",
    "plt.title('Gráfico de dispersión')\n",
    "plt.ylabel('Tasa de desempleo (%)')\n",
    "plt.xlabel('Proproción de la población contagiada')\n",
    "plt.grid(False)\n",
    "plt.show()"
   ]
  },
  {
   "cell_type": "code",
   "execution_count": 136,
   "id": "9ed301c9",
   "metadata": {},
   "outputs": [
    {
     "name": "stdout",
     "output_type": "stream",
     "text": [
      "                            OLS Regression Results                            \n",
      "==============================================================================\n",
      "Dep. Variable:                   tdes   R-squared:                       0.005\n",
      "Model:                            OLS   Adj. R-squared:                  0.002\n",
      "Method:                 Least Squares   F-statistic:                     1.923\n",
      "Date:                Tue, 27 Jun 2023   Prob (F-statistic):              0.166\n",
      "Time:                        12:45:58   Log-Likelihood:                -1370.5\n",
      "No. Observations:                 396   AIC:                             2745.\n",
      "Df Residuals:                     394   BIC:                             2753.\n",
      "Df Model:                           1                                         \n",
      "Covariance Type:            nonrobust                                         \n",
      "==============================================================================\n",
      "                 coef    std err          t      P>|t|      [0.025      0.975]\n",
      "------------------------------------------------------------------------------\n",
      "Intercept     17.3162      0.440     39.349      0.000      16.451      18.181\n",
      "pop_covid      0.0671      0.048      1.387      0.166      -0.028       0.162\n",
      "==============================================================================\n",
      "Omnibus:                       53.160   Durbin-Watson:                   0.627\n",
      "Prob(Omnibus):                  0.000   Jarque-Bera (JB):               72.055\n",
      "Skew:                           0.946   Prob(JB):                     2.26e-16\n",
      "Kurtosis:                       3.889   Cond. No.                         10.3\n",
      "==============================================================================\n",
      "\n",
      "Notes:\n",
      "[1] Standard Errors assume that the covariance matrix of the errors is correctly specified.\n"
     ]
    }
   ],
   "source": [
    "#Realizamos la reagresión lineal simple\n",
    "modelo = smf.ols(formula = 'tdes ~ pop_covid', data = covid_ml) #Se realiza la regresion lineal\n",
    "result = modelo.fit()\n",
    "\n",
    "#Se graban los coeficientes\n",
    "intercept_mod = list(result.params)[0] #El intercepto\n",
    "beta_mod = list(result.params)[1] #La pendiente\n",
    "\n",
    "#Se graba el R2 y los valores ajustados de la regresion\n",
    "R2_mod = result.rsquared #El R2\n",
    "TD_hat = result.fittedvalues #La prediccion del modelo\n",
    "\n",
    "#Se imprimen los resultados\n",
    "print(result.summary())"
   ]
  },
  {
   "cell_type": "code",
   "execution_count": 138,
   "id": "dfbe5674",
   "metadata": {
    "scrolled": true
   },
   "outputs": [
    {
     "name": "stdout",
     "output_type": "stream",
     "text": [
      "Modelo: Tasa de desempleo vs Casos positivos de Covid-19\n",
      "TD = 17.316+0.0671217 VC\n",
      "R2 = 0.00486\n"
     ]
    }
   ],
   "source": [
    "print('Modelo: Tasa de desempleo vs Casos positivos de Covid-19')\n",
    "print(f'TD = {intercept_mod:5.3f}+{beta_mod:.7f} VC')\n",
    "print(f'R2 = {R2_mod:.5f}')"
   ]
  },
  {
   "cell_type": "markdown",
   "id": "95c10ab6",
   "metadata": {},
   "source": [
    "El ajuste tambien se puede ver en viendo la relación que hay entre los valores predichos por el modelo $(\\hat{TD})$ y los observados $(TD)$ de la variable dependiente. Si el modelo tiene ben ajuste, los datos de concentrarían al rededor de la linea de ajuste."
   ]
  },
  {
   "cell_type": "code",
   "execution_count": 139,
   "id": "41be5b3c",
   "metadata": {},
   "outputs": [
    {
     "data": {
      "image/png": "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\n",
      "text/plain": [
       "<Figure size 432x288 with 1 Axes>"
      ]
     },
     "metadata": {
      "needs_background": "light"
     },
     "output_type": "display_data"
    }
   ],
   "source": [
    "#Se calcula una linea de ajuste\n",
    "fit = np.polyfit(TD_hat,covid_ml['tdes'], 1)\n",
    "fit_line = fit[1] + fit[0] * TD_hat\n",
    "\n",
    "#Se calcula el R cuadrado para ver el ajuste de los datos predichos ocn los observados\n",
    "\n",
    "#Se generla el grafico\n",
    "plt.scatter(TD_hat, covid_ml['tdes'], marker = \"o\", color = 'k', label=\"Observado\") \n",
    "plt.plot(TD_hat, fit_line, 'r', label=\"Ajuste\") \n",
    "plt.text(s=f'$R^2$ = {R2_mod:.3f}', x=15.75, y=35, fontsize=10) \n",
    "plt.title('Modelo de regresión simple')\n",
    "plt.ylabel('TD observada'), plt.xlabel('TD predicha')\n",
    "plt.legend()\n",
    "plt.show()"
   ]
  },
  {
   "cell_type": "markdown",
   "id": "9e66389d",
   "metadata": {},
   "source": [
    "### 1.2 Regresión lineal multiple\n",
    "\n",
    "Se estimará el siguiente modelo con los datos del total de casos positivos de Covid-19 e indicadores del mercado laboral:\n",
    "$$TD_{it}= \\beta_{0} + \\beta_{1} CV_{it} + \\beta_{2}1(CV_{it}>0) + \\beta_{3}C_{i}  + \\varepsilon_{it}$$ \n",
    "\n",
    "donde $TD_{it}$ representa la tasa de desempleo en el departamento $i$ y el mes $t$; $CV_{it}$ con la proporción de personas contagiadas con covid, igualmente en el departamento $i$ y el mes $t$; pero ahora está una variable dummy $(C_{i})$ que toma el valos de $1$ en los meses que hubo confinamiento y el valor de $0$ en otro caso; la variable dummy $1(CV_{it}>0)$ que toma el varlor de uno si hubo al menos un caso positivo; $\\varepsilon_{it}$, es el término error."
   ]
  },
  {
   "cell_type": "code",
   "execution_count": 140,
   "id": "2f1bd45f",
   "metadata": {},
   "outputs": [
    {
     "name": "stdout",
     "output_type": "stream",
     "text": [
      "                            OLS Regression Results                            \n",
      "==============================================================================\n",
      "Dep. Variable:                   tdes   R-squared:                       0.107\n",
      "Model:                            OLS   Adj. R-squared:                  0.100\n",
      "Method:                 Least Squares   F-statistic:                     15.69\n",
      "Date:                Tue, 27 Jun 2023   Prob (F-statistic):           1.18e-09\n",
      "Time:                        12:48:19   Log-Likelihood:                -1349.0\n",
      "No. Observations:                 396   AIC:                             2706.\n",
      "Df Residuals:                     392   BIC:                             2722.\n",
      "Df Model:                           3                                         \n",
      "Covariance Type:            nonrobust                                         \n",
      "=================================================================================\n",
      "                    coef    std err          t      P>|t|      [0.025      0.975]\n",
      "---------------------------------------------------------------------------------\n",
      "Intercept        16.6452      0.809     20.576      0.000      15.055      18.236\n",
      "pos[T.True]      -2.3509      1.016     -2.313      0.021      -4.349      -0.353\n",
      "pop_covid         0.1298      0.049      2.660      0.008       0.034       0.226\n",
      "confinamiento     5.4261      0.810      6.700      0.000       3.834       7.018\n",
      "==============================================================================\n",
      "Omnibus:                       45.472   Durbin-Watson:                   0.696\n",
      "Prob(Omnibus):                  0.000   Jarque-Bera (JB):               64.839\n",
      "Skew:                           0.782   Prob(JB):                     8.33e-15\n",
      "Kurtosis:                       4.219   Cond. No.                         30.7\n",
      "==============================================================================\n",
      "\n",
      "Notes:\n",
      "[1] Standard Errors assume that the covariance matrix of the errors is correctly specified.\n"
     ]
    }
   ],
   "source": [
    "#Realizamos la reagresión lineal multiple\n",
    "covid_ml['pos']=covid_ml['pop_covid']>0\n",
    "modelo_mult = smf.ols(formula = 'tdes ~ pop_covid + pos + confinamiento', data = covid_ml) #Se realiza la regresion lineal\n",
    "result_mult = modelo_mult.fit()\n",
    "\n",
    "#Se graban los coeficientes\n",
    "beta_0 = list(result_mult.params)[0]\n",
    "beta_1 = list(result_mult.params)[1]\n",
    "beta_2 = list(result_mult.params)[2]\n",
    "beta_3 = list(result_mult.params)[3]\n",
    "\n",
    "#Se graba el R2 y los valores ajustados de la regresion\n",
    "R2_mult = result_mult.rsquared #El R2\n",
    "TD_hat_mult = result_mult.fittedvalues #La prediccion del modelo\n",
    "\n",
    "#Se imprimen los resultados\n",
    "print(result_mult.summary())"
   ]
  },
  {
   "cell_type": "markdown",
   "id": "4db129f3",
   "metadata": {},
   "source": [
    "El modelo con la variable dummy de confinamiento tienen un $R^2$ más alto $(0.100)$ que el modelo de la regresión simple. Estoy indica que, aunque muy bajo, el segundo modelo tienen mejor ajuste que el primero."
   ]
  },
  {
   "cell_type": "code",
   "execution_count": 143,
   "id": "7491e083",
   "metadata": {
    "scrolled": false
   },
   "outputs": [
    {
     "name": "stdout",
     "output_type": "stream",
     "text": [
      "Modelo 2: Tasa de desempleo vs Proporción con casos positivos de Covid-19\n",
      " E[TD|X] = 16.645 +0.1297866 VC  -2.3509 1(CV>0) + 5.4261C \n",
      "R2 = 0.107\n"
     ]
    }
   ],
   "source": [
    "print('Modelo 2: Tasa de desempleo vs Proporción con casos positivos de Covid-19')\n",
    "print(f' E[TD|X] = {beta_0:5.3f} +{beta_2:.7f} VC  {beta_1:5.4f} 1(CV>0) + {beta_3:5.4f}C ' )\n",
    "print(f'R2 = {R2_mult:.3f}')"
   ]
  },
  {
   "cell_type": "markdown",
   "id": "7b815136",
   "metadata": {},
   "source": [
    "* **¿Cúal es la interpretación de cofeciciete de la variable CV y de la variable V?**\n",
    "* **¿Cómo se interpreta el $R^2$?**"
   ]
  }
 ],
 "metadata": {
  "kernelspec": {
   "display_name": "Python 3 (ipykernel)",
   "language": "python",
   "name": "python3"
  },
  "language_info": {
   "codemirror_mode": {
    "name": "ipython",
    "version": 3
   },
   "file_extension": ".py",
   "mimetype": "text/x-python",
   "name": "python",
   "nbconvert_exporter": "python",
   "pygments_lexer": "ipython3",
   "version": "3.9.7"
  }
 },
 "nbformat": 4,
 "nbformat_minor": 5
}
