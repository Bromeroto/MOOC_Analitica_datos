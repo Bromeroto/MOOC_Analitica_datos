{
 "cells": [
  {
   "cell_type": "markdown",
   "id": "704dc19f",
   "metadata": {},
   "source": [
    "# Ejemplo 2: Modelos de regresión\n",
    "\n",
    "\n",
    "### Datos que se utilizan en el ejemplo\n",
    "\n",
    "Se utilizan los datos del total de casos positivos de Covid-19 e indicadores del mercado laboral provenientes de la **Gran Encuesta Integrada de Hogares (GEIH)** del [DANE](https://www.dane.gov.co/index.php/estadisticas-por-tema/mercado-laboral/empleo-y-desempleo/geih-historicos) de frecuencia mensual. \n",
    "    \n",
    "##### Diccionario de las variables\n",
    "\n",
    "* **year:** Año.\n",
    "* **mes:** Mes.\n",
    "* **divipola_depto:** Código divipola del departamento.\n",
    "* **depto:** Nombre del departamento.\n",
    "* **casos_covid:** Número de casos positivos de Covid-19.\n",
    "* **pop_covid:** Proporción de la población del departamento que se con casos positivos de Covid-19.\n",
    "* **pea:** Población economicamente activa.\n",
    "* **pei:** Población economicamente inactiva.\n",
    "* **tdes:** Tasa de desempleo.\n",
    "* **tocu:** Tasa de ocupacion.\n",
    "* **Confinamiento:** Toma el valor de 1 en los meses que hubo confinamiento nacional, 0 en otro caso.\n",
    "    \n"
   ]
  },
  {
   "attachments": {},
   "cell_type": "markdown",
   "id": "c1f307a7",
   "metadata": {},
   "source": [
    "## 1. Regresión lineal\n",
    "\n",
    "La regresión lineal es un modelo estadístico de una media condicional; es decir, una forma de predecir el valor aproximado que debería tener una variable de interés $(Y)$ teniendo en cuenta el valor de las otras varianbles $(X_i)$. Se llama regresión lineal simple cuando solo hay una variable independiente y regresión lineal múltiple cuando hay más de una.\n",
    "\n",
    "El [modelo de regresión lineal](https://www.cienciadedatos.net/documentos/py10-regresion-lineal-python) considera que, dado un conjunto de observaciones $\\{ y_{i}, x_{i1}, x_{i2}, \\dots , x_{nk} \\}^{n}_{i=1}$, la media de la variable dependiente ,$y_{i}$, se relaciona de forma lineal con las variables dependiente o regresoras $x_{1}, \\dots , x_{p}$.\n",
    "\n",
    "$$y_{i} = \\beta_{0} +  \\beta_{1}x_{1} + \\beta_{2}x_{2} + \\dots + \\beta_{k}x_{k} + \\epsilon_{i}$$\n",
    "\n",
    "La interpretaicíon de los coeficientes $(\\beta_{0}, \\dots, \\beta_{k})$ del modelo es la misma: \n",
    "* $\\beta_{0}:$ es el promedio de la variable dependiente $(y)$ manteniendo las variables dependientes $(x_{1}, \\dots, x_{k})$ constantes. Este coeficiente se conoce como intercepto.\n",
    "* $\\beta_{k}:$ son los efectos promedios que tiene la variable dependiente $(y)$ cuando incrementa una unidad de la variable dependiente $(x_{k})$. Estos coeficientes de conocen como efecto marginal o coeficientes parciales.\n",
    "* $\\epsilon_{i}:$ se conoce como residuo o término error, y es la diferencia entre el valor observado de variable dependiente $(y_{i})$ y su valor predicho $(\\hat{y}_{i})$ por el modelo. El error representa la parte de la variación que no puede ser explicada por las variables independientes incluidas en el modelo.\n",
    "\n",
    "Como los valores poblacionales de los coeficientes de la regresión $(\\beta_{0}, \\dots, \\beta_{k})$ son desconocidos, se estiman a partir de una muestra de datos $(\\hat{\\beta}_{0}, \\dots, \\hat{\\beta}_{k})$. La magnitud de los coeficientes parciales de regresión no está relacionada con la importancia de cada variable dependiente, ya que esta magnitud puede variar según las unidades de medida de las variables correspondientes.\n",
    "\n",
    "El método comúnmente empleado para realizar las estimaciones de los coeficientes es el de ***Mínimos Cuadrados Ordinarios (MCO)***, cuyo objetivo es encontrar los valores de los coeficientes de regresión que minimizan la suma de los cuadrados de las diferencias entre los valores observados y los valores predichos por el modelo.\n",
    "\n",
    "<div>\n",
    "<img src=\"Imagen/Regresion_Lineal.png\" width=\"450\"/> |\n",
    "</div>\n",
    "\n",
    "\n",
    "### Coeficiente de determinación $R^{2}$\n",
    "\n",
    "El coeficiente de determinación $(R^2)$ indica la proporción de la variabilidad total de la variable dependiente que puede ser explicada por el modelo. Es una de las métricas más usadas para medir la calidad del ajuste del modelo, y un $R^2$ más cercano a 1 indica un mejor ajuste del modelo.\n",
    "\n",
    "$$R^{2} = 1- \\frac{Suma \\space{} de \\space{} Cuadrados \\space{} Residuales}{Suma \\space{} de \\space{} Cuadrados \\space{} Totales}$$\n",
    "\n",
    "$$R^{2} = 1- \\frac{\\sum_{i=1}^{n}(\\hat{y}_{i}-y_{i})^{2}}{\\sum_{i=1}^{n}(y_{i}-\\overline{y}_{i})^{2}}$$\n",
    "\n",
    "En los modelos de regresión lineal simple, el coeficiente de determinación $(R^2)$ se corresponde con el cuadrado del coeficiente de correlación de Pearson $(\\rho)$ de la variable independiente $(x_{i})$ y la variable dependiente $(y_{i})$. Sin embargo, en los modelos de regresión múltiple, esta relación entre $R^2$ y $\\rho$ no se mantiene.\n",
    "\n",
    "<div>\n",
    "    <img src=\"Imagen/Regresion_Lineal_R2_MOD1.png\" width=\"350\"/> \n",
    "    <img src=\"Imagen/Regresion_Lineal_R2_MOD2.png\" width=\"350\"/>\n",
    "    <img src=\"Imagen/Regresion_Lineal_R2_MOD3.png\" width=\"350\"/>\n",
    "</div>\n"
   ]
  },
  {
   "cell_type": "markdown",
   "id": "e779146a",
   "metadata": {},
   "source": [
    "<div>\n",
    "    <img src=\"Imagen/Regresion_Lineal_R2_MOD4.png\" width=\"370\"/>\n",
    "</div>"
   ]
  },
  {
   "attachments": {},
   "cell_type": "markdown",
   "id": "97db1980",
   "metadata": {},
   "source": [
    "### 1.1 Regresión lineal simple\n",
    "\n",
    "Se estimará el siguiente modelo con los datos del total de casos positivos de Covid-19 e indicadores del mercado laboral:\n",
    "$$TD_{it}= \\beta_{0} + \\beta_{1} CV_{it} + \\varepsilon_{it}$$ \n",
    "\n",
    "donde $TD_{it}$ representa la tasa de desempleo en el departamento $i$ y el mes $t$;$CV_{it}$ don los numeros de casos positivos de Covid-19, igualmente en el departamento $i$ y el mes $t$; $\\varepsilon_{it}$, es el término error."
   ]
  },
  {
   "cell_type": "code",
   "execution_count": 18,
   "id": "26815c51",
   "metadata": {},
   "outputs": [],
   "source": [
    "#Importamos las librerias que se utilizaran\n",
    "\n",
    "# 1. Libreria de manejos de DataFrame\n",
    "import numpy as np\n",
    "import pandas as pd\n",
    "\n",
    "#2. Libreria de graficas\n",
    "import matplotlib.pyplot as plt\n",
    "import seaborn as sns\n",
    "\n",
    "#3. Libreria de analisis estadistico\n",
    "import statsmodels.api as sm\n",
    "import statsmodels.formula.api as smf\n",
    "from scipy.stats import pearsonr\n"
   ]
  },
  {
   "cell_type": "code",
   "execution_count": 19,
   "id": "479b8440",
   "metadata": {
    "scrolled": true
   },
   "outputs": [],
   "source": [
    "#Importamos los datos en un Dataframe y le asignamos el nombre de covid_ml\n",
    "covid_ml = pd.read_csv('Data/COVID/COVID_ML_2020.csv', encoding='UTF-8')\n",
    "covid_ml.head()"
   ]
  },
  {
   "cell_type": "code",
   "execution_count": 20,
   "id": "483e20ed",
   "metadata": {
    "scrolled": true
   },
   "outputs": [],
   "source": [
    "#Vemos si hay valores faltantes en la las variables del Dataframe y el tipo de datos\n",
    "covid_ml.info()"
   ]
  },
  {
   "cell_type": "code",
   "execution_count": 21,
   "id": "be6e6ed7",
   "metadata": {},
   "outputs": [],
   "source": [
    "#Generamos estadísticas descriptivas básicas\n",
    "covid_ml.describe()"
   ]
  },
  {
   "cell_type": "markdown",
   "id": "aa1f9516",
   "metadata": {},
   "source": [
    "#### Calculamos el coeficiente de correlación"
   ]
  },
  {
   "cell_type": "code",
   "execution_count": 22,
   "id": "8cf30a18",
   "metadata": {},
   "outputs": [],
   "source": [
    "#Calculamos el coeficiente de correlacion entre la tasa de desempleo y el número de casos positivos de Covid-19.\n",
    "coef_corr, _ = pearsonr(covid_ml['casos_covid'], covid_ml['tdes'])\n",
    "print('El coeficiente de correlación entre los casos de Covid-19 y la tasa de desempleo es', coef_corr)"
   ]
  },
  {
   "cell_type": "code",
   "execution_count": 23,
   "id": "094d553e",
   "metadata": {},
   "outputs": [],
   "source": [
    "#Graficamos un grafico de dispersión para ver la relación entre las varables\n",
    "plt.scatter(covid_ml['casos_covid'], covid_ml['tdes'], marker='o', color='red')\n",
    "plt.text(60000, 39, f'coeficiente de correlación = {coef_corr:.4f}', fontsize=9)\n",
    "plt.title('Gráfico de dispersión')\n",
    "plt.ylabel('Tasa de desempleo (%)')\n",
    "plt.xlabel('Casos de Covid-19')\n",
    "plt.grid(False)\n",
    "plt.show()"
   ]
  },
  {
   "cell_type": "code",
   "execution_count": 24,
   "id": "59ece701",
   "metadata": {},
   "outputs": [],
   "source": [
    "#Realizamos la reagresión lineal simple\n",
    "modelo = smf.ols(formula = 'tdes ~ casos_covid', data = covid_ml) #Se realiza la regresion lineal\n",
    "result = modelo.fit()\n",
    "\n",
    "#Se graban los coeficientes\n",
    "intercept_mod = list(result.params)[0] #El intercepto\n",
    "beta_mod = list(result.params)[1] #La pendiente\n",
    "\n",
    "#Se graba el R2 y los valores ajustados de la regresion\n",
    "R2_mod = result.rsquared #El R2\n",
    "TD_hat = result.fittedvalues #La prediccion del modelo\n",
    "\n",
    "#Se imprimen los resultados\n",
    "print(result.summary())"
   ]
  },
  {
   "cell_type": "code",
   "execution_count": 25,
   "id": "1addac26",
   "metadata": {
    "scrolled": true
   },
   "outputs": [],
   "source": [
    "print('Modelo: Tasa de desempleo vs Casos positivos de Covid-19')\n",
    "print(f'TD = {intercept_mod:5.3f}{beta_mod:.7f} VC')\n",
    "print(f'R2 = {R2_mod:.3f}')"
   ]
  },
  {
   "cell_type": "markdown",
   "id": "ee54e518",
   "metadata": {},
   "source": [
    "**¿Tiene el modelo estimado buen ajuste?**\n",
    "\n",
    "## \n"
   ]
  },
  {
   "cell_type": "code",
   "execution_count": 26,
   "id": "c4af68df",
   "metadata": {},
   "outputs": [],
   "source": [
    "#Se le calcula la raíz cuadrada al R2\n",
    "coef_corr_mod = np.sqrt(R2_mod)\n",
    "print(coef_corr_mod)"
   ]
  },
  {
   "cell_type": "markdown",
   "id": "3297d1c2",
   "metadata": {},
   "source": [
    "Vemos que el la raíz cuadrada del $R^2$ es igual al valor absoluto del coeficiente de correlación entre las dos variables."
   ]
  },
  {
   "cell_type": "markdown",
   "id": "7b677e93",
   "metadata": {},
   "source": [
    "El ajuste tambien se puede ver en viendo la relación que hay entre los valores predichos por el modelo $(\\hat{TD})$ y los observados $(TD)$ de la variable dependiente. Si el modelo tiene ben ajuste, los datos de concentrarían al rededor de la linea de ajuste."
   ]
  },
  {
   "cell_type": "code",
   "execution_count": 27,
   "id": "bfb1d6a8",
   "metadata": {},
   "outputs": [],
   "source": [
    "#Se calcula una linea de ajuste\n",
    "fit = np.polyfit(TD_hat,covid_ml['tdes'], 1)\n",
    "fit_line = fit[1] + fit[0] * TD_hat\n",
    "\n",
    "#Se calcula el R cuadrado para ver el ajuste de los datos predichos ocn los observados\n",
    "\n",
    "#Se generla el grafico\n",
    "plt.scatter(TD_hat, covid_ml['tdes'], marker = \"o\", color = 'k', label=\"Observado\") \n",
    "plt.plot(TD_hat, fit_line, 'r', label=\"Ajuste\") \n",
    "plt.text(s=f'$R^2$ = {R2_mod:.3f}', x=15.75, y=35, fontsize=10) \n",
    "plt.title('Modelo de regresión simple')\n",
    "plt.ylabel('TD observada'), plt.xlabel('TD predicha')\n",
    "plt.legend()\n",
    "plt.show()"
   ]
  },
  {
   "cell_type": "markdown",
   "id": "4af78055",
   "metadata": {},
   "source": [
    "### 1.2 Regresión lineal multiple\n",
    "\n",
    "Se estimará el siguiente modelo con los datos del total de casos positivos de Covid-19 e indicadores del mercado laboral:\n",
    "$$TD_{it}= \\beta_{0} + \\beta_{1} CV_{it} + \\beta_{2}C_{i} \\varepsilon_{it}$$ \n",
    "\n",
    "donde $TD_{it}$ representa la tasa de desempleo en el departamento $i$ y el mes $t$;$CV_{it}$ don los numeros de casos positivos de Covid-19, igualmente en el departamento $i$ y el mes $t$;pero ahora está una variable dummy $(C_{i})$ que toma el valos de $1$ en los meses que hubo confinamiento y el valor de $0$ en otro caso; $\\varepsilon_{it}$, es el término error."
   ]
  },
  {
   "cell_type": "code",
   "execution_count": 28,
   "id": "9794ed1e",
   "metadata": {},
   "outputs": [],
   "source": [
    "#Realizamos la reagresión lineal multiple\n",
    "modelo_mult = smf.ols(formula = 'tdes ~ casos_covid + confinamiento', data = covid_ml) #Se realiza la regresion lineal\n",
    "result_mult = modelo_mult.fit()\n",
    "\n",
    "#Se graban los coeficientes\n",
    "beta_0 = list(result_mult.params)[0]\n",
    "beta_1 = list(result_mult.params)[1]\n",
    "beta_2 = list(result_mult.params)[2]\n",
    "\n",
    "#Se graba el R2 y los valores ajustados de la regresion\n",
    "R2_mult = result_mult.rsquared #El R2\n",
    "TD_hat_mult = result_mult.fittedvalues #La prediccion del modelo\n",
    "\n",
    "#Se imprimen los resultados\n",
    "print(result_mult.summary())"
   ]
  },
  {
   "cell_type": "markdown",
   "id": "d1df960d",
   "metadata": {},
   "source": [
    "El modelo con la variable dummy de confinamiento tienen un $R^2$ más alto $(0.086)$ que el modelo de la regresión simple. Estoy indica que, aunque muy bajo, el segundo modelo tienen mejor ajuste que el primero."
   ]
  },
  {
   "cell_type": "code",
   "execution_count": 29,
   "id": "e965b3d7",
   "metadata": {
    "scrolled": false
   },
   "outputs": [],
   "source": [
    "print('Modelo 2: Tasa de desempleo vs Casos positivos de Covid-19')\n",
    "print(f'TD = {beta_0:5.3f}{beta_1:.7f} VC + {beta_2:5.4f}C' )\n",
    "print(f'R2 = {R2_mult:.3f}')"
   ]
  },
  {
   "cell_type": "markdown",
   "id": "41e16ad3",
   "metadata": {},
   "source": [
    "* **¿Cúal es la interpretación de cofeciciete de la variable CV y de la variable V?**\n",
    "* **¿Cómo se interpreta el $R^2$?**"
   ]
  },
  {
   "cell_type": "markdown",
   "id": "db1d828c",
   "metadata": {},
   "source": [
    "### 1.3 Otro ejemplo"
   ]
  },
  {
   "cell_type": "markdown",
   "id": "a10d4243",
   "metadata": {},
   "source": [
    "Para dar una idea que la regresión busca mirar comparaciones condicional en lo que pasa con variable dependiente, se realizaran dos estimaciones, una donde la variable $D=1$, otra donde la variable $D=0$ y, por último, con toda la muestra. Los datos datos utilizados fueron simulados y generados a partir de una distribución normal. Siendo $Y$ la varieble independiente, $X$ y  $Z$ las variables dependiente y $D$ la variable Dummy.\n",
    "\n",
    "$$ Y_{i} = \\beta_{0} + \\beta_{1}X_{i} + \\varepsilon_{i}$$ "
   ]
  },
  {
   "cell_type": "code",
   "execution_count": 30,
   "id": "103b2076",
   "metadata": {},
   "outputs": [],
   "source": [
    "#Importamos los datos en un Dataframe y le asignamos el nombre de covid_ml\n",
    "sim_data = pd.read_csv('Data/SIM_DATA.csv', encoding='UTF-8', sep = ';', decimal=',')\n",
    "sim_data.head()"
   ]
  },
  {
   "cell_type": "code",
   "execution_count": 31,
   "id": "9edc0681",
   "metadata": {},
   "outputs": [],
   "source": [
    "#Regresión 1: (D =1)\n",
    "sim_data1 = sim_data[sim_data['D']==1]\n",
    "\n",
    "#Realizamos la reagresión lineal multiple\n",
    "modelo_1 = smf.ols(formula = 'Y ~ X', data = sim_data1) #Se realiza la regresion lineal\n",
    "result_1 = modelo_1.fit()\n",
    "\n",
    "#Se graban los coeficientes\n",
    "beta1_0 = list(result_1.params)[0]\n",
    "beta1_1 = list(result_1.params)[1]\n",
    "\n",
    "#Se imprimen los resultados\n",
    "print(result_1.summary())"
   ]
  },
  {
   "cell_type": "code",
   "execution_count": 32,
   "id": "4e438099",
   "metadata": {},
   "outputs": [],
   "source": [
    "#Regresión 2: (D =0)\n",
    "sim_data2 = sim_data[sim_data['D']==0]\n",
    "\n",
    "#Realizamos la reagresión lineal multiple\n",
    "modelo_2 = smf.ols(formula = 'Y ~ X', data = sim_data2) #Se realiza la regresion lineal\n",
    "result_2 = modelo_2.fit()\n",
    "\n",
    "#Se graban los coeficientes\n",
    "beta2_0 = list(result_2.params)[0]\n",
    "beta2_1 = list(result_2.params)[1]\n",
    "\n",
    "#Se imprimen los resultados\n",
    "print(result_2.summary())"
   ]
  },
  {
   "cell_type": "code",
   "execution_count": 36,
   "id": "098dd84d",
   "metadata": {},
   "outputs": [],
   "source": [
    "#Regresión 2: (toda la muestra)\n",
    "\n",
    "#Realizamos la reagresión lineal multiple\n",
    "modelo_3 = smf.ols(formula = 'Y ~ X', data = sim_data) #Se realiza la regresion lineal\n",
    "result_3 = modelo_3.fit()\n",
    "\n",
    "#Se graban los coeficientes\n",
    "beta3_0 = list(result_3.params)[0]\n",
    "beta3_1 = list(result_3.params)[1]\n",
    "\n",
    "#Se imprimen los resultados\n",
    "print(result_3.summary())"
   ]
  },
  {
   "cell_type": "markdown",
   "id": "db79384d",
   "metadata": {},
   "source": [
    "#### ¿Qué vemos de particular en estas tres regresiones?\n",
    "\n",
    "El coeficiente parcial de la regresión 3, en la que no se restringe la muestra, está entre el valor del coeficiente aprcial de la regresión 1 y el de la resgresión 2. "
   ]
  },
  {
   "cell_type": "code",
   "execution_count": 35,
   "id": "97349d02",
   "metadata": {},
   "outputs": [],
   "source": [
    "print(f'Coeficiente de la regresión 1 (D=1): {beta1_1:1.4f}')\n",
    "print(f'Coeficiente de la regresión 2 (D=0): {beta2_1:1.4f}')\n",
    "print(f'Coeficiente de la regresión 3:       {beta3_1:1.4f}')"
   ]
  },
  {
   "cell_type": "code",
   "execution_count": null,
   "id": "d5417d89",
   "metadata": {},
   "outputs": [],
   "source": []
  }
 ],
 "metadata": {
  "kernelspec": {
   "display_name": "Python 3 (ipykernel)",
   "language": "python",
   "name": "python3"
  },
  "language_info": {
   "codemirror_mode": {
    "name": "ipython",
    "version": 3
   },
   "file_extension": ".py",
   "mimetype": "text/x-python",
   "name": "python",
   "nbconvert_exporter": "python",
   "pygments_lexer": "ipython3",
   "version": "3.10.9"
  }
 },
 "nbformat": 4,
 "nbformat_minor": 5
}
